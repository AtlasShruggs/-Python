{
 "cells": [
  {
   "cell_type": "markdown",
   "id": "9563498b",
   "metadata": {},
   "source": [
    "## Метод append()"
   ]
  },
  {
   "cell_type": "markdown",
   "id": "c841ae26",
   "metadata": {},
   "source": [
    "Нужен для добавления новых элементов в список:"
   ]
  },
  {
   "cell_type": "code",
   "execution_count": 2,
   "id": "73c82063",
   "metadata": {},
   "outputs": [
    {
     "data": {
      "text/plain": [
       "[1, 3, 10, 20, 34]"
      ]
     },
     "execution_count": 2,
     "metadata": {},
     "output_type": "execute_result"
    }
   ],
   "source": [
    "num = [1, 3, 10]\n",
    "num.append(20)\n",
    "num.append(34)\n",
    "num"
   ]
  },
  {
   "cell_type": "markdown",
   "id": "d3448858",
   "metadata": {},
   "source": [
    "## Метод extend()"
   ]
  },
  {
   "cell_type": "markdown",
   "id": "26d400af",
   "metadata": {},
   "source": [
    "Также нужен для добавления новых элементов в список. Может добавлять 1 список к другому (конкатенация):"
   ]
  },
  {
   "cell_type": "code",
   "execution_count": 4,
   "id": "a47390b5",
   "metadata": {},
   "outputs": [
    {
     "data": {
      "text/plain": [
       "['a', 'b', 'c', 'd', 'e', 'f']"
      ]
     },
     "execution_count": 4,
     "metadata": {},
     "output_type": "execute_result"
    }
   ],
   "source": [
    "w1 = ['a', 'b', 'c']\n",
    "w2 = ['d', 'e', 'f']\n",
    "w1.extend(w2)\n",
    "w1"
   ]
  },
  {
   "cell_type": "markdown",
   "id": "4c5e8dae",
   "metadata": {},
   "source": [
    "Разница между методами становится видна, когда вместо списка в extend() мы передаем строку:"
   ]
  },
  {
   "cell_type": "code",
   "execution_count": 7,
   "id": "6156598e",
   "metadata": {},
   "outputs": [
    {
     "name": "stdout",
     "output_type": "stream",
     "text": [
      "['a', 'b', 'c', 'p', 'y', 't', 'h', 'o', 'n']\n",
      "['d', 'e', 'f', 'python']\n"
     ]
    }
   ],
   "source": [
    "w1 = ['a', 'b', 'c']\n",
    "w1.extend('python')\n",
    "print(w1)\n",
    "w2.append('python')\n",
    "print(w2)"
   ]
  },
  {
   "cell_type": "code",
   "execution_count": 13,
   "id": "c1d81ab2",
   "metadata": {},
   "outputs": [
    {
     "name": "stdout",
     "output_type": "stream",
     "text": [
      "t\n"
     ]
    }
   ],
   "source": [
    "print(w2[3][2])"
   ]
  },
  {
   "cell_type": "markdown",
   "id": "af6ae260",
   "metadata": {},
   "source": [
    "## Оператор del"
   ]
  },
  {
   "cell_type": "markdown",
   "id": "35080df4",
   "metadata": {},
   "source": [
    "С помощью оператора del можно удалять элементы списка:"
   ]
  },
  {
   "cell_type": "code",
   "execution_count": 9,
   "id": "a426f71d",
   "metadata": {},
   "outputs": [
    {
     "name": "stdout",
     "output_type": "stream",
     "text": [
      "[1, 2, 3, 4, 5, 6, 7, 8, 9]\n",
      "[1, 2, 3, 4, 5, 7, 8, 9]\n"
     ]
    }
   ],
   "source": [
    "nums = list(range(1,10))\n",
    "print(nums)\n",
    "del nums[5]\n",
    "print(nums)"
   ]
  },
  {
   "cell_type": "code",
   "execution_count": 11,
   "id": "7081b5ec",
   "metadata": {},
   "outputs": [],
   "source": [
    "if (5,7) in nums:\n",
    "    print(1)"
   ]
  },
  {
   "cell_type": "code",
   "execution_count": 18,
   "id": "9171db57",
   "metadata": {},
   "outputs": [
    {
     "name": "stdout",
     "output_type": "stream",
     "text": [
      "7\n"
     ]
    }
   ],
   "source": [
    "print(nums.index(max(nums)))"
   ]
  },
  {
   "cell_type": "markdown",
   "id": "ae9584f2",
   "metadata": {},
   "source": [
    "## Метод insert()"
   ]
  },
  {
   "cell_type": "markdown",
   "id": "677461c3",
   "metadata": {},
   "source": [
    "Метод insert() позволяет добавлять элемент в список в заданной позиции.\n",
    "Аргументы: \n",
    "- index - место вставки, работает как обычные индексы\n",
    "- value - значение / элемент, который нужно вставить\n",
    "\n",
    "Если индекс = (-1) элемент вставится в начало списка.\n",
    "Если индекс выходит за рамки индексов списка - элемент вставится в конец"
   ]
  },
  {
   "cell_type": "code",
   "execution_count": 19,
   "id": "419c3852",
   "metadata": {},
   "outputs": [
    {
     "name": "stdout",
     "output_type": "stream",
     "text": [
      "[1, 2, 3, 4, 5, 6, 7, 8, 9]\n",
      "[1, 2, 3, 4, 5, 'Mario', 6, 7, 8, 9]\n"
     ]
    }
   ],
   "source": [
    "nums = list(range(1,10))\n",
    "print(nums)\n",
    "nums.insert(5, 'Mario')\n",
    "print(nums)"
   ]
  },
  {
   "cell_type": "markdown",
   "id": "9b727bce",
   "metadata": {},
   "source": [
    "## Метод index()"
   ]
  },
  {
   "cell_type": "markdown",
   "id": "3919d88f",
   "metadata": {},
   "source": [
    "Метод index() возвращает индекс первого элемента списка, значение которого совпадает с запросом."
   ]
  },
  {
   "cell_type": "code",
   "execution_count": 40,
   "id": "b900b16f",
   "metadata": {},
   "outputs": [
    {
     "name": "stdout",
     "output_type": "stream",
     "text": [
      "[1, 2, 3, 4, 5, 'Mario', 6, 7, 8, 9]\n"
     ]
    },
    {
     "data": {
      "text/plain": [
       "5"
      ]
     },
     "execution_count": 40,
     "metadata": {},
     "output_type": "execute_result"
    }
   ],
   "source": [
    "nums = list(range(1,10))\n",
    "nums.insert(5, 'Mario')\n",
    "print(nums)\n",
    "nums.index('Mario')"
   ]
  },
  {
   "cell_type": "code",
   "execution_count": 5,
   "id": "22a0bd9b",
   "metadata": {},
   "outputs": [
    {
     "data": {
      "text/plain": [
       "{'a': 2, 'b': 3}"
      ]
     },
     "execution_count": 5,
     "metadata": {},
     "output_type": "execute_result"
    }
   ],
   "source": [
    "d = dict(zip(['a','b'],[2,3]))\n",
    "d"
   ]
  },
  {
   "cell_type": "code",
   "execution_count": 45,
   "id": "55890f5a",
   "metadata": {},
   "outputs": [
    {
     "data": {
      "text/plain": [
       "17"
      ]
     },
     "execution_count": 45,
     "metadata": {},
     "output_type": "execute_result"
    }
   ],
   "source": [
    "nums3 = list(range(2,20))\n",
    "nums3.index(max(nums3))"
   ]
  },
  {
   "cell_type": "markdown",
   "id": "ae28ebba",
   "metadata": {},
   "source": [
    "## Метод remove()"
   ]
  },
  {
   "cell_type": "markdown",
   "id": "5587ae30",
   "metadata": {},
   "source": [
    "Метод remove() удаляет первый элемент списка, значение которого является искомому.\n",
    "\n",
    "При этом все остальные элементы списка сдвигаются на 1 позицию:"
   ]
  },
  {
   "cell_type": "code",
   "execution_count": 23,
   "id": "884343f8",
   "metadata": {},
   "outputs": [
    {
     "name": "stdout",
     "output_type": "stream",
     "text": [
      "[1, 2, 3, 4, 5, 'Mario', 6, 7, 8, 9]\n",
      "[1, 2, 3, 4, 5, 6, 7, 8, 9]\n"
     ]
    }
   ],
   "source": [
    "nums = list(range(1,10))\n",
    "nums.insert(5, 'Mario')\n",
    "print(nums)\n",
    "nums.remove('Mario')\n",
    "print(nums)"
   ]
  },
  {
   "cell_type": "markdown",
   "id": "fb36f220",
   "metadata": {},
   "source": [
    "## Метод pop()"
   ]
  },
  {
   "cell_type": "markdown",
   "id": "52b3088b",
   "metadata": {},
   "source": [
    "Метод pop() удаляет элемент списка по указанному индексу и возвращает его.\n",
    "\n",
    "При этом все остальные элементы списка сдвигаются на 1 позицию.\n",
    "\n",
    "Если индекс не указан - удаляется последний элемент списка"
   ]
  },
  {
   "cell_type": "code",
   "execution_count": 27,
   "id": "d36bbdad",
   "metadata": {},
   "outputs": [
    {
     "name": "stdout",
     "output_type": "stream",
     "text": [
      "[1, 2, 3, 4, 5, 'Mario', 6, 7, 8, 9]\n",
      "Mario\n",
      "[1, 2, 3, 4, 5, 6, 7, 8, 9]\n",
      "9\n",
      "[1, 2, 3, 4, 5, 6, 7, 8]\n"
     ]
    }
   ],
   "source": [
    "nums = list(range(1,10))\n",
    "nums.insert(5, 'Mario')\n",
    "print(nums)\n",
    "print(nums.pop(5))\n",
    "print(nums)\n",
    "print(nums.pop())\n",
    "print(nums)"
   ]
  },
  {
   "cell_type": "markdown",
   "id": "d9fef3a1",
   "metadata": {},
   "source": [
    "## Метод count()"
   ]
  },
  {
   "cell_type": "markdown",
   "id": "3d42a3ea",
   "metadata": {},
   "source": [
    "Метод count() подсчитывает кол-во элементов списка, которые равны передаваемому значению:"
   ]
  },
  {
   "cell_type": "code",
   "execution_count": 31,
   "id": "4c6249dd",
   "metadata": {},
   "outputs": [
    {
     "name": "stdout",
     "output_type": "stream",
     "text": [
      "[1, 2, 3, 4, 5, 'Mario', 6, 7, 8, 9]\n",
      "1\n",
      "0\n"
     ]
    }
   ],
   "source": [
    "nums = list(range(1,10))\n",
    "nums.insert(5, 'Mario')\n",
    "print(nums)\n",
    "print(nums.count('Mario'))\n",
    "print(nums.count(10))"
   ]
  },
  {
   "cell_type": "markdown",
   "id": "cbcdae19",
   "metadata": {},
   "source": [
    "## Метод reverse()"
   ]
  },
  {
   "cell_type": "markdown",
   "id": "ab9b33d9",
   "metadata": {},
   "source": [
    "Метод reverse() делает порядок элементов в списке обратным:"
   ]
  },
  {
   "cell_type": "code",
   "execution_count": 33,
   "id": "89a9caf4",
   "metadata": {},
   "outputs": [
    {
     "name": "stdout",
     "output_type": "stream",
     "text": [
      "[9, 8, 7, 6, 'Mario', 5, 4, 3, 2, 1]\n"
     ]
    }
   ],
   "source": [
    "nums = list(range(1,10))\n",
    "nums.insert(5, 'Mario')\n",
    "nums.reverse()\n",
    "print(nums)"
   ]
  },
  {
   "cell_type": "markdown",
   "id": "63e018ce",
   "metadata": {},
   "source": [
    "## Метод clear()"
   ]
  },
  {
   "cell_type": "markdown",
   "id": "4e9992b2",
   "metadata": {},
   "source": [
    "Метод clear() удаляет все элементы списка, очищая его:"
   ]
  },
  {
   "cell_type": "code",
   "execution_count": 38,
   "id": "7b12e669",
   "metadata": {},
   "outputs": [
    {
     "name": "stdout",
     "output_type": "stream",
     "text": [
      "[9, 8, 7, 6, 'Mario', 5, 4, 3, 2, 1]\n",
      "[]\n"
     ]
    }
   ],
   "source": [
    "nums = list(range(1,10))\n",
    "nums.insert(5, 'Mario')\n",
    "nums.reverse()\n",
    "print(nums)\n",
    "nums.clear()\n",
    "print(nums)"
   ]
  },
  {
   "cell_type": "markdown",
   "id": "781ee209",
   "metadata": {},
   "source": [
    "## Метод copy()"
   ]
  },
  {
   "cell_type": "markdown",
   "id": "f6362f5d",
   "metadata": {},
   "source": [
    "Метод copy() создает копию списка:"
   ]
  },
  {
   "cell_type": "code",
   "execution_count": 37,
   "id": "3fa0c8c1",
   "metadata": {},
   "outputs": [
    {
     "name": "stdout",
     "output_type": "stream",
     "text": [
      "[1, 2, 3, 4, 5, 'Mario', 6, 7, 8, 9]\n",
      "[1, 2, 3, 4, 5, 'Mario', 6, 7, 8, 9]\n"
     ]
    }
   ],
   "source": [
    "nums = list(range(1,10))\n",
    "nums.insert(5, 'Mario')\n",
    "print(nums)\n",
    "nums2 = nums.copy()\n",
    "print(nums2)"
   ]
  },
  {
   "cell_type": "markdown",
   "id": "7e6ef067",
   "metadata": {},
   "source": [
    "## Метод sort()"
   ]
  },
  {
   "cell_type": "markdown",
   "id": "4b8179c6",
   "metadata": {},
   "source": [
    "Метод sort() сортирует список в порядке возрастания; для того, чтобы отсортировать в порядке убывания, необходимо передать параметр reverse=True:"
   ]
  },
  {
   "cell_type": "code",
   "execution_count": 57,
   "id": "5d6f2ca5",
   "metadata": {},
   "outputs": [
    {
     "name": "stdout",
     "output_type": "stream",
     "text": [
      "[1, 2, 3, 4, 5, 6, 7, 8, 9]\n",
      "[7, 8, 6, 5, 3, 1, 4, 2, 9]\n"
     ]
    }
   ],
   "source": [
    "import random\n",
    "nums2 = list(range(1,10))\n",
    "print(nums2)\n",
    "random.shuffle(nums2)\n",
    "print(nums2)"
   ]
  },
  {
   "cell_type": "code",
   "execution_count": 59,
   "id": "a8d9925a",
   "metadata": {},
   "outputs": [
    {
     "name": "stdout",
     "output_type": "stream",
     "text": [
      "[1, 2, 3, 4, 5, 6, 7, 8, 9]\n",
      "[9, 8, 7, 6, 5, 4, 3, 2, 1]\n"
     ]
    }
   ],
   "source": [
    "nums2.sort()\n",
    "print(nums2)\n",
    "nums2.sort(reverse=True)\n",
    "print(nums2)"
   ]
  },
  {
   "cell_type": "code",
   "execution_count": 73,
   "id": "9368bd4d",
   "metadata": {},
   "outputs": [
    {
     "data": {
      "text/plain": [
       "True"
      ]
     },
     "execution_count": 73,
     "metadata": {},
     "output_type": "execute_result"
    }
   ],
   "source": [
    "lst = '7-301-447-5820'\n",
    "''.join(lst.split('-')).isdigit()"
   ]
  },
  {
   "cell_type": "code",
   "execution_count": 75,
   "id": "41b20947",
   "metadata": {},
   "outputs": [
    {
     "data": {
      "text/plain": [
       "'7'"
      ]
     },
     "execution_count": 75,
     "metadata": {},
     "output_type": "execute_result"
    }
   ],
   "source": [
    "lst[0]"
   ]
  },
  {
   "cell_type": "code",
   "execution_count": 76,
   "id": "dc430192",
   "metadata": {},
   "outputs": [
    {
     "data": {
      "text/plain": [
       "['123456']"
      ]
     },
     "execution_count": 76,
     "metadata": {},
     "output_type": "execute_result"
    }
   ],
   "source": [
    "sadf = '123456'\n",
    "sadf.split()"
   ]
  },
  {
   "cell_type": "code",
   "execution_count": 79,
   "id": "89a06454",
   "metadata": {},
   "outputs": [
    {
     "name": "stdout",
     "output_type": "stream",
     "text": [
      "1 2 3\n",
      "5 6\n",
      "None\n"
     ]
    }
   ],
   "source": [
    "# объявление функции\n",
    "def merge(list1, list2):\n",
    "    lst = (list1 + list2)\n",
    "    return lst.sort()\n",
    "# считываем данные\n",
    "numbers1 = [int(c) for c in input().split()]\n",
    "numbers2 = [int(c) for c in input().split()]\n",
    "\n",
    "# вызываем функцию\n",
    "print(merge(numbers1, numbers2))"
   ]
  },
  {
   "cell_type": "code",
   "execution_count": 84,
   "id": "4890b3b1",
   "metadata": {},
   "outputs": [
    {
     "name": "stdout",
     "output_type": "stream",
     "text": [
      "one\n",
      "wo\n",
      "ree\n"
     ]
    }
   ],
   "source": [
    "nums = ['one', 'two', 'three']\n",
    "for i in range(len(nums)):\n",
    "    print(nums[i][i:])"
   ]
  },
  {
   "cell_type": "code",
   "execution_count": null,
   "id": "6fed1398",
   "metadata": {},
   "outputs": [],
   "source": []
  },
  {
   "cell_type": "code",
   "execution_count": 81,
   "id": "8741f99e",
   "metadata": {},
   "outputs": [
    {
     "name": "stdout",
     "output_type": "stream",
     "text": [
      "камень\n",
      "Спок\n",
      "Руслан\n"
     ]
    }
   ],
   "source": [
    "g = ('ножницы', 'бумага', 'камень', 'ящерица', 'Спок')\n",
    "dist = (g.index(input()) - g.index(input())) % len(g)\n",
    "print(('ничья', 'Тимур', 'Руслан')[dist and dist % 2 + 1])"
   ]
  },
  {
   "cell_type": "code",
   "execution_count": 87,
   "id": "fe612961",
   "metadata": {},
   "outputs": [
    {
     "name": "stdout",
     "output_type": "stream",
     "text": [
      "9\n",
      "osfjwoiergwoignaewpjofwoeijfnwfonewfoignewtowenffnoeiwowjfninoiwfen\n",
      "anton\n",
      "aoooooooooontooooo\n",
      "elelelelelelelelelel\n",
      "ntoneeee\n",
      "tonee\n",
      "253235235a5323352n25235352t253523523235oo235523523523n\n",
      "antoooooooooooooooooooooooooooooooooooooooooooooooooooon\n",
      "unton\n",
      "a\n",
      "aewpjofwoeijfnwfonewfoignewtowenffnoeiwowjfninoiwfen\n",
      "1\n",
      "n\n",
      "nwfonewfoignewtowenffnoeiwowjfninoiwfen\n",
      "2\n",
      "t\n",
      "towenffnoeiwowjfninoiwfen\n",
      "3\n",
      "o\n",
      "owenffnoeiwowjfninoiwfen\n",
      "4\n",
      "n\n",
      "nffnoeiwowjfninoiwfen\n",
      "5\n",
      "1 a\n",
      "anton\n",
      "1\n",
      "n\n",
      "nton\n",
      "2\n",
      "t\n",
      "ton\n",
      "3\n",
      "o\n",
      "on\n",
      "4\n",
      "n\n",
      "n\n",
      "5\n",
      "2 a\n",
      "aoooooooooontooooo\n",
      "1\n",
      "n\n",
      "ntooooo\n",
      "2\n",
      "t\n",
      "tooooo\n",
      "3\n",
      "o\n",
      "ooooo\n",
      "4\n",
      "n\n",
      "a\n",
      "n\n",
      "t\n",
      "o\n",
      "n\n",
      "a\n",
      "n\n",
      "ntoneeee\n",
      "1\n",
      "t\n",
      "toneeee\n",
      "2\n",
      "o\n",
      "oneeee\n",
      "3\n",
      "n\n",
      "neeee\n",
      "4\n",
      "a\n",
      "n\n",
      "nee\n",
      "1\n",
      "t\n",
      "o\n",
      "n\n",
      "nee\n",
      "2\n",
      "a\n",
      "a5323352n25235352t253523523235oo235523523523n\n",
      "1\n",
      "n\n",
      "n25235352t253523523235oo235523523523n\n",
      "2\n",
      "t\n",
      "t253523523235oo235523523523n\n",
      "3\n",
      "o\n",
      "oo235523523523n\n",
      "4\n",
      "n\n",
      "n\n",
      "5\n",
      "2 a\n",
      "antoooooooooooooooooooooooooooooooooooooooooooooooooooon\n",
      "1\n",
      "n\n",
      "ntoooooooooooooooooooooooooooooooooooooooooooooooooooon\n",
      "2\n",
      "t\n",
      "toooooooooooooooooooooooooooooooooooooooooooooooooooon\n",
      "3\n",
      "o\n",
      "oooooooooooooooooooooooooooooooooooooooooooooooooooon\n",
      "4\n",
      "n\n",
      "n\n",
      "5\n",
      "2 a\n",
      "n\n",
      "nton\n",
      "1\n",
      "t\n",
      "ton\n",
      "2\n",
      "o\n",
      "on\n",
      "3\n",
      "n\n",
      "n\n",
      "4\n"
     ]
    }
   ],
   "source": [
    "# put your python code here\n",
    "l = [input() for i in range(int(input()))]\n",
    "for i in range(len(l)):\n",
    "    k = 0\n",
    "    for el in 'anton':\n",
    "        print(el)\n",
    "        if el in l[i]:\n",
    "            l[i] = l[i][l[i].find(el):]\n",
    "            print(l[i])\n",
    "            k += 1\n",
    "            print(k)\n",
    "    if k == 5:\n",
    "        print(i+1,end=' ')\n",
    "    \n",
    "\n",
    "\n",
    "\n",
    "\n"
   ]
  },
  {
   "cell_type": "code",
   "execution_count": 89,
   "id": "8cfbc357",
   "metadata": {},
   "outputs": [
    {
     "name": "stdout",
     "output_type": "stream",
     "text": [
      "b\n"
     ]
    }
   ],
   "source": [
    "print(chr(98))"
   ]
  }
 ],
 "metadata": {
  "kernelspec": {
   "display_name": "Python 3 (ipykernel)",
   "language": "python",
   "name": "python3"
  },
  "language_info": {
   "codemirror_mode": {
    "name": "ipython",
    "version": 3
   },
   "file_extension": ".py",
   "mimetype": "text/x-python",
   "name": "python",
   "nbconvert_exporter": "python",
   "pygments_lexer": "ipython3",
   "version": "3.9.7"
  },
  "toc": {
   "base_numbering": 1,
   "nav_menu": {},
   "number_sections": true,
   "sideBar": true,
   "skip_h1_title": false,
   "title_cell": "Оглавление",
   "title_sidebar": "Оглавление",
   "toc_cell": false,
   "toc_position": {},
   "toc_section_display": true,
   "toc_window_display": true
  }
 },
 "nbformat": 4,
 "nbformat_minor": 5
}
