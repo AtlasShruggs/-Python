{
 "cells": [
  {
   "cell_type": "code",
   "execution_count": null,
   "id": "c7db90cd",
   "metadata": {},
   "outputs": [],
   "source": []
  },
  {
   "cell_type": "markdown",
   "id": "301cb8c2",
   "metadata": {},
   "source": [
    "# Методы строк"
   ]
  },
  {
   "cell_type": "markdown",
   "id": "b24b7af4",
   "metadata": {},
   "source": [
    "## .split()"
   ]
  },
  {
   "cell_type": "markdown",
   "id": "5344bf96",
   "metadata": {},
   "source": [
    "Разделяет строку по заданному сепаратору.\n",
    "\n",
    "Также можно передать кол-во \"разделений\", которое можно сделать (слева-направо)"
   ]
  },
  {
   "cell_type": "code",
   "execution_count": 1,
   "id": "4b7422bf",
   "metadata": {},
   "outputs": [
    {
     "name": "stdout",
     "output_type": "stream",
     "text": [
      "dsfjhsdfj dsojsdofj sdofjsd sdfsdf\n"
     ]
    }
   ],
   "source": [
    "s = input()"
   ]
  },
  {
   "cell_type": "code",
   "execution_count": 2,
   "id": "c3e17b12",
   "metadata": {},
   "outputs": [
    {
     "name": "stdout",
     "output_type": "stream",
     "text": [
      "['dsfjhsdfj', 'dsojsdofj', 'sdofjsd', 'sdfsdf']\n"
     ]
    }
   ],
   "source": [
    "print(s.split())"
   ]
  },
  {
   "cell_type": "code",
   "execution_count": 3,
   "id": "16ec89bb",
   "metadata": {},
   "outputs": [
    {
     "name": "stdout",
     "output_type": "stream",
     "text": [
      "['dsfjhsdfj', 'dsojsdofj', 'sdofjsd sdfsdf']\n"
     ]
    }
   ],
   "source": [
    "print(s.split(' ', 2))"
   ]
  },
  {
   "cell_type": "markdown",
   "id": "24fef504",
   "metadata": {},
   "source": [
    "## .count()"
   ]
  },
  {
   "cell_type": "markdown",
   "id": "68fce934",
   "metadata": {},
   "source": [
    "Подсчитывает кол-во подстрок в строке. Можно начинать не с начала строки, или не до конца - тогда надо передавать метод как:"
   ]
  },
  {
   "cell_type": "code",
   "execution_count": 4,
   "id": "fcf8ba31",
   "metadata": {},
   "outputs": [
    {
     "name": "stdout",
     "output_type": "stream",
     "text": [
      "aabdfjufdabsdalohaaa\n"
     ]
    }
   ],
   "source": [
    "s = input()"
   ]
  },
  {
   "cell_type": "code",
   "execution_count": 5,
   "id": "faf2c398",
   "metadata": {},
   "outputs": [
    {
     "data": {
      "text/plain": [
       "7"
      ]
     },
     "execution_count": 5,
     "metadata": {},
     "output_type": "execute_result"
    }
   ],
   "source": [
    "s.count('a')"
   ]
  },
  {
   "cell_type": "code",
   "execution_count": 6,
   "id": "683835bb",
   "metadata": {},
   "outputs": [
    {
     "data": {
      "text/plain": [
       "2"
      ]
     },
     "execution_count": 6,
     "metadata": {},
     "output_type": "execute_result"
    }
   ],
   "source": [
    "s.count('a',1,10)"
   ]
  },
  {
   "cell_type": "markdown",
   "id": "52e8257a",
   "metadata": {},
   "source": [
    "## .startswith(), endwith()"
   ]
  },
  {
   "cell_type": "markdown",
   "id": "7f3a154a",
   "metadata": {},
   "source": [
    "Определяет, начинается ли строка / заканчивается ли строка подстрокой"
   ]
  },
  {
   "cell_type": "code",
   "execution_count": 7,
   "id": "27cd29f4",
   "metadata": {},
   "outputs": [
    {
     "name": "stdout",
     "output_type": "stream",
     "text": [
      "foasdkjdffoasdad\n"
     ]
    }
   ],
   "source": [
    "s = input()"
   ]
  },
  {
   "cell_type": "code",
   "execution_count": 8,
   "id": "a468fdfe",
   "metadata": {},
   "outputs": [
    {
     "data": {
      "text/plain": [
       "True"
      ]
     },
     "execution_count": 8,
     "metadata": {},
     "output_type": "execute_result"
    }
   ],
   "source": [
    "s.startswith('fo')"
   ]
  },
  {
   "cell_type": "code",
   "execution_count": 9,
   "id": "9dc9c0a4",
   "metadata": {},
   "outputs": [
    {
     "data": {
      "text/plain": [
       "True"
      ]
     },
     "execution_count": 9,
     "metadata": {},
     "output_type": "execute_result"
    }
   ],
   "source": [
    "s.endswith('ad')"
   ]
  },
  {
   "cell_type": "markdown",
   "id": "6d97bda3",
   "metadata": {},
   "source": [
    "## .find(), rfind()"
   ]
  },
  {
   "cell_type": "markdown",
   "id": "727436ba",
   "metadata": {},
   "source": [
    "Находит индекс первого/последнего вхождения подстроки в строку. Если подстрока в строке отсутствует - вернет (-1):"
   ]
  },
  {
   "cell_type": "code",
   "execution_count": 10,
   "id": "e6bb2515",
   "metadata": {},
   "outputs": [
    {
     "name": "stdout",
     "output_type": "stream",
     "text": [
      "ncjdiancdia\n"
     ]
    }
   ],
   "source": [
    "s = input()"
   ]
  },
  {
   "cell_type": "code",
   "execution_count": 11,
   "id": "1543cace",
   "metadata": {},
   "outputs": [
    {
     "data": {
      "text/plain": [
       "0"
      ]
     },
     "execution_count": 11,
     "metadata": {},
     "output_type": "execute_result"
    }
   ],
   "source": [
    "s.find('nc')"
   ]
  },
  {
   "cell_type": "code",
   "execution_count": 12,
   "id": "55135bf8",
   "metadata": {},
   "outputs": [
    {
     "data": {
      "text/plain": [
       "8"
      ]
     },
     "execution_count": 12,
     "metadata": {},
     "output_type": "execute_result"
    }
   ],
   "source": [
    "s.rfind('dia')"
   ]
  },
  {
   "cell_type": "markdown",
   "id": "d2f7b30e",
   "metadata": {},
   "source": [
    "### Важно:"
   ]
  },
  {
   "cell_type": "code",
   "execution_count": 13,
   "id": "52d50fe2",
   "metadata": {},
   "outputs": [
    {
     "data": {
      "text/plain": [
       "False"
      ]
     },
     "execution_count": 13,
     "metadata": {},
     "output_type": "execute_result"
    }
   ],
   "source": [
    "s.find('cic') == s.find('c')"
   ]
  },
  {
   "cell_type": "markdown",
   "id": "161a073c",
   "metadata": {},
   "source": [
    "## .strip(), lstrip(), rstrip()"
   ]
  },
  {
   "cell_type": "markdown",
   "id": "46468603",
   "metadata": {},
   "source": [
    "Удаляет пробелы с обеих сторон / слева / справа от другх символов в строке"
   ]
  },
  {
   "cell_type": "code",
   "execution_count": 14,
   "id": "f56b4e6e",
   "metadata": {},
   "outputs": [
    {
     "name": "stdout",
     "output_type": "stream",
     "text": [
      "     adfijhadlfij      \n"
     ]
    }
   ],
   "source": [
    "s = input()"
   ]
  },
  {
   "cell_type": "code",
   "execution_count": 15,
   "id": "d801cbe4",
   "metadata": {},
   "outputs": [
    {
     "data": {
      "text/plain": [
       "'adfijhadlfij'"
      ]
     },
     "execution_count": 15,
     "metadata": {},
     "output_type": "execute_result"
    }
   ],
   "source": [
    "s.strip()"
   ]
  },
  {
   "cell_type": "code",
   "execution_count": 16,
   "id": "6b19c9be",
   "metadata": {},
   "outputs": [
    {
     "data": {
      "text/plain": [
       "'adfijhadlfij      '"
      ]
     },
     "execution_count": 16,
     "metadata": {},
     "output_type": "execute_result"
    }
   ],
   "source": [
    "s.lstrip()"
   ]
  },
  {
   "cell_type": "code",
   "execution_count": 17,
   "id": "a1de6b95",
   "metadata": {},
   "outputs": [
    {
     "data": {
      "text/plain": [
       "'     adfijhadlfij'"
      ]
     },
     "execution_count": 17,
     "metadata": {},
     "output_type": "execute_result"
    }
   ],
   "source": [
    "s.rstrip()"
   ]
  },
  {
   "cell_type": "markdown",
   "id": "5b7ac88a",
   "metadata": {},
   "source": [
    "### Важно:"
   ]
  },
  {
   "cell_type": "markdown",
   "id": "26ad4a89",
   "metadata": {},
   "source": [
    "Если в методы strip() передать символ - из начала/конца/с обеих сторон строки исчезнут не пробелы, а указанные символы или последовательность.\n",
    "\n",
    "Более того, исчезнет не сама последовательность, как строго указано в передаваемом аргументе, а любая последовательность из этих символов"
   ]
  },
  {
   "cell_type": "code",
   "execution_count": 18,
   "id": "2702645e",
   "metadata": {},
   "outputs": [
    {
     "name": "stdout",
     "output_type": "stream",
     "text": [
      "*****sdlkfjnsdf*****\n"
     ]
    }
   ],
   "source": [
    "s = input()"
   ]
  },
  {
   "cell_type": "code",
   "execution_count": 19,
   "id": "f4c409c5",
   "metadata": {},
   "outputs": [
    {
     "name": "stdout",
     "output_type": "stream",
     "text": [
      "sdlkfjnsdf\n",
      "sdlkfjnsdf*****\n",
      "*****sdlkfjnsdf\n"
     ]
    }
   ],
   "source": [
    "print(s.strip('*'), s.lstrip('*'), s.rstrip('*'), sep='\\n')"
   ]
  },
  {
   "cell_type": "markdown",
   "id": "da46325c",
   "metadata": {},
   "source": [
    "## .replace()"
   ]
  },
  {
   "cell_type": "markdown",
   "id": "ddfed3c1",
   "metadata": {},
   "source": [
    "Заменяет подстроку в строке на другую"
   ]
  },
  {
   "cell_type": "code",
   "execution_count": 20,
   "id": "776b1fa6",
   "metadata": {},
   "outputs": [
    {
     "name": "stdout",
     "output_type": "stream",
     "text": [
      "saddikjadfisadppjsdjigf\n"
     ]
    }
   ],
   "source": [
    "s = input()"
   ]
  },
  {
   "cell_type": "code",
   "execution_count": 21,
   "id": "15a553cf",
   "metadata": {},
   "outputs": [
    {
     "data": {
      "text/plain": [
       "'saddikjadfisadppj jigf'"
      ]
     },
     "execution_count": 21,
     "metadata": {},
     "output_type": "execute_result"
    }
   ],
   "source": [
    "s.replace('sd',' ')"
   ]
  },
  {
   "cell_type": "markdown",
   "id": "30eb28e0",
   "metadata": {},
   "source": [
    "### Важно:"
   ]
  },
  {
   "cell_type": "markdown",
   "id": "e3c9f027",
   "metadata": {},
   "source": [
    "Если в метод replace передать необязательный аргумент n - замена подстроки в строки произойдет n раз при подсчете слева направо:"
   ]
  },
  {
   "cell_type": "code",
   "execution_count": 22,
   "id": "cdf4b68e",
   "metadata": {},
   "outputs": [
    {
     "data": {
      "text/plain": [
       "'saddikjadfisadppjsdjigf'"
      ]
     },
     "execution_count": 22,
     "metadata": {},
     "output_type": "execute_result"
    }
   ],
   "source": [
    "s.replace('4',' ')"
   ]
  },
  {
   "cell_type": "code",
   "execution_count": 23,
   "id": "bf0686a8",
   "metadata": {},
   "outputs": [
    {
     "data": {
      "text/plain": [
       "'saddikjadfisadppjsdjigf'"
      ]
     },
     "execution_count": 23,
     "metadata": {},
     "output_type": "execute_result"
    }
   ],
   "source": [
    "s.replace('4',' ', 3)"
   ]
  },
  {
   "cell_type": "code",
   "execution_count": 24,
   "id": "c1dfeca8",
   "metadata": {},
   "outputs": [
    {
     "data": {
      "text/plain": [
       "'saddikjadfisadppjsdjigf'"
      ]
     },
     "execution_count": 24,
     "metadata": {},
     "output_type": "execute_result"
    }
   ],
   "source": [
    "s.lstrip()"
   ]
  },
  {
   "cell_type": "code",
   "execution_count": 25,
   "id": "47068988",
   "metadata": {},
   "outputs": [
    {
     "data": {
      "text/plain": [
       "'saddikjadfisadppjsdjigf'"
      ]
     },
     "execution_count": 25,
     "metadata": {},
     "output_type": "execute_result"
    }
   ],
   "source": [
    "s.rstrip()"
   ]
  },
  {
   "cell_type": "markdown",
   "id": "7e1f15c4",
   "metadata": {},
   "source": [
    "## .isalnum()"
   ]
  },
  {
   "cell_type": "markdown",
   "id": "e4786ad6",
   "metadata": {},
   "source": [
    "Проверяет, все ли символы строки - буквы и цифры"
   ]
  },
  {
   "cell_type": "code",
   "execution_count": 26,
   "id": "f56bf0ef",
   "metadata": {},
   "outputs": [
    {
     "ename": "KeyboardInterrupt",
     "evalue": "Interrupted by user",
     "output_type": "error",
     "traceback": [
      "\u001b[1;31m---------------------------------------------------------------------------\u001b[0m",
      "\u001b[1;31mKeyboardInterrupt\u001b[0m                         Traceback (most recent call last)",
      "\u001b[1;32mC:\\Users\\73B5~1\\AppData\\Local\\Temp/ipykernel_66196/3471571805.py\u001b[0m in \u001b[0;36m<module>\u001b[1;34m\u001b[0m\n\u001b[1;32m----> 1\u001b[1;33m \u001b[0ms\u001b[0m \u001b[1;33m=\u001b[0m \u001b[0minput\u001b[0m\u001b[1;33m(\u001b[0m\u001b[1;33m)\u001b[0m\u001b[1;33m\u001b[0m\u001b[1;33m\u001b[0m\u001b[0m\n\u001b[0m",
      "\u001b[1;32mC:\\ProgramData\\Anaconda3\\lib\\site-packages\\ipykernel\\kernelbase.py\u001b[0m in \u001b[0;36mraw_input\u001b[1;34m(self, prompt)\u001b[0m\n\u001b[0;32m   1004\u001b[0m                 \u001b[1;34m\"raw_input was called, but this frontend does not support input requests.\"\u001b[0m\u001b[1;33m\u001b[0m\u001b[1;33m\u001b[0m\u001b[0m\n\u001b[0;32m   1005\u001b[0m             )\n\u001b[1;32m-> 1006\u001b[1;33m         return self._input_request(\n\u001b[0m\u001b[0;32m   1007\u001b[0m             \u001b[0mstr\u001b[0m\u001b[1;33m(\u001b[0m\u001b[0mprompt\u001b[0m\u001b[1;33m)\u001b[0m\u001b[1;33m,\u001b[0m\u001b[1;33m\u001b[0m\u001b[1;33m\u001b[0m\u001b[0m\n\u001b[0;32m   1008\u001b[0m             \u001b[0mself\u001b[0m\u001b[1;33m.\u001b[0m\u001b[0m_parent_ident\u001b[0m\u001b[1;33m[\u001b[0m\u001b[1;34m\"shell\"\u001b[0m\u001b[1;33m]\u001b[0m\u001b[1;33m,\u001b[0m\u001b[1;33m\u001b[0m\u001b[1;33m\u001b[0m\u001b[0m\n",
      "\u001b[1;32mC:\\ProgramData\\Anaconda3\\lib\\site-packages\\ipykernel\\kernelbase.py\u001b[0m in \u001b[0;36m_input_request\u001b[1;34m(self, prompt, ident, parent, password)\u001b[0m\n\u001b[0;32m   1049\u001b[0m             \u001b[1;32mexcept\u001b[0m \u001b[0mKeyboardInterrupt\u001b[0m\u001b[1;33m:\u001b[0m\u001b[1;33m\u001b[0m\u001b[1;33m\u001b[0m\u001b[0m\n\u001b[0;32m   1050\u001b[0m                 \u001b[1;31m# re-raise KeyboardInterrupt, to truncate traceback\u001b[0m\u001b[1;33m\u001b[0m\u001b[1;33m\u001b[0m\u001b[0m\n\u001b[1;32m-> 1051\u001b[1;33m                 \u001b[1;32mraise\u001b[0m \u001b[0mKeyboardInterrupt\u001b[0m\u001b[1;33m(\u001b[0m\u001b[1;34m\"Interrupted by user\"\u001b[0m\u001b[1;33m)\u001b[0m \u001b[1;32mfrom\u001b[0m \u001b[1;32mNone\u001b[0m\u001b[1;33m\u001b[0m\u001b[1;33m\u001b[0m\u001b[0m\n\u001b[0m\u001b[0;32m   1052\u001b[0m             \u001b[1;32mexcept\u001b[0m \u001b[0mException\u001b[0m\u001b[1;33m:\u001b[0m\u001b[1;33m\u001b[0m\u001b[1;33m\u001b[0m\u001b[0m\n\u001b[0;32m   1053\u001b[0m                 \u001b[0mself\u001b[0m\u001b[1;33m.\u001b[0m\u001b[0mlog\u001b[0m\u001b[1;33m.\u001b[0m\u001b[0mwarning\u001b[0m\u001b[1;33m(\u001b[0m\u001b[1;34m\"Invalid Message:\"\u001b[0m\u001b[1;33m,\u001b[0m \u001b[0mexc_info\u001b[0m\u001b[1;33m=\u001b[0m\u001b[1;32mTrue\u001b[0m\u001b[1;33m)\u001b[0m\u001b[1;33m\u001b[0m\u001b[1;33m\u001b[0m\u001b[0m\n",
      "\u001b[1;31mKeyboardInterrupt\u001b[0m: Interrupted by user"
     ]
    }
   ],
   "source": [
    "s = input()"
   ]
  },
  {
   "cell_type": "code",
   "execution_count": null,
   "id": "8cc63dc9",
   "metadata": {},
   "outputs": [],
   "source": [
    "s.isalnum()"
   ]
  },
  {
   "cell_type": "code",
   "execution_count": null,
   "id": "50390fdc",
   "metadata": {},
   "outputs": [],
   "source": [
    "s = input()"
   ]
  },
  {
   "cell_type": "code",
   "execution_count": null,
   "id": "15bcdda3",
   "metadata": {},
   "outputs": [],
   "source": [
    "s.isalnum()"
   ]
  },
  {
   "cell_type": "markdown",
   "id": "f52abfee",
   "metadata": {},
   "source": [
    "## .isalpha() / .isdigit()"
   ]
  },
  {
   "cell_type": "markdown",
   "id": "bbe2613b",
   "metadata": {},
   "source": [
    "Проверяет, все ли символы строки - Буквы / Цифры:"
   ]
  },
  {
   "cell_type": "code",
   "execution_count": null,
   "id": "39566df4",
   "metadata": {},
   "outputs": [],
   "source": [
    "s = input()\n",
    "print(s.isalpha())\n",
    "s.isdigit()"
   ]
  },
  {
   "cell_type": "code",
   "execution_count": null,
   "id": "b084906a",
   "metadata": {},
   "outputs": [],
   "source": [
    "s = input()\n",
    "print(s.isalpha())\n",
    "s.isdigit()"
   ]
  },
  {
   "cell_type": "markdown",
   "id": "2e15dc99",
   "metadata": {},
   "source": [
    "## .islower() / .isupper()"
   ]
  },
  {
   "cell_type": "markdown",
   "id": "b9b6c1f9",
   "metadata": {},
   "source": [
    "Проверяет, все ли символы строки - нижнего / верхнего регистра:"
   ]
  },
  {
   "cell_type": "code",
   "execution_count": null,
   "id": "47a3ecd0",
   "metadata": {},
   "outputs": [],
   "source": [
    "s = input()\n",
    "print(s.islower())\n",
    "s.isupper()"
   ]
  },
  {
   "cell_type": "code",
   "execution_count": null,
   "id": "448f14b3",
   "metadata": {},
   "outputs": [],
   "source": [
    "s = input()\n",
    "print(s.islower())\n",
    "s.isupper()"
   ]
  },
  {
   "cell_type": "markdown",
   "id": "c0b6599f",
   "metadata": {},
   "source": [
    "## .isspace()"
   ]
  },
  {
   "cell_type": "markdown",
   "id": "25148a42",
   "metadata": {},
   "source": [
    "Проверяет, все ли символы строки - пробелы:"
   ]
  },
  {
   "cell_type": "code",
   "execution_count": null,
   "id": "17aaa956",
   "metadata": {},
   "outputs": [],
   "source": [
    "s = input()\n",
    "s.isspace()"
   ]
  },
  {
   "cell_type": "code",
   "execution_count": null,
   "id": "735d62aa",
   "metadata": {},
   "outputs": [],
   "source": [
    "s = input()\n",
    "s.isspace()"
   ]
  },
  {
   "cell_type": "markdown",
   "id": "48e13431",
   "metadata": {},
   "source": [
    "## .ljust()"
   ]
  },
  {
   "cell_type": "markdown",
   "id": "86ec5218",
   "metadata": {},
   "source": [
    "Осуществляет выравнивание по ширине, используя в качестве аргументов кол-во символов, которые надо добавить, и сами символы (добавляет их справа):"
   ]
  },
  {
   "cell_type": "code",
   "execution_count": null,
   "id": "61214dee",
   "metadata": {},
   "outputs": [],
   "source": [
    "print('a'.ljust(4, '+'))\n",
    "print('abc'.ljust(4, '+'))\n",
    "print('abcdef'.ljust(4,'+'))"
   ]
  },
  {
   "cell_type": "markdown",
   "id": "59db334d",
   "metadata": {},
   "source": [
    "## .rjust()"
   ]
  },
  {
   "cell_type": "markdown",
   "id": "1604026e",
   "metadata": {},
   "source": [
    "То же самое, но символы добавляет слева:"
   ]
  },
  {
   "cell_type": "code",
   "execution_count": null,
   "id": "c7da1fdb",
   "metadata": {},
   "outputs": [],
   "source": [
    "print('a'.rjust(4))\n",
    "print('abc'.rjust(4))\n",
    "print('abcdef'.rjust(4))"
   ]
  },
  {
   "cell_type": "markdown",
   "id": "0e5d8461",
   "metadata": {},
   "source": [
    "s = 'In {0}, someone paid {1} {2} for two pizzas.'.format('2010', '10k', 'Bitcoin')\n",
    "print(s)"
   ]
  },
  {
   "cell_type": "code",
   "execution_count": null,
   "id": "a042c967",
   "metadata": {},
   "outputs": [],
   "source": [
    "ord('a')"
   ]
  },
  {
   "cell_type": "code",
   "execution_count": null,
   "id": "30270bb8",
   "metadata": {},
   "outputs": [],
   "source": [
    "ord('z')"
   ]
  },
  {
   "cell_type": "code",
   "execution_count": null,
   "id": "b7e2796f",
   "metadata": {},
   "outputs": [],
   "source": [
    "rainbow = ['Red', 'Orange', 'Yellow', 'Green', 'Blue', 'Indigo', 'Violet']\n",
    "rainbow[3], rainbow[-1] = 'Зеленый', 'Фиолетовый'\n",
    "\n",
    "print()\n"
   ]
  },
  {
   "cell_type": "markdown",
   "id": "5be3d420",
   "metadata": {},
   "source": [
    "# Регулярные выражения"
   ]
  },
  {
   "cell_type": "markdown",
   "id": "88030f0f",
   "metadata": {},
   "source": [
    "Для работы с регулярными выражениями в Питоне используется модуль re:"
   ]
  },
  {
   "cell_type": "code",
   "execution_count": 27,
   "id": "62e7e68c",
   "metadata": {},
   "outputs": [],
   "source": [
    "import re"
   ]
  },
  {
   "cell_type": "markdown",
   "id": "95dcb372",
   "metadata": {},
   "source": [
    "## .match(pattern, string)"
   ]
  },
  {
   "cell_type": "markdown",
   "id": "733320e1",
   "metadata": {},
   "source": [
    "Функция re.match(pattern, string) проверяет есть ли искомая подстрока в строке (С ЕЁ НАЧАЛА), и выводит (совпадение) на экран.\n",
    "\n",
    "Если даже совпадение будет, но не с начала строки - результатом будет None:"
   ]
  },
  {
   "cell_type": "code",
   "execution_count": 28,
   "id": "31f3b67f",
   "metadata": {},
   "outputs": [
    {
     "name": "stdout",
     "output_type": "stream",
     "text": [
      "<re.Match object; span=(0, 5), match='jsdjj'>\n",
      "None\n"
     ]
    }
   ],
   "source": [
    "s = 'jsdjjdhf aekujhafd'\n",
    "matched = re.match(r'jsdjj', s)\n",
    "print(matched)\n",
    "matched = re.match(r'djj', s)\n",
    "print(matched)"
   ]
  },
  {
   "cell_type": "markdown",
   "id": "46a2511d",
   "metadata": {},
   "source": [
    "## .search(pattern, string)"
   ]
  },
  {
   "cell_type": "markdown",
   "id": "d5c766f2",
   "metadata": {},
   "source": [
    "Для того чтобы искать именно вхождение подстроки в строку, а не совпадение с шаблоном (в котором ключевой критерий - совпадение с начала строки), можно использовать функцию __re.search__:"
   ]
  },
  {
   "cell_type": "code",
   "execution_count": 29,
   "id": "e6d06e9b",
   "metadata": {},
   "outputs": [
    {
     "name": "stdout",
     "output_type": "stream",
     "text": [
      "<re.Match object; span=(0, 5), match='jsdjj'>\n",
      "<re.Match object; span=(2, 4), match='dj'>\n"
     ]
    }
   ],
   "source": [
    "s = 'jsdjjdhf aekujhafd'\n",
    "found = re.search(r'jsdjj', s)\n",
    "print(found)\n",
    "found = re.search(r'dj', s)\n",
    "print(found)"
   ]
  },
  {
   "cell_type": "markdown",
   "id": "79bc6fe7",
   "metadata": {},
   "source": [
    "## .findall(pattern, string)"
   ]
  },
  {
   "cell_type": "markdown",
   "id": "d51c3a91",
   "metadata": {},
   "source": [
    "__re.findall()__ позволяет найти ВСЕ вхождения подстроки в строку, но выводит уже не объект match, а список с найденными вхождениями:"
   ]
  },
  {
   "cell_type": "code",
   "execution_count": 30,
   "id": "5b5955b6",
   "metadata": {},
   "outputs": [
    {
     "name": "stdout",
     "output_type": "stream",
     "text": [
      "['jd', 'jd']\n",
      "['dj', 'dj']\n"
     ]
    }
   ],
   "source": [
    "s = 'jsdjjdjhf aekujdhafd'\n",
    "found = re.findall(r'jd', s)\n",
    "print(found)\n",
    "found = re.findall(r'dj', s)\n",
    "print(found)"
   ]
  },
  {
   "cell_type": "markdown",
   "id": "ddcbd7cf",
   "metadata": {},
   "source": [
    "## .sub(pattern, repl, string, max)"
   ]
  },
  {
   "cell_type": "markdown",
   "id": "13ec7837",
   "metadata": {},
   "source": [
    "__re.sub()__ позволяет найти и заменить все вхождения __pattern__ в __string__ на __repl__. При этом также можно передать необязательныйй аргумент __max__, который отвечает за количество замен:"
   ]
  },
  {
   "cell_type": "code",
   "execution_count": 31,
   "id": "48cbe398",
   "metadata": {},
   "outputs": [
    {
     "name": "stdout",
     "output_type": "stream",
     "text": [
      "['jsd', 'jdh']\n",
      "X_Xjjdjhf aekuX_Xafd\n"
     ]
    }
   ],
   "source": [
    "s = 'jsdjjdjhf aekujdhafd'\n",
    "pattern = r'j[sd][asdh]'\n",
    "found = re.findall(pattern, s)\n",
    "print(found)\n",
    "fixed = re.sub(pattern, 'X_X', s) # подставляем подстроку, на которую хотим заменить искомую\n",
    "print(fixed)"
   ]
  },
  {
   "cell_type": "code",
   "execution_count": 32,
   "id": "39bccee0",
   "metadata": {},
   "outputs": [
    {
     "name": "stdout",
     "output_type": "stream",
     "text": [
      "abc acb acc abb\n",
      "abc abc abc abc\n"
     ]
    }
   ],
   "source": [
    "st = 'abc acb acc abb'\n",
    "patt = r'a[bc][bc]'  # создаем паттерн\n",
    "fixed_1 = re.sub(patt, 'abc', st)     # делаем замены\n",
    "print(st)\n",
    "print(fixed_1)"
   ]
  },
  {
   "cell_type": "markdown",
   "id": "3ff52f2c",
   "metadata": {},
   "source": [
    "Важно - все эти функции найдут только самое длинное вхождение подстроки в строку:"
   ]
  },
  {
   "cell_type": "code",
   "execution_count": 33,
   "id": "123b3185",
   "metadata": {},
   "outputs": [
    {
     "name": "stdout",
     "output_type": "stream",
     "text": [
      "['abababaa']\n"
     ]
    }
   ],
   "source": [
    "s1 = 'abababaa'\n",
    "patt1 = r'a[ab]+a'\n",
    "print(re.findall(patt1, s1))"
   ]
  },
  {
   "cell_type": "markdown",
   "id": "d70bf6b7",
   "metadata": {},
   "source": [
    "В этом выражении подходят и подстроки aba, ababa, abababa, но функция выдала самое длинное значение"
   ]
  },
  {
   "cell_type": "markdown",
   "id": "54cf3959",
   "metadata": {},
   "source": [
    "Этого можно избежать, используя метасимвол кол-ва повторов на цепочке символов:"
   ]
  },
  {
   "cell_type": "code",
   "execution_count": 34,
   "id": "689f1230",
   "metadata": {},
   "outputs": [
    {
     "name": "stdout",
     "output_type": "stream",
     "text": [
      "['aba', 'aba']\n"
     ]
    }
   ],
   "source": [
    "s1 = 'abababaa'\n",
    "patt1 = r'a[ab]+?a'\n",
    "print(re.findall(patt1, s1))"
   ]
  },
  {
   "cell_type": "markdown",
   "id": "019a0e88",
   "metadata": {},
   "source": [
    "## Мета-символы:"
   ]
  },
  {
   "cell_type": "markdown",
   "id": "fbca7ce7",
   "metadata": {},
   "source": [
    "Зачастую для работы с регулярными выражениями используются мета-символы вместо определенной комбинации символов:"
   ]
  },
  {
   "cell_type": "markdown",
   "id": "b127958a",
   "metadata": {},
   "source": [
    "- [] - позволяют указать множество подходящих символов\n",
    "- '-' - позволяет указать диапазон подходящих символов\n",
    "- . - любой символ кроме символа переноса строки\n",
    "- ^ - НЕ указанные символы\n",
    "- $\n",
    "- a* - любое кол-во повторений символа a (в том числе и 0) \n",
    "- a+ - 1 и более повторение символа a\n",
    "- b? - 0 или 1 вхождение символа b\n",
    "- b{n} - n вхождений символа b\n",
    "- () - группировка символов\n",
    "- | - \"или\"\n",
    "- \\d - здесь будет цифры\n",
    "- \\D - любой символ кроме цифры\n",
    "- \\s - любой пробельный символ [ \\n\\t\\r\\f\\v]\n",
    "- \\S - любой символ кроме пробельных\n",
    "- \\w - любой символ из цифр и букв\n",
    "- \\W - любой не цифро-буквенный символ"
   ]
  },
  {
   "cell_type": "markdown",
   "id": "d5a57f1a",
   "metadata": {},
   "source": [
    "### [ ] - множество подходящих символов"
   ]
  },
  {
   "cell_type": "code",
   "execution_count": 35,
   "id": "74542b78",
   "metadata": {},
   "outputs": [
    {
     "name": "stdout",
     "output_type": "stream",
     "text": [
      "<re.Match object; span=(0, 4), match='jsdj'>\n",
      "<re.Match object; span=(2, 4), match='dj'>\n"
     ]
    }
   ],
   "source": [
    "s = 'jsdjjdhf aekujhafd'\n",
    "found = re.search(r'j[shda][abcdh]j', s) # в квадратные скобки подряд указываем символы, которые могут попасться при поиске\n",
    "print(found)\n",
    "found = re.search(r'dj', s)\n",
    "print(found)"
   ]
  },
  {
   "cell_type": "markdown",
   "id": "c021e943",
   "metadata": {},
   "source": [
    "### - диапазон символов"
   ]
  },
  {
   "cell_type": "code",
   "execution_count": 36,
   "id": "c2642792",
   "metadata": {},
   "outputs": [
    {
     "name": "stdout",
     "output_type": "stream",
     "text": [
      "['jsd', 'jjd', 'jha']\n"
     ]
    }
   ],
   "source": [
    "found = re.findall(r'j[a-zA-Z][a-zA-Z]', s) # в питоне большие и маленькие буквы - разные символы\n",
    "print(found)"
   ]
  },
  {
   "cell_type": "markdown",
   "id": "25e2427c",
   "metadata": {},
   "source": [
    "### ^ неподходящие символы"
   ]
  },
  {
   "cell_type": "code",
   "execution_count": 37,
   "id": "16ab804e",
   "metadata": {},
   "outputs": [
    {
     "name": "stdout",
     "output_type": "stream",
     "text": [
      "['abc', 'abb']\n",
      "abc acb acc abb\n",
      "abc acb acc abc\n"
     ]
    }
   ],
   "source": [
    "st = 'abc acb acc abb'\n",
    "patt = r'a[^ac][a-c]'  # создаем паттерн\n",
    "print(re.findall(patt, st ))\n",
    "fixed_1 = re.sub(patt, 'abc', st)     # делаем замены\n",
    "print(st)\n",
    "print(fixed_1)"
   ]
  },
  {
   "cell_type": "markdown",
   "id": "cdb4d8d5",
   "metadata": {},
   "source": [
    "### . - любой символ кроме переноса строки"
   ]
  },
  {
   "cell_type": "code",
   "execution_count": 38,
   "id": "ac446c32",
   "metadata": {},
   "outputs": [
    {
     "name": "stdout",
     "output_type": "stream",
     "text": [
      "abc, acb, acc, abb, cba, cab\n",
      "['abc', 'acb', 'acc', 'abb', 'a, ']\n"
     ]
    }
   ],
   "source": [
    "st = 'abc, acb, acc, abb, cba, cab'\n",
    "patt = r'a..'  # создаем паттерн\n",
    "print(st)\n",
    "print(re.findall(patt, st ))"
   ]
  },
  {
   "cell_type": "markdown",
   "id": "cce6d1b0",
   "metadata": {},
   "source": [
    "### * - любое кол-во повторений символа"
   ]
  },
  {
   "cell_type": "code",
   "execution_count": 39,
   "id": "b9546eae",
   "metadata": {},
   "outputs": [
    {
     "name": "stdout",
     "output_type": "stream",
     "text": [
      "jsdjjdjhf aekujdhafd\n",
      "['jjdjh', 'jd']\n"
     ]
    }
   ],
   "source": [
    "s = 'jsdjjdjhf aekujdhafd'\n",
    "patt = r'j*d*j[dh]'  # создаем паттерн - от 0 до inf повторений j + 0-inf d + j + (d или h)\n",
    "print(s)\n",
    "print(re.findall(patt, s))"
   ]
  },
  {
   "cell_type": "markdown",
   "id": "d5da35fd",
   "metadata": {},
   "source": [
    "### + - 1 и более повторение символа"
   ]
  },
  {
   "cell_type": "code",
   "execution_count": 40,
   "id": "51951cf2",
   "metadata": {},
   "outputs": [
    {
     "name": "stdout",
     "output_type": "stream",
     "text": [
      "jsdjjdjhf aekujdhafd\n",
      "['djj', 'dj']\n"
     ]
    }
   ],
   "source": [
    "s = 'jsdjjdjhf aekujdhafd'\n",
    "patt = r'd+j+'  \n",
    "print(s)\n",
    "print(re.findall(patt, s))"
   ]
  },
  {
   "cell_type": "markdown",
   "id": "05b47d7d",
   "metadata": {},
   "source": [
    "### ? - 0 или 1 вхождение символа"
   ]
  },
  {
   "cell_type": "code",
   "execution_count": 41,
   "id": "5589e439",
   "metadata": {},
   "outputs": [
    {
     "name": "stdout",
     "output_type": "stream",
     "text": [
      "jsdjjdjhf aekujdhafd\n",
      "['dj', 'dj', 'd', 'd']\n"
     ]
    }
   ],
   "source": [
    "s = 'jsdjjdjhf aekujdhafd'\n",
    "patt = r'd+j?'  \n",
    "print(s)\n",
    "print(re.findall(patt, s))"
   ]
  },
  {
   "cell_type": "markdown",
   "id": "d64e6198",
   "metadata": {},
   "source": [
    "### {n} -n вхождений символа / {n1,n2} - от n1 до n2 вхождений"
   ]
  },
  {
   "cell_type": "code",
   "execution_count": 42,
   "id": "33183ddb",
   "metadata": {},
   "outputs": [
    {
     "name": "stdout",
     "output_type": "stream",
     "text": [
      "jsdjjdjhf aekujdhafd\n",
      "['djj']\n"
     ]
    }
   ],
   "source": [
    "s = 'jsdjjdjhf aekujdhafd'\n",
    "patt = r'dj{2}'  \n",
    "print(s)\n",
    "print(re.findall(patt, s))"
   ]
  },
  {
   "cell_type": "code",
   "execution_count": 43,
   "id": "dea532fe",
   "metadata": {},
   "outputs": [
    {
     "name": "stdout",
     "output_type": "stream",
     "text": [
      "jsdjjdjhf aekujdhafd\n",
      "['djj', 'dj']\n"
     ]
    }
   ],
   "source": [
    "s = 'jsdjjdjhf aekujdhafd'\n",
    "patt = r'dj{1,2}' \n",
    "print(s)\n",
    "print(re.findall(patt, s))"
   ]
  },
  {
   "cell_type": "markdown",
   "id": "d1e47920",
   "metadata": {},
   "source": [
    "### () - группировка символов и | - \"или\""
   ]
  },
  {
   "cell_type": "code",
   "execution_count": 44,
   "id": "be12a636",
   "metadata": {},
   "outputs": [
    {
     "name": "stdout",
     "output_type": "stream",
     "text": [
      "testtext\n",
      "['test']\n"
     ]
    }
   ],
   "source": [
    "s = 'testtext'\n",
    "patt = r'(test)' \n",
    "print(s)\n",
    "print(re.findall(patt, s))"
   ]
  },
  {
   "cell_type": "code",
   "execution_count": 45,
   "id": "5196925e",
   "metadata": {},
   "outputs": [
    {
     "name": "stdout",
     "output_type": "stream",
     "text": [
      "testtext\n",
      "['test', 'text']\n"
     ]
    }
   ],
   "source": [
    "s = 'testtext'\n",
    "patt = r'(test|text)' \n",
    "print(s)\n",
    "print(re.findall(patt, s))"
   ]
  },
  {
   "cell_type": "code",
   "execution_count": 54,
   "id": "b0d1aff0",
   "metadata": {},
   "outputs": [
    {
     "name": "stdout",
     "output_type": "stream",
     "text": [
      "testtext\n",
      "<re.Match object; span=(0, 8), match='testtext'>\n",
      "[('testtext', 'text')]\n"
     ]
    }
   ],
   "source": [
    "s = 'testtext'\n",
    "patt = r'((test|text)+)' \n",
    "print(s)\n",
    "print(re.match(patt, s))\n",
    "print(re.findall(patt, s))"
   ]
  },
  {
   "cell_type": "markdown",
   "id": "34233d2c",
   "metadata": {},
   "source": [
    "### Группировка символов и match.groups()"
   ]
  },
  {
   "cell_type": "markdown",
   "id": "0419faf5",
   "metadata": {},
   "source": [
    "Группировка символов может помочь, если мы хотим подсчитать результаты поиска подстроки по регулярному выражению по каждой из групп:"
   ]
  },
  {
   "cell_type": "code",
   "execution_count": 48,
   "id": "233a8eee",
   "metadata": {
    "scrolled": true
   },
   "outputs": [
    {
     "name": "stdout",
     "output_type": "stream",
     "text": [
      "testtext\n",
      "[('', 'test'), ('', 'text')]\n",
      "(None, 'test')\n"
     ]
    }
   ],
   "source": [
    "s = 'testtext'\n",
    "patt = r'(abc)|(test|text)' \n",
    "print(s)\n",
    "print(re.findall(patt, s))\n",
    "print(re.match(patt, s).groups())"
   ]
  },
  {
   "cell_type": "markdown",
   "id": "d3bab644",
   "metadata": {},
   "source": [
    "Каждая группа - это выражение, обернутое в скобки.\n",
    "\n",
    "В результате __re.match().groups()__ формируется кортеж с найденными значениями по каждой группе.\n",
    "\n",
    "Если в методе __re.match().group()__ передать номер группы (не с 0(!)) - получим конкретное значение поиска:"
   ]
  },
  {
   "cell_type": "code",
   "execution_count": 49,
   "id": "1301e440",
   "metadata": {},
   "outputs": [
    {
     "name": "stdout",
     "output_type": "stream",
     "text": [
      "testtext\n",
      "[('testtext', '', 'text'), ('', '', '')]\n",
      "('testtext', None, 'text')\n",
      "text\n"
     ]
    }
   ],
   "source": [
    "s = 'testtext'\n",
    "patt = r'((abc)|(test|text)*)' \n",
    "print(s)\n",
    "print(re.findall(patt, s))\n",
    "print(re.match(patt, s).groups())\n",
    "print(re.match(patt, s).group(3))"
   ]
  },
  {
   "cell_type": "markdown",
   "id": "8b1d4695",
   "metadata": {},
   "source": [
    "Это очень удобно при поиске похожих на уже найденные подстроки прямо в регулярке.\n",
    "\n",
    "Указывая через обратный слэш номер группы, мы прямо в регулярном выражении просим найти такую же последовательность символов, как в n-ой группе:"
   ]
  },
  {
   "cell_type": "code",
   "execution_count": 50,
   "id": "87e7475a",
   "metadata": {},
   "outputs": [
    {
     "name": "stdout",
     "output_type": "stream",
     "text": [
      "test-text\n",
      "['t']\n",
      "None\n"
     ]
    }
   ],
   "source": [
    "s = 'test-text'\n",
    "patt = r'(\\w+)-\\1' #найдем те же символы, что нашли в первой группе\n",
    "print(s)\n",
    "print(re.findall(patt, s))\n",
    "print(re.match(patt, s))"
   ]
  },
  {
   "cell_type": "code",
   "execution_count": 58,
   "id": "f27a0f72",
   "metadata": {},
   "outputs": [
    {
     "name": "stdout",
     "output_type": "stream",
     "text": [
      "test-test\n",
      "['test']\n",
      "<re.Match object; span=(0, 9), match='test-test'>\n"
     ]
    }
   ],
   "source": [
    "s1 = 'test-test'\n",
    "patt = r'(\\w+)-\\1'  #найдем те же символы, что нашли в первой группе\n",
    "print(s1)\n",
    "print(re.findall(patt, s1))\n",
    "print(re.match(patt, s1))"
   ]
  },
  {
   "cell_type": "markdown",
   "id": "851c817a",
   "metadata": {},
   "source": [
    "__Важно__: группировка символов и последующее использование номера группы заставляет алгоритм искать ТОЧНО ТАКОЕ ЖЕ значение:"
   ]
  },
  {
   "cell_type": "code",
   "execution_count": 55,
   "id": "51a66eab",
   "metadata": {},
   "outputs": [
    {
     "name": "stdout",
     "output_type": "stream",
     "text": [
      "testtext\n",
      "['t']\n"
     ]
    }
   ],
   "source": [
    "print(s)\n",
    "print(re.findall(r'(\\w)\\1', s))"
   ]
  },
  {
   "cell_type": "markdown",
   "id": "c0cfbd3a",
   "metadata": {},
   "source": [
    "## Флаги"
   ]
  },
  {
   "cell_type": "markdown",
   "id": "e3511238",
   "metadata": {},
   "source": [
    "С помощью флагов можно заставлять модуль re делать что-то необычное, например, игнорировать регистр символов:"
   ]
  },
  {
   "cell_type": "code",
   "execution_count": 59,
   "id": "0a94dc87",
   "metadata": {},
   "outputs": [],
   "source": [
    "s = 'Infinity'"
   ]
  },
  {
   "cell_type": "code",
   "execution_count": 60,
   "id": "303bec69",
   "metadata": {},
   "outputs": [
    {
     "name": "stdout",
     "output_type": "stream",
     "text": [
      "['In', 'in']\n"
     ]
    }
   ],
   "source": [
    "print(re.findall(r'in', s, re.IGNORECASE))"
   ]
  },
  {
   "cell_type": "code",
   "execution_count": null,
   "id": "a548763d",
   "metadata": {},
   "outputs": [],
   "source": []
  },
  {
   "cell_type": "code",
   "execution_count": null,
   "id": "9053dd5c",
   "metadata": {},
   "outputs": [],
   "source": []
  },
  {
   "cell_type": "code",
   "execution_count": null,
   "id": "e90c4db9",
   "metadata": {},
   "outputs": [],
   "source": []
  },
  {
   "cell_type": "code",
   "execution_count": null,
   "id": "1ecfbc83",
   "metadata": {},
   "outputs": [],
   "source": []
  },
  {
   "cell_type": "code",
   "execution_count": null,
   "id": "e2697ebb",
   "metadata": {},
   "outputs": [],
   "source": []
  },
  {
   "cell_type": "code",
   "execution_count": null,
   "id": "fbdbac6c",
   "metadata": {},
   "outputs": [],
   "source": []
  },
  {
   "cell_type": "code",
   "execution_count": null,
   "id": "f4cdfeb2",
   "metadata": {},
   "outputs": [],
   "source": []
  },
  {
   "cell_type": "code",
   "execution_count": null,
   "id": "071a8af3",
   "metadata": {},
   "outputs": [],
   "source": []
  },
  {
   "cell_type": "code",
   "execution_count": null,
   "id": "5ae54be0",
   "metadata": {},
   "outputs": [],
   "source": []
  },
  {
   "cell_type": "code",
   "execution_count": null,
   "id": "a6dc52e0",
   "metadata": {},
   "outputs": [],
   "source": []
  },
  {
   "cell_type": "code",
   "execution_count": null,
   "id": "cd054530",
   "metadata": {},
   "outputs": [],
   "source": []
  },
  {
   "cell_type": "code",
   "execution_count": null,
   "id": "3eaa7339",
   "metadata": {},
   "outputs": [],
   "source": []
  },
  {
   "cell_type": "code",
   "execution_count": null,
   "id": "a1cbcebe",
   "metadata": {},
   "outputs": [],
   "source": []
  },
  {
   "cell_type": "code",
   "execution_count": null,
   "id": "2c88ad0b",
   "metadata": {},
   "outputs": [],
   "source": []
  },
  {
   "cell_type": "code",
   "execution_count": null,
   "id": "87451c59",
   "metadata": {},
   "outputs": [],
   "source": []
  }
 ],
 "metadata": {
  "kernelspec": {
   "display_name": "Python 3 (ipykernel)",
   "language": "python",
   "name": "python3"
  },
  "language_info": {
   "codemirror_mode": {
    "name": "ipython",
    "version": 3
   },
   "file_extension": ".py",
   "mimetype": "text/x-python",
   "name": "python",
   "nbconvert_exporter": "python",
   "pygments_lexer": "ipython3",
   "version": "3.9.7"
  }
 },
 "nbformat": 4,
 "nbformat_minor": 5
}
