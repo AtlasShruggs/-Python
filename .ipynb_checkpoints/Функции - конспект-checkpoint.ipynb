{
 "cells": [
  {
   "cell_type": "markdown",
   "id": "a125d53e",
   "metadata": {},
   "source": [
    "# Функции"
   ]
  },
  {
   "cell_type": "markdown",
   "id": "ac99da79",
   "metadata": {},
   "source": [
    "Функции можно передавать как аргументы куда угодно. В словари, в переменные, в списки - неважно:"
   ]
  },
  {
   "cell_type": "code",
   "execution_count": 1,
   "id": "d2b4d0af",
   "metadata": {},
   "outputs": [
    {
     "name": "stdout",
     "output_type": "stream",
     "text": [
      "5\n",
      "куб\n",
      "125\n"
     ]
    }
   ],
   "source": [
    "from math import *\n",
    "\n",
    "def sqr(x):\n",
    "    return x * x\n",
    "def cube(x):\n",
    "    return x * x * x\n",
    "def sqrt(x):\n",
    "    return x**.5\n",
    "\n",
    "\n",
    "\n",
    "dict1 = {}\n",
    "dict1['квадрат'] = sqr\n",
    "dict1['куб'] = cube\n",
    "dict1['корень'] = sqrt\n",
    "dict1['модуль'] = abs\n",
    "dict1['синус'] = sin\n",
    "\n",
    "n = int(input())\n",
    "func = input()\n",
    "\n",
    "print(dict1[func](n))"
   ]
  },
  {
   "cell_type": "code",
   "execution_count": 2,
   "id": "63625c65",
   "metadata": {},
   "outputs": [
    {
     "name": "stdout",
     "output_type": "stream",
     "text": [
      "10\n"
     ]
    }
   ],
   "source": [
    "writeln = print\n",
    "writeln(10)"
   ]
  },
  {
   "cell_type": "markdown",
   "id": "1f502487",
   "metadata": {},
   "source": [
    "## Функция map()"
   ]
  },
  {
   "cell_type": "markdown",
   "id": "69f3c3f8",
   "metadata": {},
   "source": [
    "Функция map() принимает в качестве параметров функцию, которую необходимо выполнить, и некий итерируемый объект (несколько объектов), и возвращает список элементов из итерируемого объекта, над которыми произведены преобразования (переданной функцией). Главное - не забыть вывести результат в тот вид, который нам нужен:"
   ]
  },
  {
   "cell_type": "code",
   "execution_count": 3,
   "id": "8c20158b",
   "metadata": {},
   "outputs": [
    {
     "name": "stdout",
     "output_type": "stream",
     "text": [
      "['0', '1', '4', '9', '16', '25', '36', '49', '64', '81']\n"
     ]
    }
   ],
   "source": [
    "lst = list(map(str, map(lambda x: x**2,range(10))))\n",
    "print(lst)"
   ]
  },
  {
   "cell_type": "code",
   "execution_count": 4,
   "id": "9b7f6962",
   "metadata": {},
   "outputs": [
    {
     "name": "stdout",
     "output_type": "stream",
     "text": [
      "[3.57, 5.58, 4.32, 6.2, 91.01, 32.01]\n"
     ]
    }
   ],
   "source": [
    "listed_numbers = [3.56773, 5.57668, 4.31914, 6.20241, 91.01344, 32.01213]\n",
    "nums1 = list(map(round, listed_numbers, [2] * len(listed_numbers))) # мапим список чисел и список с кол-вом знаков после запятой\n",
    "print(nums1)"
   ]
  },
  {
   "cell_type": "code",
   "execution_count": 5,
   "id": "adda49c3",
   "metadata": {},
   "outputs": [
    {
     "name": "stdout",
     "output_type": "stream",
     "text": [
      "['a1', 'b2', 'c3']\n"
     ]
    }
   ],
   "source": [
    "from operator import add\n",
    "\n",
    "result = list(map(add, 'abc', '1234'))\n",
    "print(result)"
   ]
  },
  {
   "cell_type": "markdown",
   "id": "52fc57e0",
   "metadata": {},
   "source": [
    "## Функция filter()"
   ]
  },
  {
   "cell_type": "markdown",
   "id": "7a49bac0",
   "metadata": {},
   "source": [
    "Принимает в качестве параметров функцию-предикат (функцию, результатом выполнения которой является True или False) и итерируемый объект.\n",
    "\n",
    "Функция-предикат выполняется для каждого элемента итерируемого объекта и в итоге filter() возвращает список элементов из итерируемого объекта, для которых результат функции-предиката == True:"
   ]
  },
  {
   "cell_type": "code",
   "execution_count": 6,
   "id": "68023feb",
   "metadata": {},
   "outputs": [
    {
     "name": "stdout",
     "output_type": "stream",
     "text": [
      "[1, 3, 5, 7, 9, 11, 13, 15, 17, 19]\n"
     ]
    }
   ],
   "source": [
    "def is_odd(num):\n",
    "    return num % 2 != 0\n",
    "lst = [i for i in range(20)]\n",
    "filtered = list(filter(is_odd,lst))\n",
    "print(filtered)"
   ]
  },
  {
   "cell_type": "code",
   "execution_count": 7,
   "id": "4328b9a9",
   "metadata": {},
   "outputs": [],
   "source": [
    "?round"
   ]
  },
  {
   "cell_type": "code",
   "execution_count": 8,
   "id": "9b9f210d",
   "metadata": {},
   "outputs": [
    {
     "name": "stdout",
     "output_type": "stream",
     "text": [
      "3.56\n",
      "5.57\n",
      "4.0\n",
      "56.24\n",
      "9.01\n",
      "32.12\n",
      "23.22\n",
      "90.09\n",
      "45.45\n",
      "314.15\n",
      "2.71\n",
      "1.41\n"
     ]
    }
   ],
   "source": [
    "numbers = [3.56773, 5.57668, 4.00914, 56.24241, 9.01344, 32.12013, 23.22222, 90.09873, 45.45, 314.1528, 2.71828, 1.41546]\n",
    "\n",
    "def rounder(x):\n",
    "    return int(x * 100) / 100\n",
    "\n",
    "\n",
    "numbers1 = map(rounder,numbers)\n",
    "print(*numbers1, sep='\\n')"
   ]
  },
  {
   "cell_type": "markdown",
   "id": "b2f839f6",
   "metadata": {},
   "source": [
    "## Функция reduce()"
   ]
  },
  {
   "cell_type": "markdown",
   "id": "d6871e0b",
   "metadata": {},
   "source": [
    "Принимает в качестве параметров функцию, итерируемый объект и начальное значение.\n",
    "\n",
    "Возвращает результат функции, переданной на каждый элемент объекта и начальное значение.\n",
    "\n",
    "Внимание (!)\n",
    "\n",
    "Для того, чтобы заработало - необходимо импортировать библиотеку и прописать функции до выполнения данной"
   ]
  },
  {
   "cell_type": "code",
   "execution_count": 9,
   "id": "2b2c34ff",
   "metadata": {},
   "outputs": [
    {
     "data": {
      "text/plain": [
       "<map at 0x16ec30ba400>"
      ]
     },
     "execution_count": 9,
     "metadata": {},
     "output_type": "execute_result"
    }
   ],
   "source": [
    "numbers1"
   ]
  },
  {
   "cell_type": "code",
   "execution_count": 10,
   "id": "a80dea6b",
   "metadata": {},
   "outputs": [
    {
     "name": "stdout",
     "output_type": "stream",
     "text": [
      "0\n"
     ]
    }
   ],
   "source": [
    "from functools import reduce\n",
    "def plus(x, y):       #обязательно при объявлении \n",
    "    return x + y      #функции указать у неё 2 параметра\n",
    "print(reduce(plus, numbers1, 0))                    "
   ]
  },
  {
   "cell_type": "markdown",
   "id": "22036739",
   "metadata": {},
   "source": [
    "Функция вернула сумму всех элементов списка "
   ]
  },
  {
   "cell_type": "code",
   "execution_count": 11,
   "id": "f96a0d26",
   "metadata": {},
   "outputs": [
    {
     "name": "stdout",
     "output_type": "stream",
     "text": [
      "1\n"
     ]
    }
   ],
   "source": [
    "def mult(x, y):\n",
    "    return x * y\n",
    "print(reduce(mult, numbers1, 1))"
   ]
  },
  {
   "cell_type": "markdown",
   "id": "9c9fe546",
   "metadata": {},
   "source": [
    "А сейчас - произведение всех элементов"
   ]
  },
  {
   "cell_type": "markdown",
   "id": "2d2660b1",
   "metadata": {},
   "source": [
    "## Модуль operator"
   ]
  },
  {
   "cell_type": "markdown",
   "id": "bd3254fe",
   "metadata": {},
   "source": [
    "Существует модуль, хранящий распространенные операции, чтобы не создавать каждый раз функции заново."
   ]
  },
  {
   "cell_type": "markdown",
   "id": "71ef3a32",
   "metadata": {},
   "source": [
    "Операция\tСинтаксис\tФункция\n",
    "\n",
    "Addition\ta + b\tadd(a, b)\n",
    "\n",
    "Containment Test\tobj in seq\tcontains(seq, obj)\n",
    "\n",
    "Division\ta / b\ttruediv(a, b)\n",
    "\n",
    "Division\ta // b\tfloordiv(a, b)\n",
    "\n",
    "Exponentiation\ta ** b\tpow(a, b)\n",
    "\n",
    "Modulo\ta % b\tmod(a, b)\n",
    "\n",
    "Multiplication\ta * b\tmul(a, b)\n",
    "\n",
    "Negation (Arithmetic)\t-a\tneg(a)\n",
    "\n",
    "Subtraction\ta - b\tsub(a, b)\n",
    "\n",
    "Ordering\ta < b\tlt(a, b)\n",
    "\n",
    "Ordering\ta <= b\tle(a, b)\n",
    "\n",
    "Equality\ta == b\teq(a, b)\n",
    "\n",
    "Difference\ta != b\tne(a, b)\n",
    "\n",
    "Ordering\ta >= b\tge(a, b)\n",
    "\n",
    "Ordering\ta > b\tgt(a, b)"
   ]
  },
  {
   "cell_type": "markdown",
   "id": "405cdd8c",
   "metadata": {},
   "source": [
    "## Функция partial()"
   ]
  },
  {
   "cell_type": "markdown",
   "id": "afe8fe64",
   "metadata": {},
   "source": [
    "Функция __partial(func, \\*kwargs)__ из модуля __functools__ позволяет превратить нам любую функцию, которая принимает n аргументов в функцию, которая принимает n-k аргументов, заранее задав k аргументов при вызове __partial__.\n",
    "\n",
    "Пример:"
   ]
  },
  {
   "cell_type": "code",
   "execution_count": 12,
   "id": "456b855b",
   "metadata": {},
   "outputs": [
    {
     "name": "stdout",
     "output_type": "stream",
     "text": [
      "8\n"
     ]
    }
   ],
   "source": [
    "def power(x, n):\n",
    "    return x**n\n",
    "\n",
    "print(power(2,3))"
   ]
  },
  {
   "cell_type": "code",
   "execution_count": 27,
   "id": "055e0447",
   "metadata": {},
   "outputs": [],
   "source": [
    "from functools import partial\n",
    "power_of_two = partial(power, 2)"
   ]
  },
  {
   "cell_type": "code",
   "execution_count": 28,
   "id": "14b90d4e",
   "metadata": {},
   "outputs": [
    {
     "data": {
      "text/plain": [
       "1048576"
      ]
     },
     "execution_count": 28,
     "metadata": {},
     "output_type": "execute_result"
    }
   ],
   "source": [
    "power_of_two(20)"
   ]
  },
  {
   "cell_type": "markdown",
   "id": "5a37cc21",
   "metadata": {},
   "source": [
    "Если аргумент идет первым в функции - указывать его явно не надо.\n",
    "\n",
    "В остальных случаях понадобиться указать его явно:"
   ]
  },
  {
   "cell_type": "code",
   "execution_count": 29,
   "id": "ac413be5",
   "metadata": {},
   "outputs": [],
   "source": [
    "def multiplier(a,b,c):\n",
    "    return a * b / c\n",
    "\n",
    "two_thirds_mul = partial(multiplier, a=2, c=3)"
   ]
  },
  {
   "cell_type": "code",
   "execution_count": 32,
   "id": "fe6bcc5e",
   "metadata": {},
   "outputs": [
    {
     "data": {
      "text/plain": [
       "34.0"
      ]
     },
     "execution_count": 32,
     "metadata": {},
     "output_type": "execute_result"
    }
   ],
   "source": [
    "two_thirds_mul(b=51)"
   ]
  },
  {
   "cell_type": "markdown",
   "id": "413397cc",
   "metadata": {},
   "source": [
    "# Лямбда-функции"
   ]
  },
  {
   "cell_type": "markdown",
   "id": "6357d877",
   "metadata": {},
   "source": [
    "Лямбда функции - однострочные функции, которые вызываются без объявления. Удобно, если функция больше использована не будет.\n",
    "\n",
    "Синтаксис:\n",
    "\n",
    "lambda x, y: x**y - 1\n",
    "\n",
    "Входные данные : какие преобразования с ними нужно сделать (что нужно получить на выходе)"
   ]
  },
  {
   "cell_type": "markdown",
   "id": "6e1a772a",
   "metadata": {},
   "source": [
    "Сортировка данных по условию: сортируем по возрастанию, сначала числа, затем - строки:"
   ]
  },
  {
   "cell_type": "code",
   "execution_count": 14,
   "id": "67b49169",
   "metadata": {},
   "outputs": [
    {
     "name": "stdout",
     "output_type": "stream",
     "text": [
      "10 11 12 12 13 13 13 14 15 19 20 20 26 26 26 28 35 36 37 38 40 40 41 41 46 46 47 48 50 51 60 64 65 65 66 67 70 75 76 76 76 78 80 87 89 94 95 95 98 99 abandon abate abduct abide able abnormal aboard abort abound about abrupt absent absorb abundant abuse accelerate accept access accessory accident benevolent berry berth beside besides bestow bet betray beware bewilder beyond bicycle bid bigot friday saturday sunday thursday tuesday wednesday\n"
     ]
    }
   ],
   "source": [
    "mixed_list = ['beside', 48, 'accelerate', 28, 'beware', 'absorb', 'besides', 'berry', 15, 65, 'abate', 'thursday', 76, 70, 94, 35, 36, 'berth', 41, 'abnormal', 'bicycle', 'bid', 'sunday', 'saturday', 87, 'bigot', 41, 'abort', 13, 60, 'friday', 26, 13, 'accident', 'access', 40, 26, 20, 75, 13, 40, 67, 12, 'abuse', 78, 10, 80, 'accessory', 20, 'bewilder', 'benevolent', 'bet', 64, 38, 65, 51, 95, 'abduct', 37, 98, 99, 14, 'abandon', 'accept', 46, 'abide', 'beyond', 19, 'about', 76, 26, 'abound', 12, 95, 'wednesday', 'abundant', 'abrupt', 'aboard', 50, 89, 'tuesday', 66, 'bestow', 'absent', 76, 46, 'betray', 47, 'able', 11]\n",
    "data1 = sorted(filter(lambda x: True if type(x) == int else False, mixed_list)) + sorted(filter(lambda x: True if type(x) != int else False, mixed_list))\n",
    "print(*data1)\n",
    "\n",
    "\n",
    "\n"
   ]
  },
  {
   "cell_type": "markdown",
   "id": "85b375a8",
   "metadata": {},
   "source": [
    "## all()"
   ]
  },
  {
   "cell_type": "markdown",
   "id": "bb4e91bd",
   "metadata": {},
   "source": [
    "Функция all() проверяет некоторый итерируемый объект на то, истинны ли значения в нем. Возвращает True, если все значения True, и False, если условие не выполняется:"
   ]
  },
  {
   "cell_type": "code",
   "execution_count": 15,
   "id": "d910af33",
   "metadata": {},
   "outputs": [
    {
     "name": "stdout",
     "output_type": "stream",
     "text": [
      "True\n",
      "False\n"
     ]
    }
   ],
   "source": [
    "print(all(mixed_list))\n",
    "print(all(range(8)))"
   ]
  },
  {
   "cell_type": "markdown",
   "id": "58e38953",
   "metadata": {},
   "source": [
    "При выполнении функции на словарях проверяет условие на ключах:"
   ]
  },
  {
   "cell_type": "code",
   "execution_count": 16,
   "id": "c0fb366f",
   "metadata": {},
   "outputs": [
    {
     "name": "stdout",
     "output_type": "stream",
     "text": [
      "{0: 'zero', 1: 'one'} {'zero': 0, 'one': 1}\n",
      "False True\n"
     ]
    }
   ],
   "source": [
    "dict1 = {0: 'zero', 1: 'one'}\n",
    "dict2 = dict(zip(list(dict1.values()),list(dict1.keys())))\n",
    "print(dict1, dict2)\n",
    "print(all(dict1), all(dict2))"
   ]
  },
  {
   "cell_type": "markdown",
   "id": "9527dc8d",
   "metadata": {},
   "source": [
    "## any()"
   ]
  },
  {
   "cell_type": "markdown",
   "id": "d4e248df",
   "metadata": {},
   "source": [
    "Функция any() проверяет некоторый итерируемый объект на то, истинны ли значения в нем. Возвращает True, если ХОТЯ БЫ 1 значение True, и False, если условие не выполняется:"
   ]
  },
  {
   "cell_type": "code",
   "execution_count": 17,
   "id": "e57ca964",
   "metadata": {},
   "outputs": [
    {
     "name": "stdout",
     "output_type": "stream",
     "text": [
      "True\n",
      "False\n"
     ]
    }
   ],
   "source": [
    "print(any(mixed_list))\n",
    "print(any(range(0)))"
   ]
  },
  {
   "cell_type": "markdown",
   "id": "b14ef38c",
   "metadata": {},
   "source": [
    "При выполнении функции на словарях проверяет условие на ключах:"
   ]
  },
  {
   "cell_type": "code",
   "execution_count": 18,
   "id": "980c427a",
   "metadata": {},
   "outputs": [
    {
     "name": "stdout",
     "output_type": "stream",
     "text": [
      "{0: 'zero', 1: 'one'} {'zero': 0, 'one': 1}\n",
      "True True\n"
     ]
    }
   ],
   "source": [
    "dict1 = {0: 'zero', 1: 'one'}\n",
    "dict2 = dict(zip(list(dict1.values()),list(dict1.keys())))\n",
    "print(dict1, dict2)\n",
    "print(any(dict1), any(dict2))"
   ]
  },
  {
   "cell_type": "markdown",
   "id": "44569b77",
   "metadata": {},
   "source": [
    "## enumerate(iterable, start)"
   ]
  },
  {
   "cell_type": "markdown",
   "id": "8d17992c",
   "metadata": {},
   "source": [
    "Функция enumerate() принимает в качестве параметра итерируемый объект и стартовое значение и возвращает кортеж из индекса элемента + стартового значения и самого элемента. Для словарей - вернет кортеж из значений списка dict.keys() и их индексов в этом списке:"
   ]
  },
  {
   "cell_type": "code",
   "execution_count": 19,
   "id": "76acd6f4",
   "metadata": {},
   "outputs": [
    {
     "name": "stdout",
     "output_type": "stream",
     "text": [
      "[(0, 'zero'), (1, 'one')]\n"
     ]
    }
   ],
   "source": [
    "print(list(enumerate(dict2)))"
   ]
  },
  {
   "cell_type": "code",
   "execution_count": 20,
   "id": "98607648",
   "metadata": {},
   "outputs": [
    {
     "name": "stdout",
     "output_type": "stream",
     "text": [
      "[(5, 2), (6, 3), (7, 4), (8, 5), (9, 6)]\n"
     ]
    }
   ],
   "source": [
    "print(list(enumerate(range(2,7),5)))"
   ]
  },
  {
   "cell_type": "markdown",
   "id": "aa7545c6",
   "metadata": {},
   "source": [
    "Распаковка:"
   ]
  },
  {
   "cell_type": "code",
   "execution_count": 21,
   "id": "603183f9",
   "metadata": {},
   "outputs": [
    {
     "name": "stdout",
     "output_type": "stream",
     "text": [
      "3 1\n",
      "4 2\n",
      "5 3\n",
      "6 4\n",
      "7 5\n",
      "8 6\n",
      "9 7\n",
      "10 8\n"
     ]
    }
   ],
   "source": [
    "for i, item in enumerate(range(3,11),1):\n",
    "    print(item, i)"
   ]
  },
  {
   "cell_type": "markdown",
   "id": "766c89b2",
   "metadata": {},
   "source": [
    "## zip(* iterables)"
   ]
  },
  {
   "cell_type": "markdown",
   "id": "4d1ff14b",
   "metadata": {},
   "source": [
    "Функция zip() принимает в качестве параметра 1 или несколько итерируемых объектов и последовательно объединяет эти объекты в кортежи:"
   ]
  },
  {
   "cell_type": "code",
   "execution_count": 22,
   "id": "121d072c",
   "metadata": {},
   "outputs": [
    {
     "name": "stdout",
     "output_type": "stream",
     "text": [
      "[(0, 5, 14), (1, 6, 13), (2, 7, 12), (3, 8, 11), (4, 9, 10)]\n"
     ]
    }
   ],
   "source": [
    "print(list(zip(range(5), range(5,10), range(14,9,-1))))"
   ]
  },
  {
   "cell_type": "markdown",
   "id": "527da172",
   "metadata": {},
   "source": [
    "## Замыкания"
   ]
  },
  {
   "cell_type": "code",
   "execution_count": 23,
   "id": "bd65913a",
   "metadata": {},
   "outputs": [
    {
     "name": "stdout",
     "output_type": "stream",
     "text": [
      "50\n"
     ]
    }
   ],
   "source": [
    "def add3(x):\n",
    "    return x + 3\n",
    "\n",
    "\n",
    "def mul7(x):\n",
    "    return x * 7\n",
    "\n",
    "def compose(func2):\n",
    "\n",
    "            def inner(a):\n",
    "                return func2(a)\n",
    "    \n",
    "            return inner\n",
    "\n",
    "#        return func1(inner)\n",
    "    \n",
    "print(compose(add3)(47))\n",
    "\n",
    "\n",
    "\n",
    "\n"
   ]
  },
  {
   "cell_type": "markdown",
   "id": "c21317c6",
   "metadata": {},
   "source": [
    "## Стек вызовов / машинный стек / стек исполнения"
   ]
  },
  {
   "cell_type": "markdown",
   "id": "576f966f",
   "metadata": {},
   "source": [
    "Стек - абстрактная структура данных (например, стопка)"
   ]
  },
  {
   "cell_type": "markdown",
   "id": "fa98f76f",
   "metadata": {},
   "source": [
    "| 2 |\n",
    "\n",
    "| 1 |\n",
    "\n",
    "| 0 |"
   ]
  },
  {
   "cell_type": "markdown",
   "id": "912b94e7",
   "metadata": {},
   "source": [
    "При этом из стека нельзя сразу вытащить какое-то конкретное значение: распаковка идет сверху вниз (как распаковка коробки)\n",
    "\n",
    "Операция \"положить что-то в коробку\" называется push, а операция \"забрать что-то из коробки\" - pop\n",
    "\n",
    "Еще одна аналогия - детская пирамидка из колец на штыре. Элемент снизу нельзя достать, пока мы не поснимаем верхние кольца"
   ]
  },
  {
   "cell_type": "markdown",
   "id": "0cdea460",
   "metadata": {},
   "source": [
    "При вызове функции интерпретатор кладет функцию в стек, при завершении исполнения функции - снимает её со стека"
   ]
  },
  {
   "cell_type": "markdown",
   "id": "dcc4c640",
   "metadata": {},
   "source": [
    "## functools - partial()"
   ]
  },
  {
   "cell_type": "markdown",
   "id": "585223fc",
   "metadata": {},
   "source": [
    "Функция partial принимает название функции и какие-то аргументы функции, после чего, если мы применим этот готовый конструктор к переменной - получим готовый результат:"
   ]
  },
  {
   "cell_type": "code",
   "execution_count": 24,
   "id": "6260127b",
   "metadata": {},
   "outputs": [
    {
     "name": "stdout",
     "output_type": "stream",
     "text": [
      "3\n",
      "16\n"
     ]
    }
   ],
   "source": [
    "from functools import partial\n",
    "int_3 = partial(int, base=3) # создадим заготовку, которая переводит str-числа троичной системы в числа десятичной\n",
    "print(int_3('10'))\n",
    "print(int_3('121'))"
   ]
  },
  {
   "cell_type": "code",
   "execution_count": null,
   "id": "09699c04",
   "metadata": {},
   "outputs": [],
   "source": []
  }
 ],
 "metadata": {
  "kernelspec": {
   "display_name": "Python 3 (ipykernel)",
   "language": "python",
   "name": "python3"
  },
  "language_info": {
   "codemirror_mode": {
    "name": "ipython",
    "version": 3
   },
   "file_extension": ".py",
   "mimetype": "text/x-python",
   "name": "python",
   "nbconvert_exporter": "python",
   "pygments_lexer": "ipython3",
   "version": "3.9.7"
  },
  "toc": {
   "base_numbering": 1,
   "nav_menu": {},
   "number_sections": true,
   "sideBar": true,
   "skip_h1_title": false,
   "title_cell": "Оглавление",
   "title_sidebar": "Оглавление",
   "toc_cell": false,
   "toc_position": {},
   "toc_section_display": true,
   "toc_window_display": true
  }
 },
 "nbformat": 4,
 "nbformat_minor": 5
}
