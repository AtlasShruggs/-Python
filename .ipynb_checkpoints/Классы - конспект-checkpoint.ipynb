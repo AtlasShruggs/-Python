{
 "cells": [
  {
   "cell_type": "markdown",
   "id": "3c894b1a",
   "metadata": {},
   "source": [
    "# Классы"
   ]
  },
  {
   "cell_type": "markdown",
   "id": "e02b40bf",
   "metadata": {},
   "source": [
    "Классы в Питоне позволяют создавать собственные объекты с необходимыми свойствами.\n",
    "\n",
    "Объявление класса:"
   ]
  },
  {
   "cell_type": "code",
   "execution_count": 1,
   "id": "a9d1ac95",
   "metadata": {},
   "outputs": [],
   "source": [
    "class MyClass:                 #объявляем\n",
    "    a = 11                     #пишем тело\n",
    "    def fun(self):\n",
    "        print('Huy')"
   ]
  },
  {
   "cell_type": "markdown",
   "id": "c897da6a",
   "metadata": {},
   "source": [
    "Имена использованные в теле класса - локальные переменные.\n",
    "Однако к ним можно обратиться снаружи:"
   ]
  },
  {
   "cell_type": "code",
   "execution_count": 2,
   "id": "878c89b3",
   "metadata": {},
   "outputs": [
    {
     "name": "stdout",
     "output_type": "stream",
     "text": [
      "Huy\n"
     ]
    },
    {
     "data": {
      "text/plain": [
       "11"
      ]
     },
     "execution_count": 2,
     "metadata": {},
     "output_type": "execute_result"
    }
   ],
   "source": [
    "MyClass.fun(2)\n",
    "MyClass.a"
   ]
  },
  {
   "cell_type": "markdown",
   "id": "fd35c7da",
   "metadata": {},
   "source": [
    "В данном случае fun и a - это атрибуты класса MyClass, но, строго говоря, атрибут - это какое-то имя в определенном пространстве имен.\n",
    "\n",
    "Чтобы определить какой-то объект как экземпляр класса, нужно класс со скобками передать в переменную:"
   ]
  },
  {
   "cell_type": "code",
   "execution_count": 3,
   "id": "63c14ef5",
   "metadata": {},
   "outputs": [
    {
     "name": "stdout",
     "output_type": "stream",
     "text": [
      "<class '__main__.MyClass'>\n",
      "<class 'type'>\n"
     ]
    }
   ],
   "source": [
    "x = MyClass()\n",
    "print(type(x))        # тип объекта класса MyClass\n",
    "print(type(MyClass))  # тип класса MyClass - тип"
   ]
  },
  {
   "cell_type": "markdown",
   "id": "0281a47a",
   "metadata": {},
   "source": [
    "Для класса характерны:\n",
    "\n",
    "    1. Вызов конструктора\n",
    "    2. Вызов атрибутов\n",
    "При этом у экземпляра класса конструктор мы вызвать не сможем"
   ]
  },
  {
   "cell_type": "markdown",
   "id": "aafc6a78",
   "metadata": {},
   "source": [
    "Пример:"
   ]
  },
  {
   "cell_type": "code",
   "execution_count": 4,
   "id": "40f45baf",
   "metadata": {},
   "outputs": [
    {
     "data": {
      "text/plain": [
       "['2', '3', '1']"
      ]
     },
     "execution_count": 4,
     "metadata": {},
     "output_type": "execute_result"
    }
   ],
   "source": [
    "lst = list('231') # lst ссылается на класс list с переданными \n",
    "                 #значениями, то есть уже на экземпляр класса\n",
    "lst"
   ]
  },
  {
   "cell_type": "code",
   "execution_count": 5,
   "id": "ba4db794",
   "metadata": {},
   "outputs": [
    {
     "ename": "TypeError",
     "evalue": "'list' object is not callable",
     "output_type": "error",
     "traceback": [
      "\u001b[1;31m---------------------------------------------------------------------------\u001b[0m",
      "\u001b[1;31mTypeError\u001b[0m                                 Traceback (most recent call last)",
      "\u001b[1;32m~\\AppData\\Local\\Temp/ipykernel_11976/3398858207.py\u001b[0m in \u001b[0;36m<module>\u001b[1;34m\u001b[0m\n\u001b[1;32m----> 1\u001b[1;33m \u001b[0mlst1\u001b[0m \u001b[1;33m=\u001b[0m \u001b[0mlst\u001b[0m\u001b[1;33m(\u001b[0m\u001b[1;34m'235'\u001b[0m\u001b[1;33m)\u001b[0m\u001b[1;33m\u001b[0m\u001b[1;33m\u001b[0m\u001b[0m\n\u001b[0m",
      "\u001b[1;31mTypeError\u001b[0m: 'list' object is not callable"
     ]
    }
   ],
   "source": [
    "lst1 = lst('235')"
   ]
  },
  {
   "cell_type": "markdown",
   "id": "10a3c399",
   "metadata": {},
   "source": [
    "Возникает ошибка.\n",
    "\n",
    "Мы можем присваивать атрибуты отдельным экземплярам класса, при этом атрибут будет принадлежать только данному экземпляру, но не классу"
   ]
  },
  {
   "cell_type": "code",
   "execution_count": 6,
   "id": "69f23c16",
   "metadata": {},
   "outputs": [
    {
     "name": "stdout",
     "output_type": "stream",
     "text": [
      "1\n"
     ]
    }
   ],
   "source": [
    "x.count = 1\n",
    "print(x.count)"
   ]
  },
  {
   "cell_type": "markdown",
   "id": "703e84d0",
   "metadata": {},
   "source": [
    "## Функции / методы класса"
   ]
  },
  {
   "cell_type": "markdown",
   "id": "1999ea46",
   "metadata": {},
   "source": [
    "Функции внутри класса - это методы класса (как и атрибуты, пишем через точку).\n",
    "\n",
    "Методы бывают связанные и несвязанные.\n",
    "\n",
    "В связанные методы мы еще в конструкторе класса передали экземляр с помощью параметра self:"
   ]
  },
  {
   "cell_type": "code",
   "execution_count": 7,
   "id": "ec00e45a",
   "metadata": {},
   "outputs": [],
   "source": [
    "class Rectangles:\n",
    "    height = 2\n",
    "    width = 3\n",
    "    def area(self):                     # когда мы пишем в параметрах \n",
    "                                        # функции \"self\" мы как бы\n",
    "        return self.height * self.width # говорим методу класса \"ищи переменные \n",
    "                                        # внутри себя\""
   ]
  },
  {
   "cell_type": "code",
   "execution_count": 8,
   "id": "98d168a2",
   "metadata": {},
   "outputs": [
    {
     "name": "stdout",
     "output_type": "stream",
     "text": [
      "6\n",
      "4\n"
     ]
    }
   ],
   "source": [
    "x = Rectangles()\n",
    "print(x.area())\n",
    "x.width = x.height\n",
    "print(x.area())"
   ]
  },
  {
   "cell_type": "markdown",
   "id": "bee61fee",
   "metadata": {},
   "source": [
    "В то время как несвязанные методы объявляются как обычные функции и в них надо передавать (в скобках) и сам экземпляр"
   ]
  },
  {
   "cell_type": "markdown",
   "id": "e9ee85f2",
   "metadata": {},
   "source": [
    "## Объявление классов"
   ]
  },
  {
   "cell_type": "code",
   "execution_count": 11,
   "id": "8b807a0a",
   "metadata": {},
   "outputs": [],
   "source": [
    "class MoneyBox:\n",
    "    def __init__(self, capacity=10): # в обязательном порядке первой переменной\n",
    "        self.value = 0               # метода будет self (экземпляр класса)\n",
    "        self.capacity = capacity     # в блоке init мы инициализируем класс\n",
    "    def overload(self, v):    \n",
    "        return self.value + v >= self.capacity\n",
    "    def add(self, v):\n",
    "        self.value += v\n",
    "    def money(self):\n",
    "        return self.value"
   ]
  },
  {
   "cell_type": "code",
   "execution_count": 12,
   "id": "feda46ab",
   "metadata": {},
   "outputs": [
    {
     "data": {
      "text/plain": [
       "True"
      ]
     },
     "execution_count": 12,
     "metadata": {},
     "output_type": "execute_result"
    }
   ],
   "source": [
    "m = MoneyBox()\n",
    "m.overload(11)"
   ]
  },
  {
   "cell_type": "code",
   "execution_count": 13,
   "id": "15c3d449",
   "metadata": {},
   "outputs": [
    {
     "data": {
      "text/plain": [
       "2"
      ]
     },
     "execution_count": 13,
     "metadata": {},
     "output_type": "execute_result"
    }
   ],
   "source": [
    "m = MoneyBox(3)\n",
    "m.add(2)\n",
    "m.money()"
   ]
  },
  {
   "cell_type": "markdown",
   "id": "8fe0e342",
   "metadata": {},
   "source": [
    "У любого класса все атрибуты хранятся в словаре - аттрибуте __dict__ :"
   ]
  },
  {
   "cell_type": "code",
   "execution_count": 14,
   "id": "527b3dc9",
   "metadata": {},
   "outputs": [
    {
     "name": "stdout",
     "output_type": "stream",
     "text": [
      "{'value': 2, 'capacity': 3}\n",
      "{'width': 2}\n",
      "{'__module__': '__main__', 'height': 2, 'width': 3, 'area': <function Rectangles.area at 0x00000265E96FB3A0>, '__dict__': <attribute '__dict__' of 'Rectangles' objects>, '__weakref__': <attribute '__weakref__' of 'Rectangles' objects>, '__doc__': None}\n"
     ]
    }
   ],
   "source": [
    "print(m.__dict__)   # атрибуты объекта\n",
    "print(x.__dict__)   # атрибуты объекта\n",
    "print(Rectangles.__dict__)  #атрибуты класса"
   ]
  },
  {
   "cell_type": "markdown",
   "id": "acfb805a",
   "metadata": {},
   "source": [
    "Для удобного доступа к атрибутам объекта можно передать объект в __функцию vars():__"
   ]
  },
  {
   "cell_type": "code",
   "execution_count": 15,
   "id": "4293d866",
   "metadata": {},
   "outputs": [
    {
     "name": "stdout",
     "output_type": "stream",
     "text": [
      "{'value': 2, 'capacity': 3}\n"
     ]
    }
   ],
   "source": [
    "print(vars(m))"
   ]
  },
  {
   "cell_type": "markdown",
   "id": "b2995ef3",
   "metadata": {},
   "source": [
    "Если мы хотим зафиксировать кол-во атрибутов у класса, нужно использовать специальный атрибут __slots__ при объявлении класса:"
   ]
  },
  {
   "cell_type": "code",
   "execution_count": 16,
   "id": "7cc1f2ef",
   "metadata": {},
   "outputs": [],
   "source": [
    "class PointBlank:\n",
    "    def __init__(self):\n",
    "        self\n",
    "    __slots__ = ['x', 'y']  # фкисируем возможные атрибуты, при этом __dict__ ни у класса ни у экземпляров не будет\n",
    "p = PointBlank()"
   ]
  },
  {
   "cell_type": "code",
   "execution_count": 17,
   "id": "c6bcfb25",
   "metadata": {
    "scrolled": true
   },
   "outputs": [
    {
     "ename": "AttributeError",
     "evalue": "'PointBlank' object has no attribute 'z'",
     "output_type": "error",
     "traceback": [
      "\u001b[1;31m---------------------------------------------------------------------------\u001b[0m",
      "\u001b[1;31mAttributeError\u001b[0m                            Traceback (most recent call last)",
      "\u001b[1;32m~\\AppData\\Local\\Temp/ipykernel_11976/3668105447.py\u001b[0m in \u001b[0;36m<module>\u001b[1;34m\u001b[0m\n\u001b[0;32m      1\u001b[0m \u001b[0mp\u001b[0m\u001b[1;33m.\u001b[0m\u001b[0mx\u001b[0m \u001b[1;33m=\u001b[0m \u001b[1;36m5\u001b[0m\u001b[1;33m\u001b[0m\u001b[1;33m\u001b[0m\u001b[0m\n\u001b[0;32m      2\u001b[0m \u001b[0mp\u001b[0m\u001b[1;33m.\u001b[0m\u001b[0my\u001b[0m \u001b[1;33m=\u001b[0m \u001b[1;36m4\u001b[0m\u001b[1;33m\u001b[0m\u001b[1;33m\u001b[0m\u001b[0m\n\u001b[1;32m----> 3\u001b[1;33m \u001b[0mp\u001b[0m\u001b[1;33m.\u001b[0m\u001b[0mz\u001b[0m \u001b[1;33m=\u001b[0m \u001b[1;36m6\u001b[0m\u001b[1;33m\u001b[0m\u001b[1;33m\u001b[0m\u001b[0m\n\u001b[0m",
      "\u001b[1;31mAttributeError\u001b[0m: 'PointBlank' object has no attribute 'z'"
     ]
    }
   ],
   "source": [
    "p.x = 5\n",
    "p.y = 4\n",
    "p.z = 6"
   ]
  },
  {
   "cell_type": "markdown",
   "id": "d283b8e6",
   "metadata": {},
   "source": [
    "При этом:"
   ]
  },
  {
   "cell_type": "code",
   "execution_count": 18,
   "id": "cb604249",
   "metadata": {},
   "outputs": [
    {
     "name": "stdout",
     "output_type": "stream",
     "text": [
      "{'value': 0, 'capacity': 10, 'zhopa': '()*()'}\n"
     ]
    }
   ],
   "source": [
    "n = MoneyBox()\n",
    "n.zhopa = '()*()'\n",
    "print(vars(n))"
   ]
  },
  {
   "cell_type": "markdown",
   "id": "00410827",
   "metadata": {},
   "source": [
    "Если в теле класса использовать декоратор, после которого создать метод - этот метод не будет храниться в словаре __dict__ ни класса, ни экземпляра, но при его вызове даст результат.\n",
    "\n",
    "Такие методы называют свойствами:"
   ]
  },
  {
   "cell_type": "code",
   "execution_count": 19,
   "id": "fd883e2c",
   "metadata": {},
   "outputs": [
    {
     "data": {
      "text/plain": [
       "'files'"
      ]
     },
     "execution_count": 19,
     "metadata": {},
     "output_type": "execute_result"
    }
   ],
   "source": [
    "class Path:\n",
    "    def __init__(self, current):\n",
    "        self.current = current\n",
    "    def __repr__(self):            #этот встроенный метод позволяет определить, как будет выглядеть вывод экземпляра класса    \n",
    "        return f'Path({self.current})'\n",
    "    \n",
    "    @property                                         # декоратор\n",
    "    def parent(self):                                 # атрибут parent вычисляется только при обращении к нему\n",
    "        return self.current.split('/')[-2]\n",
    "    \n",
    "p = Path('/examples/files/1_txt')\n",
    "p.parent\n",
    "    \n",
    "    "
   ]
  },
  {
   "cell_type": "markdown",
   "id": "d3e8234f",
   "metadata": {},
   "source": [
    "Проверим словарь экземпляра:"
   ]
  },
  {
   "cell_type": "code",
   "execution_count": 20,
   "id": "c972109e",
   "metadata": {},
   "outputs": [
    {
     "data": {
      "text/plain": [
       "{'current': '/examples/files/1_txt'}"
      ]
     },
     "execution_count": 20,
     "metadata": {},
     "output_type": "execute_result"
    }
   ],
   "source": [
    "vars(p)"
   ]
  },
  {
   "cell_type": "markdown",
   "id": "c43d3473",
   "metadata": {},
   "source": [
    "Кроме всего прочего декораторы можно использовать как некие условия той или иной операции:"
   ]
  },
  {
   "cell_type": "code",
   "execution_count": 21,
   "id": "9f932607",
   "metadata": {},
   "outputs": [],
   "source": [
    "class BigDataModel:\n",
    "    def __init__(self):\n",
    "        self._params = []\n",
    "    \n",
    "    @property                   # ставим декоратор, чтобы у экземпляра заранее\n",
    "    def params(self):           # не было атрибута\n",
    "        return self._params\n",
    "    \n",
    "    @params.setter            # setter - особый атрибут декоратора, определяет\n",
    "    def params(self, new_params): #правила приема значений\n",
    "        assert all(map(lambda p: p > 0, new_params)) # проверка на числа > 0\n",
    "        self._params = new_params\n",
    "    \n",
    "    @params.deleter           # deleter - особый атрибут декоратора, отвечает\n",
    "    def params(self):         # за удаление значений атрибутов\n",
    "        del self._params"
   ]
  },
  {
   "cell_type": "code",
   "execution_count": 36,
   "id": "03955825",
   "metadata": {},
   "outputs": [
    {
     "data": {
      "text/plain": [
       "[2, 5, 19, 10]"
      ]
     },
     "execution_count": 36,
     "metadata": {},
     "output_type": "execute_result"
    }
   ],
   "source": [
    "model = BigDataModel()\n",
    "model.params = [2, 5, 19, 10]\n",
    "model.params"
   ]
  },
  {
   "cell_type": "code",
   "execution_count": 37,
   "id": "96c4bd58",
   "metadata": {},
   "outputs": [
    {
     "ename": "AssertionError",
     "evalue": "",
     "output_type": "error",
     "traceback": [
      "\u001b[1;31m---------------------------------------------------------------------------\u001b[0m",
      "\u001b[1;31mAssertionError\u001b[0m                            Traceback (most recent call last)",
      "\u001b[1;32m~\\AppData\\Local\\Temp/ipykernel_11976/3115344313.py\u001b[0m in \u001b[0;36m<module>\u001b[1;34m\u001b[0m\n\u001b[0;32m      1\u001b[0m \u001b[0mmodel1\u001b[0m \u001b[1;33m=\u001b[0m \u001b[0mBigDataModel\u001b[0m\u001b[1;33m(\u001b[0m\u001b[1;33m)\u001b[0m\u001b[1;33m\u001b[0m\u001b[1;33m\u001b[0m\u001b[0m\n\u001b[1;32m----> 2\u001b[1;33m \u001b[0mmodel1\u001b[0m\u001b[1;33m.\u001b[0m\u001b[0mparams\u001b[0m \u001b[1;33m=\u001b[0m \u001b[1;33m[\u001b[0m\u001b[1;33m-\u001b[0m\u001b[1;36m1\u001b[0m\u001b[1;33m,\u001b[0m \u001b[1;36m0\u001b[0m\u001b[1;33m,\u001b[0m \u001b[1;36m1\u001b[0m\u001b[1;33m]\u001b[0m   \u001b[1;31m# неположительные значения не пройдут\u001b[0m\u001b[1;33m\u001b[0m\u001b[1;33m\u001b[0m\u001b[0m\n\u001b[0m\u001b[0;32m      3\u001b[0m \u001b[0mmodel1\u001b[0m\u001b[1;33m.\u001b[0m\u001b[0mparams\u001b[0m\u001b[1;33m\u001b[0m\u001b[1;33m\u001b[0m\u001b[0m\n",
      "\u001b[1;32m~\\AppData\\Local\\Temp/ipykernel_11976/1635942576.py\u001b[0m in \u001b[0;36mparams\u001b[1;34m(self, new_params)\u001b[0m\n\u001b[0;32m      9\u001b[0m     \u001b[1;33m@\u001b[0m\u001b[0mparams\u001b[0m\u001b[1;33m.\u001b[0m\u001b[0msetter\u001b[0m            \u001b[1;31m# setter - особый атрибут декоратора, определяет\u001b[0m\u001b[1;33m\u001b[0m\u001b[1;33m\u001b[0m\u001b[0m\n\u001b[0;32m     10\u001b[0m     \u001b[1;32mdef\u001b[0m \u001b[0mparams\u001b[0m\u001b[1;33m(\u001b[0m\u001b[0mself\u001b[0m\u001b[1;33m,\u001b[0m \u001b[0mnew_params\u001b[0m\u001b[1;33m)\u001b[0m\u001b[1;33m:\u001b[0m \u001b[1;31m#правила приема значений\u001b[0m\u001b[1;33m\u001b[0m\u001b[1;33m\u001b[0m\u001b[0m\n\u001b[1;32m---> 11\u001b[1;33m         \u001b[1;32massert\u001b[0m \u001b[0mall\u001b[0m\u001b[1;33m(\u001b[0m\u001b[0mmap\u001b[0m\u001b[1;33m(\u001b[0m\u001b[1;32mlambda\u001b[0m \u001b[0mp\u001b[0m\u001b[1;33m:\u001b[0m \u001b[0mp\u001b[0m \u001b[1;33m>\u001b[0m \u001b[1;36m0\u001b[0m\u001b[1;33m,\u001b[0m \u001b[0mnew_params\u001b[0m\u001b[1;33m)\u001b[0m\u001b[1;33m)\u001b[0m \u001b[1;31m# проверка на числа > 0\u001b[0m\u001b[1;33m\u001b[0m\u001b[1;33m\u001b[0m\u001b[0m\n\u001b[0m\u001b[0;32m     12\u001b[0m         \u001b[0mself\u001b[0m\u001b[1;33m.\u001b[0m\u001b[0m_params\u001b[0m \u001b[1;33m=\u001b[0m \u001b[0mnew_params\u001b[0m\u001b[1;33m\u001b[0m\u001b[1;33m\u001b[0m\u001b[0m\n\u001b[0;32m     13\u001b[0m \u001b[1;33m\u001b[0m\u001b[0m\n",
      "\u001b[1;31mAssertionError\u001b[0m: "
     ]
    }
   ],
   "source": [
    "model1 = BigDataModel()\n",
    "model1.params = [-1, 0, 1]   # неположительные значения не пройдут\n",
    "model1.params"
   ]
  },
  {
   "cell_type": "markdown",
   "id": "2d21a298",
   "metadata": {},
   "source": [
    "Попробуем создать свою модель для классификации по методу ближайшего соседа:"
   ]
  },
  {
   "cell_type": "code",
   "execution_count": 44,
   "id": "4928870b",
   "metadata": {},
   "outputs": [],
   "source": [
    "class NearestNeighbourClassifier:\n",
    "    def __init__(self):\n",
    "        None\n",
    "    def fit(self, features_train, target_train):\n",
    "        self.features = features_train\n",
    "        self.target = target_train\n",
    "    def predict(self, features_test):\n",
    "        preds = []\n",
    "        for elem in features_test.values:\n",
    "            l = [distance.euclidean(elem, el) for el in self.features.values]\n",
    "            preds.append(self.target[np.argmin(l)])\n",
    "        return pd.Series(preds)"
   ]
  },
  {
   "cell_type": "code",
   "execution_count": 45,
   "id": "6860bf9f",
   "metadata": {},
   "outputs": [],
   "source": [
    "import numpy as np\n",
    "import pandas as pd\n",
    "from scipy.spatial import distance\n",
    "\n",
    "columns = ['комнаты', 'площадь', 'кухня', 'пл. жилая', 'этаж', 'всего этажей', 'кондиционер']\n",
    "\n",
    "df_train = pd.DataFrame([\n",
    "    [1, 38.5, 6.9, 18.9, 3, 5, 1],\n",
    "    [1, 38.0, 8.5, 19.2, 9, 17, 0],\n",
    "    [1, 34.7, 10.3, 19.8, 1, 9, 0],\n",
    "    [1, 45.9, 11.1, 17.5, 11, 23, 1],\n",
    "    [1, 42.4, 10.0, 19.9, 6, 14, 0],\n",
    "    [1, 46.0, 10.2, 20.5, 3, 12, 1],\n",
    "    [2, 77.7, 13.2, 39.3, 3, 17, 1],\n",
    "    [2, 69.8, 11.1, 31.4, 12, 23, 0],\n",
    "    [2, 78.2, 19.4, 33.2, 4, 9, 0],\n",
    "    [2, 55.5, 7.8, 29.6, 1, 25, 1],\n",
    "    [2, 74.3, 16.0, 34.2, 14, 17, 1],\n",
    "    [2, 78.3, 12.3, 42.6, 23, 23, 0],\n",
    "    [2, 74.0, 18.1, 49.0, 8, 9, 0],\n",
    "    [2, 91.4, 20.1, 60.4, 2, 10, 0],\n",
    "    [3, 85.0, 17.8, 56.1, 14, 14, 1],\n",
    "    [3, 79.8, 9.8, 44.8, 9, 10, 0],\n",
    "    [3, 72.0, 10.2, 37.3, 7, 9, 1],\n",
    "    [3, 95.3, 11.0, 51.5, 15, 23, 1],\n",
    "    [3, 69.3, 8.5, 39.3, 4, 9, 0],\n",
    "    [3, 89.8, 11.2, 58.2, 24, 25, 0],\n",
    "], columns=columns)\n",
    "    \n",
    "\n",
    "train_features = df_train.drop('кондиционер', axis=1)\n",
    "train_target = df_train['кондиционер']\n",
    "\n",
    "df_test = pd.DataFrame([\n",
    "    [1, 36.5, 5.9, 17.9, 2, 7, 0],\n",
    "    [2, 71.7, 12.2, 34.3, 5, 21, 1],\n",
    "    [3, 88.0, 18.1, 58.2, 17, 17, 1],\n",
    "], columns=columns)\n",
    "\n",
    "test_features = df_test.drop('кондиционер', axis=1)"
   ]
  },
  {
   "cell_type": "code",
   "execution_count": 46,
   "id": "ca71ce1b",
   "metadata": {},
   "outputs": [
    {
     "data": {
      "text/plain": [
       "0    1\n",
       "1    0\n",
       "2    1\n",
       "dtype: int64"
      ]
     },
     "execution_count": 46,
     "metadata": {},
     "output_type": "execute_result"
    }
   ],
   "source": [
    "model = NearestNeighbourClassifier()\n",
    "model.fit(train_features, train_target)\n",
    "model.predict(test_features)"
   ]
  },
  {
   "cell_type": "markdown",
   "id": "d21c3bce",
   "metadata": {},
   "source": [
    "# Наследование классов"
   ]
  },
  {
   "cell_type": "markdown",
   "id": "97a78129",
   "metadata": {},
   "source": [
    "Если мы не хотим заново изобретать колесо, а, допустим, добавить к существующему классу новый функционал (например, к классу *list* добавить возможность вызова метода, который считает кол-во четных элементов списка) мы будем использовать наследование классов:"
   ]
  },
  {
   "cell_type": "code",
   "execution_count": null,
   "id": "80740c43",
   "metadata": {},
   "outputs": [],
   "source": [
    "class NewLists(list):  # в скобках указываем классы-предтечи, сколь угодно много\n",
    "    def even_elements(self):\n",
    "        self.counter = 0\n",
    "        for el in self:\n",
    "            if el % 2 == 0:\n",
    "                self.counter += 1\n",
    "        return self.counter        "
   ]
  },
  {
   "cell_type": "code",
   "execution_count": null,
   "id": "c366de36",
   "metadata": {},
   "outputs": [],
   "source": [
    "x = NewLists()\n",
    "x.extend([1,2,3,4,5])\n",
    "x.even_elements()"
   ]
  },
  {
   "cell_type": "markdown",
   "id": "1aa52adf",
   "metadata": {},
   "source": [
    "Проверить наследование классов можно с помощью функции issubclass(наследник, предок):"
   ]
  },
  {
   "cell_type": "code",
   "execution_count": null,
   "id": "74266eb9",
   "metadata": {},
   "outputs": [],
   "source": [
    "print(issubclass(NewLists, list))\n",
    "issubclass(list, object)"
   ]
  },
  {
   "cell_type": "markdown",
   "id": "21a46928",
   "metadata": {},
   "source": [
    "Также есть функция isinstance(объект, класс), с помощью которой можно проверить, является ли объект экземпляром/наследником какого-либо класса:"
   ]
  },
  {
   "cell_type": "code",
   "execution_count": null,
   "id": "78b43e07",
   "metadata": {},
   "outputs": [],
   "source": [
    "lst = list()\n",
    "dct = set()\n",
    "print(isinstance(x, NewLists))\n",
    "print(isinstance(x, list))\n",
    "print(isinstance(lst, list))\n",
    "print(isinstance(dct, dict))"
   ]
  },
  {
   "cell_type": "markdown",
   "id": "d8caf683",
   "metadata": {},
   "source": [
    "При множественном наследовании встает вопрос, где искать методы и атрибуты, из какого класса они придут первее.\n",
    "\n",
    "Для решения этой задачи в Питоне есть Method Resolution Order (MRO) - и одноименный метод:"
   ]
  },
  {
   "cell_type": "code",
   "execution_count": null,
   "id": "be9155c4",
   "metadata": {},
   "outputs": [],
   "source": [
    "print(NewLists.mro())"
   ]
  },
  {
   "cell_type": "markdown",
   "id": "80275956",
   "metadata": {},
   "source": [
    "Также можно создавать методы и атрибуты в наследуемых классах, которые уже есть в родительских. Если мы при этом хотим вызывать метод из родительского класса, используется функция super():"
   ]
  },
  {
   "cell_type": "code",
   "execution_count": null,
   "id": "661d62ae",
   "metadata": {},
   "outputs": [],
   "source": [
    "class MyList(NewLists, list):\n",
    "    def pop(self):\n",
    "        x = super(MyList, self).pop() # super(класс, в чьих родителях мы пойдем\n",
    "        print('Last value = ', x)     # искать метод, self).искомая_функция\n",
    "        return x"
   ]
  },
  {
   "cell_type": "code",
   "execution_count": null,
   "id": "3e08ac9f",
   "metadata": {},
   "outputs": [],
   "source": [
    "lst = MyList()\n",
    "lst.extend([i for i in range(6)])\n",
    "lst.pop()\n",
    "print(lst.even_elements())"
   ]
  },
  {
   "cell_type": "code",
   "execution_count": null,
   "id": "149d25f2",
   "metadata": {},
   "outputs": [],
   "source": [
    "lst.__dict__"
   ]
  },
  {
   "cell_type": "code",
   "execution_count": null,
   "id": "094e79a0",
   "metadata": {},
   "outputs": [],
   "source": [
    "class LoggableList(list):\n",
    "    self = []\n",
    "    def append(self,x):\n",
    "        m = super(LoggableList, self).append(x)\n",
    "        print(f'Добавленное значение: {x}')\n",
    "\n",
    "\n",
    "\n",
    "\n"
   ]
  },
  {
   "cell_type": "code",
   "execution_count": null,
   "id": "662afbf4",
   "metadata": {},
   "outputs": [],
   "source": [
    "x = LoggableList()\n",
    "x.append(5)\n",
    "x.append(7)\n",
    "x.append(583)\n",
    "print(x)"
   ]
  }
 ],
 "metadata": {
  "kernelspec": {
   "display_name": "Python 3 (ipykernel)",
   "language": "python",
   "name": "python3"
  },
  "language_info": {
   "codemirror_mode": {
    "name": "ipython",
    "version": 3
   },
   "file_extension": ".py",
   "mimetype": "text/x-python",
   "name": "python",
   "nbconvert_exporter": "python",
   "pygments_lexer": "ipython3",
   "version": "3.9.7"
  },
  "toc": {
   "base_numbering": 1,
   "nav_menu": {},
   "number_sections": true,
   "sideBar": true,
   "skip_h1_title": false,
   "title_cell": "Оглавление",
   "title_sidebar": "Оглавление",
   "toc_cell": false,
   "toc_position": {},
   "toc_section_display": true,
   "toc_window_display": true
  }
 },
 "nbformat": 4,
 "nbformat_minor": 5
}
