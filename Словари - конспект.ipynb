{
 "cells": [
  {
   "cell_type": "markdown",
   "id": "71384024",
   "metadata": {},
   "source": [
    "# Словари"
   ]
  },
  {
   "cell_type": "markdown",
   "id": "2036f31d",
   "metadata": {},
   "source": [
    "Код dict1['a'] - это замена коду lst[i] - вместо индексов в словарях ключи"
   ]
  },
  {
   "cell_type": "code",
   "execution_count": 2,
   "id": "a1fc8718",
   "metadata": {},
   "outputs": [
    {
     "data": {
      "text/plain": [
       "1"
      ]
     },
     "execution_count": 2,
     "metadata": {},
     "output_type": "execute_result"
    }
   ],
   "source": [
    "dict1 = {'a':1, 'b':2, 'c':3}\n",
    "dict1['a']"
   ]
  },
  {
   "cell_type": "markdown",
   "id": "dfc5821e",
   "metadata": {},
   "source": [
    "#### Оператор in проверяет наличие КЛЮЧА в словаре:"
   ]
  },
  {
   "cell_type": "code",
   "execution_count": 3,
   "id": "4360ae02",
   "metadata": {},
   "outputs": [
    {
     "name": "stdout",
     "output_type": "stream",
     "text": [
      "OF COURSE!\n"
     ]
    }
   ],
   "source": [
    "if 'c' in dict1:\n",
    "    print('OF COURSE!')"
   ]
  },
  {
   "cell_type": "markdown",
   "id": "8280e94b",
   "metadata": {},
   "source": [
    "#### И при этом функции sum(), min(), max() производят расчеты именно по ключам словаря:"
   ]
  },
  {
   "cell_type": "code",
   "execution_count": 33,
   "id": "67cdca5c",
   "metadata": {},
   "outputs": [
    {
     "name": "stdout",
     "output_type": "stream",
     "text": [
      "6\n"
     ]
    }
   ],
   "source": [
    "dict2 = {1:'one',2:'two',3:'three'}\n",
    "print(sum(dict2))"
   ]
  },
  {
   "cell_type": "markdown",
   "id": "8724cfed",
   "metadata": {},
   "source": [
    "#### Распаковка через звездочку сработает также на ключи словаря:"
   ]
  },
  {
   "cell_type": "code",
   "execution_count": 11,
   "id": "b3a04e5f",
   "metadata": {},
   "outputs": [
    {
     "name": "stdout",
     "output_type": "stream",
     "text": [
      "a b c\n"
     ]
    }
   ],
   "source": [
    "print(*dict1)"
   ]
  },
  {
   "cell_type": "markdown",
   "id": "b5765552",
   "metadata": {},
   "source": [
    "#### Так как стандартная индексация недоступна, цикл for in range не сработает. Перебор ключей и элементов будет проходить так:"
   ]
  },
  {
   "cell_type": "code",
   "execution_count": 5,
   "id": "48ee7522",
   "metadata": {},
   "outputs": [
    {
     "name": "stdout",
     "output_type": "stream",
     "text": [
      "1\n",
      "one\n",
      "2\n",
      "two\n",
      "3\n",
      "three\n"
     ]
    }
   ],
   "source": [
    "for key in dict2:\n",
    "    print(key)\n",
    "    print(dict2[key])"
   ]
  },
  {
   "cell_type": "markdown",
   "id": "1314b2c7",
   "metadata": {},
   "source": [
    "#### А сортировка по ключам будет проходить с помощью функции sorted() и выдаст именно список ключей:"
   ]
  },
  {
   "cell_type": "code",
   "execution_count": 12,
   "id": "821740ea",
   "metadata": {},
   "outputs": [
    {
     "data": {
      "text/plain": [
       "[3, 2, 1]"
      ]
     },
     "execution_count": 12,
     "metadata": {},
     "output_type": "execute_result"
    }
   ],
   "source": [
    "dict3 = sorted(dict2, reverse=True)\n",
    "dict3"
   ]
  },
  {
   "cell_type": "markdown",
   "id": "05007e65",
   "metadata": {},
   "source": [
    "#### Сортировка по значениям потребует танцев с бубном:"
   ]
  },
  {
   "cell_type": "code",
   "execution_count": 17,
   "id": "635c7875",
   "metadata": {},
   "outputs": [
    {
     "data": {
      "text/plain": [
       "{1: 'one', 3: 'three', 2: 'two'}"
      ]
     },
     "execution_count": 17,
     "metadata": {},
     "output_type": "execute_result"
    }
   ],
   "source": [
    "dict4 = dict(sorted(dict2.items(), \n",
    "                    key = lambda x: x[1], reverse=False))\n",
    "dict4"
   ]
  },
  {
   "cell_type": "markdown",
   "id": "2020fb2f",
   "metadata": {},
   "source": [
    "## keys()"
   ]
  },
  {
   "cell_type": "markdown",
   "id": "c3627534",
   "metadata": {},
   "source": [
    "Возвращает список ключей всех элементов словаря"
   ]
  },
  {
   "cell_type": "code",
   "execution_count": 6,
   "id": "c4b40821",
   "metadata": {},
   "outputs": [
    {
     "name": "stdout",
     "output_type": "stream",
     "text": [
      "dict_keys([1, 2, 3])\n"
     ]
    }
   ],
   "source": [
    "print(dict2.keys())"
   ]
  },
  {
   "cell_type": "markdown",
   "id": "c6859677",
   "metadata": {},
   "source": [
    "## values()"
   ]
  },
  {
   "cell_type": "markdown",
   "id": "760b6866",
   "metadata": {},
   "source": [
    "Возвращает список значений всех элементов словаря"
   ]
  },
  {
   "cell_type": "code",
   "execution_count": 7,
   "id": "b5fbffb9",
   "metadata": {},
   "outputs": [
    {
     "name": "stdout",
     "output_type": "stream",
     "text": [
      "dict_values(['one', 'two', 'three'])\n"
     ]
    }
   ],
   "source": [
    "print(dict2.values())"
   ]
  },
  {
   "cell_type": "markdown",
   "id": "65c7d6d8",
   "metadata": {},
   "source": [
    "## items()"
   ]
  },
  {
   "cell_type": "markdown",
   "id": "ec630e2b",
   "metadata": {},
   "source": [
    "Возвращает список всех элементов словаря"
   ]
  },
  {
   "cell_type": "code",
   "execution_count": 8,
   "id": "ae1f204b",
   "metadata": {},
   "outputs": [
    {
     "name": "stdout",
     "output_type": "stream",
     "text": [
      "dict_items([(1, 'one'), (2, 'two'), (3, 'three')])\n"
     ]
    }
   ],
   "source": [
    "print(dict2.items())"
   ]
  },
  {
   "cell_type": "markdown",
   "id": "08b24368",
   "metadata": {},
   "source": [
    "### Магия:"
   ]
  },
  {
   "cell_type": "code",
   "execution_count": 10,
   "id": "332433bc",
   "metadata": {},
   "outputs": [
    {
     "name": "stdout",
     "output_type": "stream",
     "text": [
      "1 по-английски - one\n",
      "2 по-английски - two\n",
      "3 по-английски - three\n"
     ]
    }
   ],
   "source": [
    "for key, value in dict2.items():\n",
    "    print(f'{key} по-английски - {value}')"
   ]
  },
  {
   "cell_type": "markdown",
   "id": "ff057eef",
   "metadata": {},
   "source": [
    "## get()"
   ]
  },
  {
   "cell_type": "markdown",
   "id": "fc0b9da0",
   "metadata": {},
   "source": [
    "Возвращает значение словаря по ключу. Аргументы - искомое значение, что вернуть, если значения в ключах словаря нет:"
   ]
  },
  {
   "cell_type": "code",
   "execution_count": 20,
   "id": "8f83e75a",
   "metadata": {},
   "outputs": [
    {
     "name": "stdout",
     "output_type": "stream",
     "text": [
      "one\n",
      "Crazy\n"
     ]
    }
   ],
   "source": [
    "print(dict2.get(1))\n",
    "print(dict2.get(11, 'Crazy'))"
   ]
  },
  {
   "cell_type": "markdown",
   "id": "df6f2b34",
   "metadata": {},
   "source": [
    "## update()"
   ]
  },
  {
   "cell_type": "markdown",
   "id": "5506ecc0",
   "metadata": {},
   "source": [
    "Реализует, как бы, \"конкатенацию\" словарей inplace:"
   ]
  },
  {
   "cell_type": "code",
   "execution_count": 21,
   "id": "c1c9b078",
   "metadata": {},
   "outputs": [
    {
     "data": {
      "text/plain": [
       "{'a': 1, 'b': 2, 'c': 3, 1: 'one', 2: 'two', 3: 'three'}"
      ]
     },
     "execution_count": 21,
     "metadata": {},
     "output_type": "execute_result"
    }
   ],
   "source": [
    "dict1.update(dict2)\n",
    "dict1"
   ]
  },
  {
   "cell_type": "markdown",
   "id": "9cc2734a",
   "metadata": {},
   "source": [
    "Также можно пользоваться операторами |= и |"
   ]
  },
  {
   "cell_type": "markdown",
   "id": "36f99441",
   "metadata": {},
   "source": [
    "## setdefault()"
   ]
  },
  {
   "cell_type": "markdown",
   "id": "21ed5344",
   "metadata": {},
   "source": [
    "Позволяет получить значение словаря по ключу, автоматически добавляя новый элемент словаря, если ключ отсутствует"
   ]
  },
  {
   "cell_type": "code",
   "execution_count": 23,
   "id": "01aef961",
   "metadata": {},
   "outputs": [
    {
     "data": {
      "text/plain": [
       "'three'"
      ]
     },
     "execution_count": 23,
     "metadata": {},
     "output_type": "execute_result"
    }
   ],
   "source": [
    "dict1.setdefault(3, 'm')"
   ]
  },
  {
   "cell_type": "code",
   "execution_count": 24,
   "id": "46952b6e",
   "metadata": {},
   "outputs": [
    {
     "name": "stdout",
     "output_type": "stream",
     "text": [
      "{'a': 1, 'b': 2, 'c': 3, 1: 'one', 2: 'two', 3: 'three', 4: 'four'}\n"
     ]
    }
   ],
   "source": [
    "dict1.setdefault(4, 'four')\n",
    "print(dict1)"
   ]
  },
  {
   "cell_type": "markdown",
   "id": "f18a6df3",
   "metadata": {},
   "source": [
    "Также можно пользоваться операторами |= и |"
   ]
  },
  {
   "cell_type": "markdown",
   "id": "e99a0fa4",
   "metadata": {},
   "source": [
    "## del"
   ]
  },
  {
   "cell_type": "markdown",
   "id": "d2cbd744",
   "metadata": {},
   "source": [
    "Удаляет элемент словаря по ключу"
   ]
  },
  {
   "cell_type": "code",
   "execution_count": 25,
   "id": "18f3726c",
   "metadata": {},
   "outputs": [
    {
     "data": {
      "text/plain": [
       "{'b': 2, 'c': 3, 1: 'one', 2: 'two', 3: 'three', 4: 'four'}"
      ]
     },
     "execution_count": 25,
     "metadata": {},
     "output_type": "execute_result"
    }
   ],
   "source": [
    "del dict1['a']\n",
    "dict1"
   ]
  },
  {
   "cell_type": "markdown",
   "id": "9a7bc452",
   "metadata": {},
   "source": [
    "## pop()"
   ]
  },
  {
   "cell_type": "markdown",
   "id": "0441baa2",
   "metadata": {},
   "source": [
    "Удаляет элемент словаря по ключу и возвращает его значение:"
   ]
  },
  {
   "cell_type": "code",
   "execution_count": 27,
   "id": "bf9eb9ce",
   "metadata": {},
   "outputs": [
    {
     "name": "stdout",
     "output_type": "stream",
     "text": [
      "one\n",
      "{'b': 2, 'c': 3, 2: 'two', 3: 'three', 4: 'four'}\n"
     ]
    }
   ],
   "source": [
    "print(dict1.pop(1))\n",
    "print(dict1)"
   ]
  },
  {
   "cell_type": "markdown",
   "id": "5e2f3c47",
   "metadata": {},
   "source": [
    "При этом чтобы избежать ошибки, если элемента в словаре нет, обязательно надо передать второй аргумент:"
   ]
  },
  {
   "cell_type": "code",
   "execution_count": 29,
   "id": "1983a912",
   "metadata": {},
   "outputs": [
    {
     "name": "stdout",
     "output_type": "stream",
     "text": [
      "6\n",
      "{'b': 2, 'c': 3, 2: 'two', 3: 'three', 4: 'four'}\n"
     ]
    }
   ],
   "source": [
    "print(dict1.pop(10, 6))\n",
    "print(dict1)"
   ]
  },
  {
   "cell_type": "markdown",
   "id": "0d39c715",
   "metadata": {},
   "source": [
    "## popitem()"
   ]
  },
  {
   "cell_type": "markdown",
   "id": "1907d917",
   "metadata": {},
   "source": [
    "Удаляет последний добавленный элемент словаря и возвращает кортеж (ключ, значение):"
   ]
  },
  {
   "cell_type": "code",
   "execution_count": 30,
   "id": "109bdc8f",
   "metadata": {},
   "outputs": [
    {
     "name": "stdout",
     "output_type": "stream",
     "text": [
      "(4, 'four')\n",
      "{'b': 2, 'c': 3, 2: 'two', 3: 'three'}\n"
     ]
    }
   ],
   "source": [
    "print(dict1.popitem())\n",
    "print(dict1)"
   ]
  },
  {
   "cell_type": "markdown",
   "id": "b2dbd74b",
   "metadata": {},
   "source": [
    "## clear()"
   ]
  },
  {
   "cell_type": "markdown",
   "id": "dadee2a7",
   "metadata": {},
   "source": [
    "Удаляет все элементы из словаря:"
   ]
  },
  {
   "cell_type": "code",
   "execution_count": 34,
   "id": "d5c68201",
   "metadata": {},
   "outputs": [
    {
     "name": "stdout",
     "output_type": "stream",
     "text": [
      "{1: 'one', 2: 'two', 3: 'three'}\n",
      "{}\n"
     ]
    }
   ],
   "source": [
    "print(dict2)\n",
    "dict2.clear()\n",
    "print(dict2)"
   ]
  },
  {
   "cell_type": "markdown",
   "id": "cc5deb61",
   "metadata": {},
   "source": [
    "## copy()"
   ]
  },
  {
   "cell_type": "markdown",
   "id": "244089ce",
   "metadata": {},
   "source": [
    "Делает поверхностную копию словаря"
   ]
  },
  {
   "cell_type": "code",
   "execution_count": 36,
   "id": "d3ca2f90",
   "metadata": {},
   "outputs": [
    {
     "name": "stdout",
     "output_type": "stream",
     "text": [
      "{1: 'one', 3: 'three', 2: 'two'}\n"
     ]
    }
   ],
   "source": [
    "dict2 = dict4.copy()\n",
    "print(dict2)"
   ]
  },
  {
   "cell_type": "code",
   "execution_count": null,
   "id": "70cd0ef0",
   "metadata": {},
   "outputs": [],
   "source": []
  },
  {
   "cell_type": "code",
   "execution_count": null,
   "id": "a7c6ef0b",
   "metadata": {},
   "outputs": [],
   "source": []
  }
 ],
 "metadata": {
  "kernelspec": {
   "display_name": "Python 3 (ipykernel)",
   "language": "python",
   "name": "python3"
  },
  "language_info": {
   "codemirror_mode": {
    "name": "ipython",
    "version": 3
   },
   "file_extension": ".py",
   "mimetype": "text/x-python",
   "name": "python",
   "nbconvert_exporter": "python",
   "pygments_lexer": "ipython3",
   "version": "3.9.7"
  }
 },
 "nbformat": 4,
 "nbformat_minor": 5
}
