{
 "cells": [
  {
   "cell_type": "markdown",
   "id": "53481290",
   "metadata": {},
   "source": [
    "# Методы множеств"
   ]
  },
  {
   "cell_type": "markdown",
   "id": "14140005",
   "metadata": {},
   "source": [
    "## add()"
   ]
  },
  {
   "cell_type": "markdown",
   "id": "82c46d88",
   "metadata": {},
   "source": [
    "Добавляет элементы в множество, но только по одному:"
   ]
  },
  {
   "cell_type": "code",
   "execution_count": 4,
   "id": "45fde252",
   "metadata": {},
   "outputs": [
    {
     "data": {
      "text/plain": [
       "set()"
      ]
     },
     "execution_count": 4,
     "metadata": {},
     "output_type": "execute_result"
    }
   ],
   "source": [
    "set1 = set()\n",
    "set1"
   ]
  },
  {
   "cell_type": "code",
   "execution_count": 7,
   "id": "ad1db423",
   "metadata": {},
   "outputs": [
    {
     "data": {
      "text/plain": [
       "{1, 'abc'}"
      ]
     },
     "execution_count": 7,
     "metadata": {},
     "output_type": "execute_result"
    }
   ],
   "source": [
    "set1.add(1)\n",
    "set1.add('abc')\n",
    "set1"
   ]
  },
  {
   "cell_type": "markdown",
   "id": "bfe61125",
   "metadata": {},
   "source": [
    "## remove()"
   ]
  },
  {
   "cell_type": "markdown",
   "id": "9d9b1019",
   "metadata": {},
   "source": [
    "Удаляет элемент из множества по его значению, но только по одному; выдает ошибку, если значения во множестве отсутствует:"
   ]
  },
  {
   "cell_type": "code",
   "execution_count": 8,
   "id": "13a8e672",
   "metadata": {},
   "outputs": [
    {
     "data": {
      "text/plain": [
       "{'abc', 'ac'}"
      ]
     },
     "execution_count": 8,
     "metadata": {},
     "output_type": "execute_result"
    }
   ],
   "source": [
    "set1.remove(1)\n",
    "set1.add('ac')\n",
    "set1"
   ]
  },
  {
   "cell_type": "markdown",
   "id": "b4a88700",
   "metadata": {},
   "source": [
    "## discard()"
   ]
  },
  {
   "cell_type": "markdown",
   "id": "36593612",
   "metadata": {},
   "source": [
    "Удаляет элемент из множества по его значению, но только по одному, при этом если элемента во множестве нет - ошибки не будет:"
   ]
  },
  {
   "cell_type": "code",
   "execution_count": 9,
   "id": "8cb1a94c",
   "metadata": {},
   "outputs": [
    {
     "data": {
      "text/plain": [
       "{'abc', 'ac', 'c'}"
      ]
     },
     "execution_count": 9,
     "metadata": {},
     "output_type": "execute_result"
    }
   ],
   "source": [
    "set1.discard(1)\n",
    "set1.add('c')\n",
    "set1"
   ]
  },
  {
   "cell_type": "markdown",
   "id": "897d7fc8",
   "metadata": {},
   "source": [
    "## pop()"
   ]
  },
  {
   "cell_type": "markdown",
   "id": "5900e9ca",
   "metadata": {},
   "source": [
    "Удаляет 1 случайный элемент из множества и возвращает его:"
   ]
  },
  {
   "cell_type": "code",
   "execution_count": 22,
   "id": "41088e54",
   "metadata": {},
   "outputs": [
    {
     "data": {
      "text/plain": [
       "{0, 1, 2, 3, 4, 5, 6, 7, 8, 9}"
      ]
     },
     "execution_count": 22,
     "metadata": {},
     "output_type": "execute_result"
    }
   ],
   "source": [
    "lst = list(range(10))\n",
    "set2 = set(lst)\n",
    "set2"
   ]
  },
  {
   "cell_type": "code",
   "execution_count": 23,
   "id": "8c1f970c",
   "metadata": {},
   "outputs": [
    {
     "name": "stdout",
     "output_type": "stream",
     "text": [
      "{1, 2, 3, 4, 5, 6, 7, 8, 9} 0\n"
     ]
    }
   ],
   "source": [
    "popped = set2.pop()\n",
    "print(set2, popped)"
   ]
  },
  {
   "cell_type": "markdown",
   "id": "ab236f6b",
   "metadata": {},
   "source": [
    "## clear()"
   ]
  },
  {
   "cell_type": "markdown",
   "id": "c3471b98",
   "metadata": {},
   "source": [
    "Удаляет все элементы из множества:"
   ]
  },
  {
   "cell_type": "code",
   "execution_count": 24,
   "id": "7bd05491",
   "metadata": {},
   "outputs": [
    {
     "data": {
      "text/plain": [
       "{1, 2, 3, 4, 5, 6, 7, 8, 9}"
      ]
     },
     "execution_count": 24,
     "metadata": {},
     "output_type": "execute_result"
    }
   ],
   "source": [
    "set3 = set2.copy()\n",
    "set3"
   ]
  },
  {
   "cell_type": "code",
   "execution_count": 25,
   "id": "feb5e4d0",
   "metadata": {},
   "outputs": [
    {
     "data": {
      "text/plain": [
       "set()"
      ]
     },
     "execution_count": 25,
     "metadata": {},
     "output_type": "execute_result"
    }
   ],
   "source": [
    "set3.clear()\n",
    "set3"
   ]
  },
  {
   "cell_type": "markdown",
   "id": "c46b65f0",
   "metadata": {},
   "source": [
    "## union()"
   ]
  },
  {
   "cell_type": "markdown",
   "id": "49e7df36",
   "metadata": {},
   "source": [
    "Объединяет 2 множества, но не inplace:"
   ]
  },
  {
   "cell_type": "code",
   "execution_count": 26,
   "id": "abf10df2",
   "metadata": {},
   "outputs": [
    {
     "data": {
      "text/plain": [
       "{1, 2, 3, 4, 5, 6, 7, 8, 9, 'abc', 'ac', 'c'}"
      ]
     },
     "execution_count": 26,
     "metadata": {},
     "output_type": "execute_result"
    }
   ],
   "source": [
    "set3 = set2.union(set1)\n",
    "set3"
   ]
  },
  {
   "cell_type": "markdown",
   "id": "ecfa7982",
   "metadata": {},
   "source": [
    "Можно также использовать оператор '|':"
   ]
  },
  {
   "cell_type": "code",
   "execution_count": 35,
   "id": "67d90ecb",
   "metadata": {},
   "outputs": [
    {
     "data": {
      "text/plain": [
       "{1, 2, 3, 4, 5, 6, 7, 8, 9, 'abc', 'ac', 'c'}"
      ]
     },
     "execution_count": 35,
     "metadata": {},
     "output_type": "execute_result"
    }
   ],
   "source": [
    "set4 = set2 | set3\n",
    "set4"
   ]
  },
  {
   "cell_type": "markdown",
   "id": "8644b987",
   "metadata": {},
   "source": [
    "## intersection()"
   ]
  },
  {
   "cell_type": "markdown",
   "id": "7c86555d",
   "metadata": {},
   "source": [
    "Показывает пересечение множеств:"
   ]
  },
  {
   "cell_type": "code",
   "execution_count": 37,
   "id": "b33279c2",
   "metadata": {
    "scrolled": false
   },
   "outputs": [
    {
     "data": {
      "text/plain": [
       "{3, 4}"
      ]
     },
     "execution_count": 37,
     "metadata": {},
     "output_type": "execute_result"
    }
   ],
   "source": [
    "myset1 = set(range(5))\n",
    "myset2 = set(range(3,10))\n",
    "myset3 = myset1.intersection(myset2)\n",
    "myset3"
   ]
  },
  {
   "cell_type": "markdown",
   "id": "3327445e",
   "metadata": {},
   "source": [
    "Также можно использовать оператор '&'"
   ]
  },
  {
   "cell_type": "markdown",
   "id": "e276f3f6",
   "metadata": {},
   "source": [
    "PS: метод возвращает новое множество. Для изменения текущего множества нужен метод intersection_update()"
   ]
  },
  {
   "cell_type": "markdown",
   "id": "a9f7fa27",
   "metadata": {},
   "source": [
    "## difference()"
   ]
  },
  {
   "cell_type": "markdown",
   "id": "df04ac8f",
   "metadata": {},
   "source": [
    "Показывает разность множеств:"
   ]
  },
  {
   "cell_type": "code",
   "execution_count": 38,
   "id": "68410c04",
   "metadata": {},
   "outputs": [
    {
     "data": {
      "text/plain": [
       "{0, 1, 2}"
      ]
     },
     "execution_count": 38,
     "metadata": {},
     "output_type": "execute_result"
    }
   ],
   "source": [
    "myset1 = set(range(5))\n",
    "myset2 = set(range(3,10))\n",
    "myset3 = myset1.difference(myset2)\n",
    "myset3"
   ]
  },
  {
   "cell_type": "markdown",
   "id": "e8a4cdfb",
   "metadata": {},
   "source": [
    "Также можно использовать оператор '-'"
   ]
  },
  {
   "cell_type": "markdown",
   "id": "3aa0101c",
   "metadata": {},
   "source": [
    "Возвращает новое множество. Для изменения текущего множества нужен метод intersection_update()"
   ]
  },
  {
   "cell_type": "markdown",
   "id": "f60f0b84",
   "metadata": {},
   "source": [
    "## symmetric_difference()"
   ]
  },
  {
   "cell_type": "markdown",
   "id": "b195a6ca",
   "metadata": {},
   "source": [
    "Возвращает сумму исходных множеств за вычетом их общих элементов"
   ]
  },
  {
   "cell_type": "code",
   "execution_count": 40,
   "id": "a3f5e04b",
   "metadata": {},
   "outputs": [
    {
     "data": {
      "text/plain": [
       "{0, 1, 2, 5, 6, 7, 8, 9}"
      ]
     },
     "execution_count": 40,
     "metadata": {},
     "output_type": "execute_result"
    }
   ],
   "source": [
    "myset1 = set(range(5))\n",
    "myset2 = set(range(3,10))\n",
    "myset3 = myset1.symmetric_difference(myset2)\n",
    "myset3"
   ]
  },
  {
   "cell_type": "markdown",
   "id": "d8ef2772",
   "metadata": {},
   "source": [
    "Также можно использовать оператор '^'"
   ]
  },
  {
   "cell_type": "markdown",
   "id": "b9203551",
   "metadata": {},
   "source": [
    "Возвращает новое множество. Для изменения текущего множества нужен метод intersection_update()"
   ]
  },
  {
   "cell_type": "markdown",
   "id": "017989b4",
   "metadata": {},
   "source": [
    "## update()"
   ]
  },
  {
   "cell_type": "markdown",
   "id": "6cfa0fa6",
   "metadata": {},
   "source": [
    "Объединяет множества inplace:"
   ]
  },
  {
   "cell_type": "code",
   "execution_count": 43,
   "id": "1c13611c",
   "metadata": {},
   "outputs": [
    {
     "name": "stdout",
     "output_type": "stream",
     "text": [
      "{0, 1, 2, 3, 4, 5, 6, 7, 8, 9}\n"
     ]
    }
   ],
   "source": [
    "myset1 = set(range(5))\n",
    "myset2 = set(range(3,10))\n",
    "myset2.update(myset1)\n",
    "print(myset2)"
   ]
  },
  {
   "cell_type": "markdown",
   "id": "df546491",
   "metadata": {},
   "source": [
    "Также можно использовать оператор '|='"
   ]
  },
  {
   "cell_type": "markdown",
   "id": "5964dc40",
   "metadata": {},
   "source": [
    "## issubset()"
   ]
  },
  {
   "cell_type": "markdown",
   "id": "90e92551",
   "metadata": {},
   "source": [
    "Определяет, является ли одно множество подмножеством другого:"
   ]
  },
  {
   "cell_type": "code",
   "execution_count": 45,
   "id": "7fc3837f",
   "metadata": {},
   "outputs": [
    {
     "data": {
      "text/plain": [
       "True"
      ]
     },
     "execution_count": 45,
     "metadata": {},
     "output_type": "execute_result"
    }
   ],
   "source": [
    "myset1 = set(range(5))\n",
    "myset2 = set(range(10))\n",
    "myset1.issubset(myset1)"
   ]
  },
  {
   "cell_type": "markdown",
   "id": "6b763457",
   "metadata": {},
   "source": [
    "Также можно использовать операторы '<' и '<='"
   ]
  },
  {
   "cell_type": "markdown",
   "id": "1d0c0de4",
   "metadata": {},
   "source": [
    "## issuperset()"
   ]
  },
  {
   "cell_type": "markdown",
   "id": "8ae34c70",
   "metadata": {},
   "source": [
    "Определяет, является ли одно множество надмножеством другого:"
   ]
  },
  {
   "cell_type": "code",
   "execution_count": 46,
   "id": "319a9ed7",
   "metadata": {},
   "outputs": [
    {
     "data": {
      "text/plain": [
       "True"
      ]
     },
     "execution_count": 46,
     "metadata": {},
     "output_type": "execute_result"
    }
   ],
   "source": [
    "myset1 = set(range(5))\n",
    "myset2 = set(range(10))\n",
    "myset2.issuperset(myset1)"
   ]
  },
  {
   "cell_type": "markdown",
   "id": "9ed29502",
   "metadata": {},
   "source": [
    "Также можно использовать операторы '>' и '>='"
   ]
  },
  {
   "cell_type": "markdown",
   "id": "550391b3",
   "metadata": {},
   "source": [
    "## isdisjoint()"
   ]
  },
  {
   "cell_type": "markdown",
   "id": "0809a0dd",
   "metadata": {},
   "source": [
    "Определяет отсутствие общих элементов у множеств:"
   ]
  },
  {
   "cell_type": "code",
   "execution_count": 47,
   "id": "8e557d19",
   "metadata": {},
   "outputs": [
    {
     "name": "stdout",
     "output_type": "stream",
     "text": [
      "False\n",
      "True\n"
     ]
    }
   ],
   "source": [
    "myset1 = set(range(5))\n",
    "myset2 = set(range(10))\n",
    "myset3 = set(range(5,10))\n",
    "print(myset2.isdisjoint(myset1))\n",
    "print(myset1.isdisjoint(myset3))"
   ]
  },
  {
   "cell_type": "markdown",
   "id": "0d30eb68",
   "metadata": {},
   "source": [
    "Также можно использовать операторы '>' и '>='"
   ]
  }
 ],
 "metadata": {
  "kernelspec": {
   "display_name": "Python 3 (ipykernel)",
   "language": "python",
   "name": "python3"
  },
  "language_info": {
   "codemirror_mode": {
    "name": "ipython",
    "version": 3
   },
   "file_extension": ".py",
   "mimetype": "text/x-python",
   "name": "python",
   "nbconvert_exporter": "python",
   "pygments_lexer": "ipython3",
   "version": "3.9.7"
  }
 },
 "nbformat": 4,
 "nbformat_minor": 5
}
