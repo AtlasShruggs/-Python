{
 "cells": [
  {
   "cell_type": "markdown",
   "id": "02f47c29",
   "metadata": {},
   "source": [
    "# Ошибки и исключения"
   ]
  },
  {
   "cell_type": "markdown",
   "id": "34846fd9",
   "metadata": {},
   "source": [
    "При возникновении ошибки в коде, код либо совсем не будет исполняться, либо не будет исполняться кусок после ошибки:"
   ]
  },
  {
   "cell_type": "code",
   "execution_count": 2,
   "id": "4582e5a9",
   "metadata": {},
   "outputs": [
    {
     "name": "stdout",
     "output_type": "stream",
     "text": [
      "5\n"
     ]
    },
    {
     "ename": "TypeError",
     "evalue": "unsupported operand type(s) for +: 'int' and 'list'",
     "output_type": "error",
     "traceback": [
      "\u001b[1;31m---------------------------------------------------------------------------\u001b[0m",
      "\u001b[1;31mTypeError\u001b[0m                                 Traceback (most recent call last)",
      "\u001b[1;32mC:\\Users\\73B5~1\\AppData\\Local\\Temp/ipykernel_51552/3132135764.py\u001b[0m in \u001b[0;36m<module>\u001b[1;34m\u001b[0m\n\u001b[0;32m      4\u001b[0m     \u001b[1;32mreturn\u001b[0m \u001b[0ma\u001b[0m \u001b[1;33m+\u001b[0m \u001b[0mb\u001b[0m\u001b[1;33m\u001b[0m\u001b[1;33m\u001b[0m\u001b[0m\n\u001b[0;32m      5\u001b[0m \u001b[1;33m\u001b[0m\u001b[0m\n\u001b[1;32m----> 6\u001b[1;33m \u001b[0mprint\u001b[0m\u001b[1;33m(\u001b[0m\u001b[0mfunc\u001b[0m\u001b[1;33m(\u001b[0m\u001b[1;36m5\u001b[0m\u001b[1;33m,\u001b[0m\u001b[1;33m[\u001b[0m\u001b[1;33m]\u001b[0m\u001b[1;33m)\u001b[0m\u001b[1;33m)\u001b[0m\u001b[1;33m\u001b[0m\u001b[1;33m\u001b[0m\u001b[0m\n\u001b[0m\u001b[0;32m      7\u001b[0m \u001b[1;33m\u001b[0m\u001b[0m\n\u001b[0;32m      8\u001b[0m \u001b[0mprint\u001b[0m\u001b[1;33m(\u001b[0m\u001b[1;36m6\u001b[0m\u001b[1;33m)\u001b[0m\u001b[1;33m\u001b[0m\u001b[1;33m\u001b[0m\u001b[0m\n",
      "\u001b[1;32mC:\\Users\\73B5~1\\AppData\\Local\\Temp/ipykernel_51552/3132135764.py\u001b[0m in \u001b[0;36mfunc\u001b[1;34m(a, b)\u001b[0m\n\u001b[0;32m      2\u001b[0m \u001b[1;33m\u001b[0m\u001b[0m\n\u001b[0;32m      3\u001b[0m \u001b[1;32mdef\u001b[0m \u001b[0mfunc\u001b[0m\u001b[1;33m(\u001b[0m\u001b[0ma\u001b[0m\u001b[1;33m,\u001b[0m\u001b[0mb\u001b[0m\u001b[1;33m)\u001b[0m\u001b[1;33m:\u001b[0m\u001b[1;33m\u001b[0m\u001b[1;33m\u001b[0m\u001b[0m\n\u001b[1;32m----> 4\u001b[1;33m     \u001b[1;32mreturn\u001b[0m \u001b[0ma\u001b[0m \u001b[1;33m+\u001b[0m \u001b[0mb\u001b[0m\u001b[1;33m\u001b[0m\u001b[1;33m\u001b[0m\u001b[0m\n\u001b[0m\u001b[0;32m      5\u001b[0m \u001b[1;33m\u001b[0m\u001b[0m\n\u001b[0;32m      6\u001b[0m \u001b[0mprint\u001b[0m\u001b[1;33m(\u001b[0m\u001b[0mfunc\u001b[0m\u001b[1;33m(\u001b[0m\u001b[1;36m5\u001b[0m\u001b[1;33m,\u001b[0m\u001b[1;33m[\u001b[0m\u001b[1;33m]\u001b[0m\u001b[1;33m)\u001b[0m\u001b[1;33m)\u001b[0m\u001b[1;33m\u001b[0m\u001b[1;33m\u001b[0m\u001b[0m\n",
      "\u001b[1;31mTypeError\u001b[0m: unsupported operand type(s) for +: 'int' and 'list'"
     ]
    }
   ],
   "source": [
    "print(5)\n",
    "\n",
    "def func(a,b):\n",
    "    return a + b\n",
    "\n",
    "print(func(5,[]))\n",
    "\n",
    "print(6)\n",
    "\n"
   ]
  },
  {
   "cell_type": "markdown",
   "id": "ff0137db",
   "metadata": {},
   "source": [
    "Пятерка распечаталась, функция объявилась, вызвалась, и в её ходе возникла ошибка, далее код не исполнялся.\n",
    "\n",
    "Если же ошибка была грамматическая, код не исполнился бы в целом:"
   ]
  },
  {
   "cell_type": "code",
   "execution_count": 4,
   "id": "98dc1451",
   "metadata": {},
   "outputs": [
    {
     "ename": "SyntaxError",
     "evalue": "invalid syntax (Temp/ipykernel_51552/1496802269.py, line 3)",
     "output_type": "error",
     "traceback": [
      "\u001b[1;36m  File \u001b[1;32m\"C:\\Users\\73B5~1\\AppData\\Local\\Temp/ipykernel_51552/1496802269.py\"\u001b[1;36m, line \u001b[1;32m3\u001b[0m\n\u001b[1;33m    def func(a,b)\u001b[0m\n\u001b[1;37m                 ^\u001b[0m\n\u001b[1;31mSyntaxError\u001b[0m\u001b[1;31m:\u001b[0m invalid syntax\n"
     ]
    }
   ],
   "source": [
    "print(5)\n",
    "\n",
    "def func(a,b)\n",
    "    return a + b\n",
    "\n",
    "print(func(5,[]))\n",
    "\n",
    "print(6)\n",
    "\n"
   ]
  },
  {
   "cell_type": "markdown",
   "id": "060d7ab0",
   "metadata": {},
   "source": [
    "Для отлавливания ошибок используют операторы try и except:"
   ]
  },
  {
   "cell_type": "code",
   "execution_count": 8,
   "id": "8858d0ae",
   "metadata": {},
   "outputs": [
    {
     "name": "stdout",
     "output_type": "stream",
     "text": [
      "5\n",
      "Error\n",
      "6\n"
     ]
    }
   ],
   "source": [
    "print(5)\n",
    "\n",
    "def func(a,b):\n",
    "    try:\n",
    "        return a + b\n",
    "    except:\n",
    "        return 'Error'\n",
    "        \n",
    "\n",
    "print(func(5,[]))\n",
    "\n",
    "print(6)\n",
    "\n"
   ]
  },
  {
   "cell_type": "markdown",
   "id": "8efcef33",
   "metadata": {},
   "source": [
    "Блок try-except можно и использовать на отлавливание конкретных ошибок:\n"
   ]
  },
  {
   "cell_type": "code",
   "execution_count": 9,
   "id": "9f307c99",
   "metadata": {},
   "outputs": [
    {
     "name": "stdout",
     "output_type": "stream",
     "text": [
      "Error\n"
     ]
    }
   ],
   "source": [
    "def func(a,b):\n",
    "    try:\n",
    "        return a + b\n",
    "    except TypeError:\n",
    "        return 'Error'\n",
    "        \n",
    "\n",
    "print(func(5,[]))"
   ]
  },
  {
   "cell_type": "markdown",
   "id": "90ba591a",
   "metadata": {},
   "source": [
    "Каждый раз при вызове такой конструкции как бы создается временная переменная, которая с помощью функции isinstance() проверяет, является ли эта переменная с ошибкой экземпляром указанного класса ошибок (в примере TypeError).\n",
    "\n",
    "В except можно передать список ошибок-исключений:"
   ]
  },
  {
   "cell_type": "code",
   "execution_count": 12,
   "id": "25a8fd9d",
   "metadata": {},
   "outputs": [
    {
     "name": "stdout",
     "output_type": "stream",
     "text": [
      "Error\n",
      "2.0\n",
      "Error\n"
     ]
    }
   ],
   "source": [
    "def func(a,b):\n",
    "    try:\n",
    "        return a / b\n",
    "    except (TypeError, ZeroDivisionError):\n",
    "        return 'Error'\n",
    "        \n",
    "\n",
    "print(func(5,[]))\n",
    "print(func(6, 3))\n",
    "print(func(5, 0))"
   ]
  },
  {
   "cell_type": "markdown",
   "id": "1ea90acf",
   "metadata": {},
   "source": [
    "При этом except может быть сколь угодно много:"
   ]
  },
  {
   "cell_type": "code",
   "execution_count": 18,
   "id": "b23a894a",
   "metadata": {},
   "outputs": [
    {
     "name": "stdout",
     "output_type": "stream",
     "text": [
      "Foking types!\n",
      "None\n",
      "Foking zeroes!\n",
      "None\n"
     ]
    }
   ],
   "source": [
    "def func(a,b):\n",
    "    try:\n",
    "        return a / b\n",
    "    except TypeError:\n",
    "        print('Foking types!')\n",
    "    except ZeroDivisionError:       \n",
    "        print('Foking zeroes!')\n",
    "        \n",
    "\n",
    "print(func(5,[]))\n",
    "print(func(5, 0))"
   ]
  },
  {
   "cell_type": "markdown",
   "id": "de4ab66d",
   "metadata": {},
   "source": [
    "Также в эту конструкцию можно добавить блоки __else__ и __finally__: \n",
    "- блок __else__ позволит нам задать определенную команду, которую мы захотим выполнить, если ошибка НЕ найдена\n",
    "- блок __finally__ позволит нам задать команду, которая будет исполнена в любом случае, вне зависимости от того, была ли найдена ошибка:"
   ]
  },
  {
   "cell_type": "code",
   "execution_count": 16,
   "id": "bf0afed5",
   "metadata": {},
   "outputs": [
    {
     "name": "stdout",
     "output_type": "stream",
     "text": [
      "Error\n",
      "Finally!\n",
      "\n",
      "Result is 2.0\n",
      "Finally!\n",
      "\n",
      "Error\n",
      "Finally!\n"
     ]
    }
   ],
   "source": [
    "def func(a,b):\n",
    "    try:\n",
    "        result = a / b\n",
    "    except (TypeError, ZeroDivisionError):\n",
    "        print('Error')\n",
    "    else:\n",
    "        print(f'Result is {result}')\n",
    "    finally:\n",
    "        print('Finally!')\n",
    "        \n",
    "\n",
    "func(5,[])\n",
    "print()\n",
    "func(6, 3)\n",
    "print()\n",
    "func(5, 0)"
   ]
  },
  {
   "cell_type": "markdown",
   "id": "d06fa677",
   "metadata": {},
   "source": [
    "Если же мы хотим распечатать название ошибки и её класс - конструкция снова немного видоизменится:"
   ]
  },
  {
   "cell_type": "code",
   "execution_count": 17,
   "id": "9550cfc4",
   "metadata": {},
   "outputs": [
    {
     "name": "stdout",
     "output_type": "stream",
     "text": [
      "unsupported operand type(s) for /: 'int' and 'list'\n",
      "<class 'TypeError'>\n",
      "None\n",
      "division by zero\n",
      "<class 'ZeroDivisionError'>\n",
      "None\n"
     ]
    }
   ],
   "source": [
    "def func(a,b):\n",
    "    try:\n",
    "        return a / b\n",
    "    except (TypeError, ZeroDivisionError) as e:\n",
    "        print(e)\n",
    "        print(type(e))\n",
    "        \n",
    "\n",
    "print(func(5,[]))\n",
    "print(func(5, 0))"
   ]
  },
  {
   "cell_type": "markdown",
   "id": "66fa2c1b",
   "metadata": {},
   "source": [
    "## Бросить ошибку"
   ]
  },
  {
   "cell_type": "markdown",
   "id": "e3fc5996",
   "metadata": {},
   "source": [
    "Кроме того, что ошибки можно отлавливать, ошибки можно также искусственно создавать или \"бросать\".\n",
    "Сделано это для того, чтобы выявлять некорректные значения, которые код принимает/возвращает, однако интерпретатор реагирует на них корректно.\n",
    "\n",
    "Делаем мы это с помощью метода __raise__\n",
    "\n",
    "Например:"
   ]
  },
  {
   "cell_type": "code",
   "execution_count": 23,
   "id": "e59aedf8",
   "metadata": {},
   "outputs": [],
   "source": [
    "def greet(name):\n",
    "    if name[0].isupper():\n",
    "        return f'Hello {name}'\n",
    "    else:\n",
    "        raise ValueError(f'{name}: name is not correct') # название ошибки + текст, который хотим вывести"
   ]
  },
  {
   "cell_type": "code",
   "execution_count": 21,
   "id": "7594ab68",
   "metadata": {},
   "outputs": [
    {
     "name": "stdout",
     "output_type": "stream",
     "text": [
      "Hello Вася\n"
     ]
    }
   ],
   "source": [
    "print(greet('Вася'))"
   ]
  },
  {
   "cell_type": "code",
   "execution_count": 22,
   "id": "3a0f34cb",
   "metadata": {},
   "outputs": [
    {
     "ename": "ValueError",
     "evalue": "иван: name is not correct",
     "output_type": "error",
     "traceback": [
      "\u001b[1;31m---------------------------------------------------------------------------\u001b[0m",
      "\u001b[1;31mValueError\u001b[0m                                Traceback (most recent call last)",
      "\u001b[1;32mC:\\Users\\73B5~1\\AppData\\Local\\Temp/ipykernel_51552/1740655258.py\u001b[0m in \u001b[0;36m<module>\u001b[1;34m\u001b[0m\n\u001b[1;32m----> 1\u001b[1;33m \u001b[0mprint\u001b[0m\u001b[1;33m(\u001b[0m\u001b[0mgreet\u001b[0m\u001b[1;33m(\u001b[0m\u001b[1;34m'иван'\u001b[0m\u001b[1;33m)\u001b[0m\u001b[1;33m)\u001b[0m\u001b[1;33m\u001b[0m\u001b[1;33m\u001b[0m\u001b[0m\n\u001b[0m",
      "\u001b[1;32mC:\\Users\\73B5~1\\AppData\\Local\\Temp/ipykernel_51552/1932564545.py\u001b[0m in \u001b[0;36mgreet\u001b[1;34m(name)\u001b[0m\n\u001b[0;32m      3\u001b[0m         \u001b[1;32mreturn\u001b[0m \u001b[1;34mf'Hello {name}'\u001b[0m\u001b[1;33m\u001b[0m\u001b[1;33m\u001b[0m\u001b[0m\n\u001b[0;32m      4\u001b[0m     \u001b[1;32melse\u001b[0m\u001b[1;33m:\u001b[0m\u001b[1;33m\u001b[0m\u001b[1;33m\u001b[0m\u001b[0m\n\u001b[1;32m----> 5\u001b[1;33m         \u001b[1;32mraise\u001b[0m \u001b[0mValueError\u001b[0m\u001b[1;33m(\u001b[0m\u001b[1;34mf'{name}: name is not correct'\u001b[0m\u001b[1;33m)\u001b[0m\u001b[1;33m\u001b[0m\u001b[1;33m\u001b[0m\u001b[0m\n\u001b[0m",
      "\u001b[1;31mValueError\u001b[0m: иван: name is not correct"
     ]
    }
   ],
   "source": [
    "print(greet('иван'))"
   ]
  },
  {
   "cell_type": "markdown",
   "id": "f152eba2",
   "metadata": {},
   "source": [
    "Попробуем объединить с try-except:"
   ]
  },
  {
   "cell_type": "code",
   "execution_count": 24,
   "id": "28b4f291",
   "metadata": {},
   "outputs": [
    {
     "name": "stdout",
     "output_type": "stream",
     "text": [
      "Enter your name: никита\n",
      "Please, try again\n",
      "Enter your name: маша\n",
      "Please, try again\n",
      "Enter your name: Гоша\n",
      "Hello Гоша\n"
     ]
    }
   ],
   "source": [
    "while True: # создаем бесконечный цикл\n",
    "    try:\n",
    "        print(greet(input('Enter your name: '))) # пробуем запустить функцию от введенного имени\n",
    "    except ValueError:\n",
    "        print('Please, try again') # если встретим ошибку - выведем сообщение и повторим цикл сначада\n",
    "    else: \n",
    "        break  # если всё хорошо - прервем цикл"
   ]
  },
  {
   "cell_type": "markdown",
   "id": "e393a709",
   "metadata": {},
   "source": [
    "Также мы можем создать свой тип ошибок. Для этого надо создать наследуемый от Exception класс:"
   ]
  },
  {
   "cell_type": "code",
   "execution_count": 25,
   "id": "78a558b1",
   "metadata": {},
   "outputs": [],
   "source": [
    "class WrongName(Exception):\n",
    "    pass                     # передавать ничего не нужно, так как класс Eception обладает всеми необходимыми характеристиками"
   ]
  },
  {
   "cell_type": "markdown",
   "id": "973f21a0",
   "metadata": {},
   "source": [
    "Попробуем запустить наш код еще раз, поменяв название ошибки:"
   ]
  },
  {
   "cell_type": "code",
   "execution_count": 26,
   "id": "a7336dcc",
   "metadata": {},
   "outputs": [
    {
     "name": "stdout",
     "output_type": "stream",
     "text": [
      "Enter your name: вася\n",
      "Please, try again\n",
      "Enter your name: петя\n",
      "Please, try again\n",
      "Enter your name: Никита\n",
      "Hello Никита\n"
     ]
    }
   ],
   "source": [
    "def greet1(name):\n",
    "    if name[0].isupper():\n",
    "        return f'Hello {name}'\n",
    "    else:\n",
    "        raise WrongName(f'{name}: name is not correct') # название ошибки + текст, который хотим вывести\n",
    "        \n",
    "        \n",
    "while True: # создаем бесконечный цикл\n",
    "    try:\n",
    "        print(greet1(input('Enter your name: '))) # пробуем запустить функцию от введенного имени\n",
    "    except WrongName:\n",
    "        print('Please, try again') # если встретим ошибку - выведем сообщение и повторим цикл сначада\n",
    "    else: \n",
    "        break  # если всё хорошо - прервем цикл    и    "
   ]
  },
  {
   "cell_type": "code",
   "execution_count": 27,
   "id": "7f53823d",
   "metadata": {},
   "outputs": [
    {
     "ename": "WrongName",
     "evalue": "яков: name is not correct",
     "output_type": "error",
     "traceback": [
      "\u001b[1;31m---------------------------------------------------------------------------\u001b[0m",
      "\u001b[1;31mWrongName\u001b[0m                                 Traceback (most recent call last)",
      "\u001b[1;32mC:\\Users\\73B5~1\\AppData\\Local\\Temp/ipykernel_51552/1968651662.py\u001b[0m in \u001b[0;36m<module>\u001b[1;34m\u001b[0m\n\u001b[1;32m----> 1\u001b[1;33m \u001b[0mprint\u001b[0m\u001b[1;33m(\u001b[0m\u001b[0mgreet1\u001b[0m\u001b[1;33m(\u001b[0m\u001b[1;34m'яков'\u001b[0m\u001b[1;33m)\u001b[0m\u001b[1;33m)\u001b[0m\u001b[1;33m\u001b[0m\u001b[1;33m\u001b[0m\u001b[0m\n\u001b[0m",
      "\u001b[1;32mC:\\Users\\73B5~1\\AppData\\Local\\Temp/ipykernel_51552/2455326586.py\u001b[0m in \u001b[0;36mgreet1\u001b[1;34m(name)\u001b[0m\n\u001b[0;32m      3\u001b[0m         \u001b[1;32mreturn\u001b[0m \u001b[1;34mf'Hello {name}'\u001b[0m\u001b[1;33m\u001b[0m\u001b[1;33m\u001b[0m\u001b[0m\n\u001b[0;32m      4\u001b[0m     \u001b[1;32melse\u001b[0m\u001b[1;33m:\u001b[0m\u001b[1;33m\u001b[0m\u001b[1;33m\u001b[0m\u001b[0m\n\u001b[1;32m----> 5\u001b[1;33m         \u001b[1;32mraise\u001b[0m \u001b[0mWrongName\u001b[0m\u001b[1;33m(\u001b[0m\u001b[1;34mf'{name}: name is not correct'\u001b[0m\u001b[1;33m)\u001b[0m \u001b[1;31m# название ошибки + текст, который хотим вывести\u001b[0m\u001b[1;33m\u001b[0m\u001b[1;33m\u001b[0m\u001b[0m\n\u001b[0m\u001b[0;32m      6\u001b[0m \u001b[1;33m\u001b[0m\u001b[0m\n\u001b[0;32m      7\u001b[0m \u001b[1;33m\u001b[0m\u001b[0m\n",
      "\u001b[1;31mWrongName\u001b[0m: яков: name is not correct"
     ]
    }
   ],
   "source": [
    "print(greet1('яков'))"
   ]
  },
  {
   "cell_type": "code",
   "execution_count": 33,
   "id": "a3af2acc",
   "metadata": {},
   "outputs": [],
   "source": [
    "class NonPositiveError(Exception):\n",
    "    pass\n",
    "class PositiveList(list):\n",
    "    self = []\n",
    "    def append(self, x):\n",
    "        if x > 0:\n",
    "            m = super(PositiveList, self).append(x)\n",
    "        else:\n",
    "            raise NonPositiveError\n",
    "\n",
    "\n",
    "\n"
   ]
  },
  {
   "cell_type": "code",
   "execution_count": 34,
   "id": "c7214419",
   "metadata": {},
   "outputs": [
    {
     "ename": "NonPositiveError",
     "evalue": "",
     "output_type": "error",
     "traceback": [
      "\u001b[1;31m---------------------------------------------------------------------------\u001b[0m",
      "\u001b[1;31mNonPositiveError\u001b[0m                          Traceback (most recent call last)",
      "\u001b[1;32mC:\\Users\\73B5~1\\AppData\\Local\\Temp/ipykernel_51552/3108485580.py\u001b[0m in \u001b[0;36m<module>\u001b[1;34m\u001b[0m\n\u001b[0;32m      1\u001b[0m \u001b[0mlst1\u001b[0m \u001b[1;33m=\u001b[0m \u001b[0mPositiveList\u001b[0m\u001b[1;33m(\u001b[0m\u001b[1;33m)\u001b[0m\u001b[1;33m\u001b[0m\u001b[1;33m\u001b[0m\u001b[0m\n\u001b[0;32m      2\u001b[0m \u001b[0mlst1\u001b[0m\u001b[1;33m.\u001b[0m\u001b[0mappend\u001b[0m\u001b[1;33m(\u001b[0m\u001b[1;36m2\u001b[0m\u001b[1;33m)\u001b[0m\u001b[1;33m\u001b[0m\u001b[1;33m\u001b[0m\u001b[0m\n\u001b[1;32m----> 3\u001b[1;33m \u001b[0mlst1\u001b[0m\u001b[1;33m.\u001b[0m\u001b[0mappend\u001b[0m\u001b[1;33m(\u001b[0m\u001b[1;33m-\u001b[0m\u001b[1;36m1\u001b[0m\u001b[1;33m)\u001b[0m\u001b[1;33m\u001b[0m\u001b[1;33m\u001b[0m\u001b[0m\n\u001b[0m",
      "\u001b[1;32mC:\\Users\\73B5~1\\AppData\\Local\\Temp/ipykernel_51552/4077483274.py\u001b[0m in \u001b[0;36mappend\u001b[1;34m(self, x)\u001b[0m\n\u001b[0;32m      7\u001b[0m             \u001b[0mm\u001b[0m \u001b[1;33m=\u001b[0m \u001b[0msuper\u001b[0m\u001b[1;33m(\u001b[0m\u001b[0mPositiveList\u001b[0m\u001b[1;33m,\u001b[0m \u001b[0mself\u001b[0m\u001b[1;33m)\u001b[0m\u001b[1;33m.\u001b[0m\u001b[0mappend\u001b[0m\u001b[1;33m(\u001b[0m\u001b[0mx\u001b[0m\u001b[1;33m)\u001b[0m\u001b[1;33m\u001b[0m\u001b[1;33m\u001b[0m\u001b[0m\n\u001b[0;32m      8\u001b[0m         \u001b[1;32melse\u001b[0m\u001b[1;33m:\u001b[0m\u001b[1;33m\u001b[0m\u001b[1;33m\u001b[0m\u001b[0m\n\u001b[1;32m----> 9\u001b[1;33m             \u001b[1;32mraise\u001b[0m \u001b[0mNonPositiveError\u001b[0m\u001b[1;33m\u001b[0m\u001b[1;33m\u001b[0m\u001b[0m\n\u001b[0m\u001b[0;32m     10\u001b[0m \u001b[1;33m\u001b[0m\u001b[0m\n\u001b[0;32m     11\u001b[0m \u001b[1;33m\u001b[0m\u001b[0m\n",
      "\u001b[1;31mNonPositiveError\u001b[0m: "
     ]
    }
   ],
   "source": [
    "lst1 = PositiveList()\n",
    "lst1.append(2)\n",
    "lst1.append(-1)"
   ]
  }
 ],
 "metadata": {
  "kernelspec": {
   "display_name": "Python 3 (ipykernel)",
   "language": "python",
   "name": "python3"
  },
  "language_info": {
   "codemirror_mode": {
    "name": "ipython",
    "version": 3
   },
   "file_extension": ".py",
   "mimetype": "text/x-python",
   "name": "python",
   "nbconvert_exporter": "python",
   "pygments_lexer": "ipython3",
   "version": "3.9.7"
  }
 },
 "nbformat": 4,
 "nbformat_minor": 5
}
