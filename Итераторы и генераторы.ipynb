{
 "cells": [
  {
   "cell_type": "markdown",
   "id": "67643cda",
   "metadata": {},
   "source": [
    "# Итераторы и генераторы"
   ]
  },
  {
   "cell_type": "markdown",
   "id": "dd01014d",
   "metadata": {},
   "source": [
    "## Итераторы"
   ]
  },
  {
   "cell_type": "markdown",
   "id": "4a859dca",
   "metadata": {},
   "source": [
    "__Итератор__ - некая конструкция, которая перебирает элементы некоего объекта.\n",
    "\n",
    "Цикл for - это не что иное, как итератор.\n",
    "\n",
    "Чтобы проитерировать некий объект (перебрать его элементы) у объекта (класса) должен быть метод __iter__, который возвращает нам итератор.\n",
    "\n",
    "Для того, чтобы объект был итератором, у него должен быть метод __next__, который возвращает нам следующий элемент.\n",
    "\n",
    "Итератор определяется функцией iter():"
   ]
  },
  {
   "cell_type": "code",
   "execution_count": 6,
   "id": "8af44653",
   "metadata": {},
   "outputs": [
    {
     "name": "stdout",
     "output_type": "stream",
     "text": [
      "1\n",
      "2\n",
      "3\n",
      "4\n",
      "5\n",
      "\n",
      "0\n",
      "-1\n",
      "-2\n",
      "-3\n"
     ]
    }
   ],
   "source": [
    "lst1 = [1, 2, 3, 4, 5]\n",
    "book = {'Фредерик Бегбедер' : 'Любовь живет три года',\n",
    "        'Джон Толкиен' : 'Властелин колец',\n",
    "        'Кен Кизи' : 'Пролетая над гнездом кукушки'}\n",
    "tpl = (0, -1, -2, -3)\n",
    "str1 = 'Hello'\n",
    "\n",
    "for el in lst1:      # перебираем элементы с помощью for\n",
    "    print(el)\n",
    "print()\n",
    "for el in tpl:       # перебираем элементы с помощью for\n",
    "    print(el)"
   ]
  },
  {
   "cell_type": "code",
   "execution_count": 18,
   "id": "4ae7350f",
   "metadata": {},
   "outputs": [
    {
     "name": "stdout",
     "output_type": "stream",
     "text": [
      "1\n",
      "2\n",
      "3\n",
      "4\n",
      "5\n",
      "\n",
      "Фредерик Бегбедер\n",
      "Джон Толкиен\n",
      "Кен Кизи\n"
     ]
    }
   ],
   "source": [
    "iter_lst1 = iter(lst1)\n",
    "while True:                         #создаем бесконечный цикл\n",
    "    try:                            # используем try-except на вылавливание ошибки \"конец итератора\"\n",
    "        print(next(iter_lst1))\n",
    "    except StopIteration:           # когда ошибка вылавливается - цикл останавливается\n",
    "        break\n",
    "        \n",
    "print()\n",
    "        \n",
    "iter_book = iter(book)\n",
    "\n",
    "while True:\n",
    "    try:\n",
    "        print(next(iter_book))\n",
    "    except StopIteration:\n",
    "        break"
   ]
  },
  {
   "cell_type": "markdown",
   "id": "ecab5db2",
   "metadata": {},
   "source": [
    "Чтобы создать новый итератор, который подчиняется нашим правилам, мы можем создать новый класс:"
   ]
  },
  {
   "cell_type": "code",
   "execution_count": 51,
   "id": "6d2ed818",
   "metadata": {},
   "outputs": [],
   "source": [
    "import random\n",
    "class RandomNum:\n",
    "    def __init__(self, total, stop, start=0): # инициализируем итератор; по умолчанию необходимо передать только кол-во итераций\n",
    "        self.total = total                # и правую границу заданного числового отрезка, из которого мы хотим выбирать число\n",
    "        self.i = 0                          # счетчик\n",
    "        self.start = start\n",
    "        self.stop = stop\n",
    "        \n",
    "    def __next__(self):                    # инициализируем функцию next(); __next__(self) = next(self)\n",
    "        if self.total > self.i:\n",
    "            self.i += 1\n",
    "            return random.randint(self.start,self.stop)\n",
    "        else:\n",
    "            raise StopIteration('Max amount of elements')\n",
    "            \n",
    "x = RandomNum(5,6)"
   ]
  },
  {
   "cell_type": "code",
   "execution_count": 52,
   "id": "ac0bd2d1",
   "metadata": {},
   "outputs": [
    {
     "name": "stdout",
     "output_type": "stream",
     "text": [
      "3\n",
      "3\n",
      "2\n",
      "2\n",
      "6\n"
     ]
    },
    {
     "ename": "StopIteration",
     "evalue": "Max amount of elements",
     "output_type": "error",
     "traceback": [
      "\u001b[1;31m---------------------------------------------------------------------------\u001b[0m",
      "\u001b[1;31mStopIteration\u001b[0m                             Traceback (most recent call last)",
      "\u001b[1;32mC:\\Users\\73B5~1\\AppData\\Local\\Temp/ipykernel_55132/594884004.py\u001b[0m in \u001b[0;36m<module>\u001b[1;34m\u001b[0m\n\u001b[0;32m      4\u001b[0m \u001b[0mprint\u001b[0m\u001b[1;33m(\u001b[0m\u001b[0mnext\u001b[0m\u001b[1;33m(\u001b[0m\u001b[0mx\u001b[0m\u001b[1;33m)\u001b[0m\u001b[1;33m)\u001b[0m\u001b[1;33m\u001b[0m\u001b[1;33m\u001b[0m\u001b[0m\n\u001b[0;32m      5\u001b[0m \u001b[0mprint\u001b[0m\u001b[1;33m(\u001b[0m\u001b[0mnext\u001b[0m\u001b[1;33m(\u001b[0m\u001b[0mx\u001b[0m\u001b[1;33m)\u001b[0m\u001b[1;33m)\u001b[0m\u001b[1;33m\u001b[0m\u001b[1;33m\u001b[0m\u001b[0m\n\u001b[1;32m----> 6\u001b[1;33m \u001b[0mprint\u001b[0m\u001b[1;33m(\u001b[0m\u001b[0mnext\u001b[0m\u001b[1;33m(\u001b[0m\u001b[0mx\u001b[0m\u001b[1;33m)\u001b[0m\u001b[1;33m)\u001b[0m\u001b[1;33m\u001b[0m\u001b[1;33m\u001b[0m\u001b[0m\n\u001b[0m",
      "\u001b[1;32mC:\\Users\\73B5~1\\AppData\\Local\\Temp/ipykernel_55132/2089944501.py\u001b[0m in \u001b[0;36m__next__\u001b[1;34m(self)\u001b[0m\n\u001b[0;32m     12\u001b[0m             \u001b[1;32mreturn\u001b[0m \u001b[0mrandom\u001b[0m\u001b[1;33m.\u001b[0m\u001b[0mrandint\u001b[0m\u001b[1;33m(\u001b[0m\u001b[0mself\u001b[0m\u001b[1;33m.\u001b[0m\u001b[0mstart\u001b[0m\u001b[1;33m,\u001b[0m\u001b[0mself\u001b[0m\u001b[1;33m.\u001b[0m\u001b[0mstop\u001b[0m\u001b[1;33m)\u001b[0m\u001b[1;33m\u001b[0m\u001b[1;33m\u001b[0m\u001b[0m\n\u001b[0;32m     13\u001b[0m         \u001b[1;32melse\u001b[0m\u001b[1;33m:\u001b[0m\u001b[1;33m\u001b[0m\u001b[1;33m\u001b[0m\u001b[0m\n\u001b[1;32m---> 14\u001b[1;33m             \u001b[1;32mraise\u001b[0m \u001b[0mStopIteration\u001b[0m\u001b[1;33m(\u001b[0m\u001b[1;34m'Max amount of elements'\u001b[0m\u001b[1;33m)\u001b[0m\u001b[1;33m\u001b[0m\u001b[1;33m\u001b[0m\u001b[0m\n\u001b[0m\u001b[0;32m     15\u001b[0m \u001b[1;33m\u001b[0m\u001b[0m\n\u001b[0;32m     16\u001b[0m \u001b[0mx\u001b[0m \u001b[1;33m=\u001b[0m \u001b[0mRandomNum\u001b[0m\u001b[1;33m(\u001b[0m\u001b[1;36m5\u001b[0m\u001b[1;33m,\u001b[0m\u001b[1;36m6\u001b[0m\u001b[1;33m)\u001b[0m\u001b[1;33m\u001b[0m\u001b[1;33m\u001b[0m\u001b[0m\n",
      "\u001b[1;31mStopIteration\u001b[0m: Max amount of elements"
     ]
    }
   ],
   "source": [
    "print(next(x))\n",
    "print(next(x))\n",
    "print(next(x))\n",
    "print(next(x))\n",
    "print(next(x))\n",
    "print(next(x))"
   ]
  },
  {
   "cell_type": "markdown",
   "id": "ca1f7ec3",
   "metadata": {},
   "source": [
    "Однако этого недостаточно для того, чтобы передать наш итератор в цикл for, как например мы передаем range():"
   ]
  },
  {
   "cell_type": "code",
   "execution_count": 46,
   "id": "af492a3f",
   "metadata": {},
   "outputs": [
    {
     "ename": "TypeError",
     "evalue": "'RandomNum' object is not iterable",
     "output_type": "error",
     "traceback": [
      "\u001b[1;31m---------------------------------------------------------------------------\u001b[0m",
      "\u001b[1;31mTypeError\u001b[0m                                 Traceback (most recent call last)",
      "\u001b[1;32mC:\\Users\\73B5~1\\AppData\\Local\\Temp/ipykernel_55132/182190360.py\u001b[0m in \u001b[0;36m<module>\u001b[1;34m\u001b[0m\n\u001b[1;32m----> 1\u001b[1;33m \u001b[1;32mfor\u001b[0m \u001b[0mi\u001b[0m \u001b[1;32min\u001b[0m \u001b[0mRandomNum\u001b[0m\u001b[1;33m(\u001b[0m\u001b[1;36m10\u001b[0m\u001b[1;33m,\u001b[0m \u001b[1;36m10\u001b[0m\u001b[1;33m)\u001b[0m\u001b[1;33m:\u001b[0m\u001b[1;33m\u001b[0m\u001b[1;33m\u001b[0m\u001b[0m\n\u001b[0m\u001b[0;32m      2\u001b[0m     \u001b[0mprint\u001b[0m\u001b[1;33m(\u001b[0m\u001b[0mi\u001b[0m\u001b[1;33m)\u001b[0m\u001b[1;33m\u001b[0m\u001b[1;33m\u001b[0m\u001b[0m\n",
      "\u001b[1;31mTypeError\u001b[0m: 'RandomNum' object is not iterable"
     ]
    }
   ],
   "source": [
    "for i in RandomNum(10, 10):\n",
    "    print(i)"
   ]
  },
  {
   "cell_type": "markdown",
   "id": "1139bb12",
   "metadata": {},
   "source": [
    "Появляется ошибка, что объект не итерируем.\n",
    "\n",
    "Для того, чтобы это исправить, нам надо снова влезть в код нашего класса и добавить туда функцию iter():"
   ]
  },
  {
   "cell_type": "code",
   "execution_count": 47,
   "id": "37f60d2a",
   "metadata": {},
   "outputs": [],
   "source": [
    "import random\n",
    "class RandomNumIterable:                   # для наглядности создадим новый класс\n",
    "    def __init__(self, total, stop, start=0): # инициализируем итератор; по умолчанию необходимо передать только кол-во итераций\n",
    "        self.total = total                # и правую границу заданного числового отрезка, из которого мы хотим выбирать число\n",
    "        self.i = 0                          # счетчик\n",
    "        self.start = start\n",
    "        self.stop = stop\n",
    "        \n",
    "    def __next__(self):                    # инициализируем функцию next(); __next__(self) = next(self)\n",
    "        if self.total > self.i:\n",
    "            self.i += 1\n",
    "            return random.randint(self.start,self.stop)\n",
    "        else:\n",
    "            raise StopIteration\n",
    "            \n",
    "    def __iter__(self):         # добавляем функцию __iter__, которая будет возвращать self (не что иное, как следующий)\n",
    "        return(self)                                                                 # элемент итератора\n",
    "            "
   ]
  },
  {
   "cell_type": "code",
   "execution_count": 53,
   "id": "0b821388",
   "metadata": {},
   "outputs": [
    {
     "name": "stdout",
     "output_type": "stream",
     "text": [
      "3\n",
      "4\n",
      "2\n",
      "5\n",
      "6\n",
      "4\n",
      "1\n",
      "9\n",
      "9\n",
      "2\n"
     ]
    }
   ],
   "source": [
    "for i in RandomNumIterable(10, 10):\n",
    "    print(i)"
   ]
  },
  {
   "cell_type": "markdown",
   "id": "4322c53c",
   "metadata": {},
   "source": [
    "## Генераторы"
   ]
  },
  {
   "cell_type": "markdown",
   "id": "415a26ab",
   "metadata": {},
   "source": [
    "__Генератор__ - некая конструкция, которая генерирует некий итерируемый объект.\n",
    "\n",
    "В отличие от итератора, генератор - это не класс, а функция, и создавать его значительно проще.\n",
    "\n",
    "Важной особенностью такой функции является использование __yield__ вместо __return__: таким образом после возврата 1 значения функция не прекратит работу.\n",
    "\n",
    "При этом мы не просто несколько раз исполняем функцию - мы возвращаем результат наружу и при этом запоминаем текущее состояние функции (например, мы не начинаем цикл __for__ заново.\n",
    "\n",
    "Однако, если в теле функции есть еще какие-то действия после __yield__, и другой команды на вывод значения нет - код не исполнится"
   ]
  },
  {
   "cell_type": "code",
   "execution_count": 81,
   "id": "7f3f23e6",
   "metadata": {},
   "outputs": [],
   "source": [
    "def random_num(k, stop, start = 0):\n",
    "    for i in range(k):\n",
    "        yield random.randint(start, stop)\n",
    "    return 'Stop It Now!'                  #объяснено ниже по тексту"
   ]
  },
  {
   "cell_type": "code",
   "execution_count": 68,
   "id": "c44514f5",
   "metadata": {},
   "outputs": [
    {
     "name": "stdout",
     "output_type": "stream",
     "text": [
      "<generator object random_num at 0x000001199A80A7B0>\n"
     ]
    }
   ],
   "source": [
    "print(random_num(5,3))  # при этом если попробовать распечатать элементы - на экран выведется лишь сам объект"
   ]
  },
  {
   "cell_type": "code",
   "execution_count": 77,
   "id": "37c08277",
   "metadata": {},
   "outputs": [
    {
     "name": "stdout",
     "output_type": "stream",
     "text": [
      "36\n",
      "25\n",
      "4\n",
      "9\n",
      "0\n"
     ]
    }
   ],
   "source": [
    "for el in random_num(5,9):\n",
    "    print(el**2)"
   ]
  },
  {
   "cell_type": "markdown",
   "id": "80f9fe6f",
   "metadata": {},
   "source": [
    "При этом если передать в функцию __return__ с неким сообщением - мы сможем вызвать ошибку StopIteration с этим сообщением:"
   ]
  },
  {
   "cell_type": "code",
   "execution_count": 80,
   "id": "f09dbe83",
   "metadata": {},
   "outputs": [
    {
     "name": "stdout",
     "output_type": "stream",
     "text": [
      "0\n",
      "2\n",
      "3\n"
     ]
    },
    {
     "ename": "StopIteration",
     "evalue": "Stop It Now!",
     "output_type": "error",
     "traceback": [
      "\u001b[1;31m---------------------------------------------------------------------------\u001b[0m",
      "\u001b[1;31mStopIteration\u001b[0m                             Traceback (most recent call last)",
      "\u001b[1;32mC:\\Users\\73B5~1\\AppData\\Local\\Temp/ipykernel_55132/1928430372.py\u001b[0m in \u001b[0;36m<module>\u001b[1;34m\u001b[0m\n\u001b[0;32m      3\u001b[0m \u001b[0mprint\u001b[0m\u001b[1;33m(\u001b[0m\u001b[0mnext\u001b[0m\u001b[1;33m(\u001b[0m\u001b[0mgen\u001b[0m\u001b[1;33m)\u001b[0m\u001b[1;33m)\u001b[0m\u001b[1;33m\u001b[0m\u001b[1;33m\u001b[0m\u001b[0m\n\u001b[0;32m      4\u001b[0m \u001b[0mprint\u001b[0m\u001b[1;33m(\u001b[0m\u001b[0mnext\u001b[0m\u001b[1;33m(\u001b[0m\u001b[0mgen\u001b[0m\u001b[1;33m)\u001b[0m\u001b[1;33m)\u001b[0m\u001b[1;33m\u001b[0m\u001b[1;33m\u001b[0m\u001b[0m\n\u001b[1;32m----> 5\u001b[1;33m \u001b[0mprint\u001b[0m\u001b[1;33m(\u001b[0m\u001b[0mnext\u001b[0m\u001b[1;33m(\u001b[0m\u001b[0mgen\u001b[0m\u001b[1;33m)\u001b[0m\u001b[1;33m)\u001b[0m\u001b[1;33m\u001b[0m\u001b[1;33m\u001b[0m\u001b[0m\n\u001b[0m",
      "\u001b[1;31mStopIteration\u001b[0m: Stop It Now!"
     ]
    }
   ],
   "source": [
    "gen = random_num(3,5)\n",
    "print(next(gen))\n",
    "print(next(gen))\n",
    "print(next(gen))\n",
    "print(next(gen))"
   ]
  },
  {
   "cell_type": "markdown",
   "id": "dbf26753",
   "metadata": {},
   "source": [
    "Пример класса, построенного на генераторе:"
   ]
  },
  {
   "cell_type": "code",
   "execution_count": 89,
   "id": "5e4c0f2b",
   "metadata": {},
   "outputs": [],
   "source": [
    "def mul2(x):\n",
    "    return x % 2 == 0\n",
    "\n",
    "def mul3(x):\n",
    "    return x % 3 == 0\n",
    "\n",
    "def mul5(x):\n",
    "    return x % 5 == 0\n",
    "\n",
    "\n",
    "\n",
    "class multifilter:\n",
    "    def judge_half(pos, neg):\n",
    "        return pos >= neg\n",
    "\n",
    "    def judge_any(pos, neg):\n",
    "        return pos >= 1\n",
    "\n",
    "    def judge_all(pos, neg):\n",
    "        return neg == 0\n",
    "\n",
    "    def __init__(self, iterable, *funcs, judge=judge_any):\n",
    "        self.iterable = iterable\n",
    "        self.funcs = funcs\n",
    "        self.judge = judge\n",
    "        \n",
    "\n",
    "    def __iter__(self):\n",
    "        for el in self.iterable:\n",
    "            pos, neg = 0, 0\n",
    "            pos = sum([f(el) for f in self.funcs])\n",
    "            neg = len(self.funcs) - pos\n",
    "            if self.judge(pos, neg):\n",
    "                yield el\n",
    "            else:\n",
    "                continue\n",
    "\n",
    "\n",
    "\n",
    "\n"
   ]
  },
  {
   "cell_type": "code",
   "execution_count": 98,
   "id": "892e323f",
   "metadata": {},
   "outputs": [
    {
     "name": "stdout",
     "output_type": "stream",
     "text": [
      "30\n",
      "60\n",
      "90\n",
      "120\n"
     ]
    }
   ],
   "source": [
    "lst = list(range(5,125)) \n",
    "for i in multifilter(lst,mul2, mul3, mul5, judge=multifilter.judge_all):\n",
    "    print(i)"
   ]
  },
  {
   "cell_type": "code",
   "execution_count": 99,
   "id": "28191367",
   "metadata": {},
   "outputs": [],
   "source": [
    "def primes(k):\n",
    "    for i in range(2, k+1):\n",
    "        k = 0\n",
    "        for m in range(1, i+1):\n",
    "            if i % m == 0:\n",
    "                k += 1\n",
    "        if k == 2:\n",
    "            yield i"
   ]
  },
  {
   "cell_type": "code",
   "execution_count": 114,
   "id": "60fc7708",
   "metadata": {},
   "outputs": [
    {
     "name": "stdout",
     "output_type": "stream",
     "text": [
      "В диапазоне 0 - 5000 670 простых чисел\n",
      "В диапазоне 5000 - 10000 560 простых чисел\n",
      "В диапазоне 10000 - 15000 525 простых чисел\n",
      "В диапазоне 15000 - 20000 508 простых чисел\n",
      "В диапазоне 20000 - 25000 500 простых чисел\n",
      "В диапазоне 25000 - 30000 483 простых чисел\n",
      "В диапазоне 30000 - 35000 487 простых чисел\n",
      "В диапазоне 35000 - 40000 471 простых чисел\n",
      "В диапазоне 40000 - 45000 472 простых чисел\n",
      "В диапазоне 45000 - 50000 458 простых чисел\n",
      "В диапазоне 50000 - 55000 457 простых чисел\n",
      "В диапазоне 55000 - 60000 467 простых чисел\n",
      "В диапазоне 60000 - 65000 436 простых чисел\n",
      "В диапазоне 65000 - 70000 442 простых чисел\n",
      "В диапазоне 70000 - 75000 458 простых чисел\n",
      "В диапазоне 75000 - 80000 444 простых чисел\n",
      "В диапазоне 80000 - 85000 440 простых чисел\n",
      "В диапазоне 85000 - 90000 436 простых чисел\n",
      "В диапазоне 90000 - 95000 444 простых чисел\n",
      "В диапазоне 95000 - 100000 435 простых чисел\n",
      "В диапазоне 100000 - 105000 432 простых чисел\n",
      "В диапазоне 105000 - 110000 429 простых чисел\n",
      "В диапазоне 110000 - 115000 418 простых чисел\n",
      "В диапазоне 115000 - 120000 430 простых чисел\n",
      "В диапазоне 120000 - 125000 433 простых чисел\n",
      "В диапазоне 125000 - 130000 425 простых чисел\n",
      "В диапазоне 130000 - 135000 417 простых чисел\n",
      "В диапазоне 135000 - 140000 434 простых чисел\n",
      "В диапазоне 140000 - 145000 412 простых чисел\n",
      "В диапазоне 145000 - 150000 426 простых чисел\n",
      "В диапазоне 150000 - 155000 424 простых чисел\n",
      "В диапазоне 155000 - 160000 411 простых чисел\n",
      "В диапазоне 160000 - 165000 410 простых чисел\n",
      "В диапазоне 165000 - 170000 404 простых чисел\n",
      "В диапазоне 170000 - 175000 419 простых чисел\n",
      "В диапазоне 175000 - 180000 426 простых чисел\n",
      "В диапазоне 180000 - 185000 403 простых чисел\n",
      "В диапазоне 185000 - 190000 425 простых чисел\n",
      "В диапазоне 190000 - 195000 403 простых чисел\n",
      "В диапазоне 195000 - 200000 411 простых чисел\n",
      "В диапазоне 200000 - 205000 397 простых чисел\n",
      "В диапазоне 205000 - 210000 426 простых чисел\n",
      "В диапазоне 210000 - 215000 406 простых чисел\n",
      "В диапазоне 215000 - 220000 405 простых чисел\n",
      "В диапазоне 220000 - 225000 402 простых чисел\n",
      "В диапазоне 225000 - 230000 417 простых чисел\n",
      "В диапазоне 230000 - 235000 396 простых чисел\n",
      "В диапазоне 235000 - 240000 388 простых чисел\n",
      "В диапазоне 240000 - 245000 412 простых чисел\n",
      "В диапазоне 245000 - 250000 411 простых чисел\n",
      "В диапазоне 250000 - 255000 394 простых чисел\n",
      "В диапазоне 255000 - 260000 399 простых чисел\n",
      "В диапазоне 260000 - 265000 393 простых чисел\n",
      "В диапазоне 265000 - 270000 412 простых чисел\n",
      "В диапазоне 270000 - 275000 396 простых чисел\n",
      "В диапазоне 275000 - 280000 394 простых чисел\n",
      "В диапазоне 280000 - 285000 411 простых чисел\n",
      "В диапазоне 285000 - 290000 381 простых чисел\n",
      "В диапазоне 290000 - 295000 392 простых чисел\n",
      "В диапазоне 295000 - 300000 381 простых чисел\n",
      "В диапазоне 300000 - 305000 412 простых чисел\n",
      "В диапазоне 305000 - 310000 391 простых чисел\n",
      "В диапазоне 310000 - 315000 396 простых чисел\n"
     ]
    },
    {
     "ename": "KeyboardInterrupt",
     "evalue": "",
     "output_type": "error",
     "traceback": [
      "\u001b[1;31m---------------------------------------------------------------------------\u001b[0m",
      "\u001b[1;31mKeyboardInterrupt\u001b[0m                         Traceback (most recent call last)",
      "\u001b[1;32mC:\\Users\\73B5~1\\AppData\\Local\\Temp/ipykernel_55132/3649610334.py\u001b[0m in \u001b[0;36m<module>\u001b[1;34m\u001b[0m\n\u001b[0;32m     22\u001b[0m \u001b[1;33m\u001b[0m\u001b[0m\n\u001b[0;32m     23\u001b[0m \u001b[1;33m\u001b[0m\u001b[0m\n\u001b[1;32m---> 24\u001b[1;33m \u001b[1;32mfor\u001b[0m \u001b[0mi\u001b[0m \u001b[1;32min\u001b[0m \u001b[0mprimes\u001b[0m\u001b[1;33m(\u001b[0m\u001b[1;33m)\u001b[0m\u001b[1;33m:\u001b[0m\u001b[1;33m\u001b[0m\u001b[1;33m\u001b[0m\u001b[0m\n\u001b[0m\u001b[0;32m     25\u001b[0m     \u001b[0mprint\u001b[0m\u001b[1;33m(\u001b[0m\u001b[1;33m)\u001b[0m\u001b[1;33m\u001b[0m\u001b[1;33m\u001b[0m\u001b[0m\n",
      "\u001b[1;32mC:\\Users\\73B5~1\\AppData\\Local\\Temp/ipykernel_55132/3649610334.py\u001b[0m in \u001b[0;36mprimes\u001b[1;34m()\u001b[0m\n\u001b[0;32m      5\u001b[0m         \u001b[0mk\u001b[0m \u001b[1;33m=\u001b[0m \u001b[1;36m0\u001b[0m\u001b[1;33m\u001b[0m\u001b[1;33m\u001b[0m\u001b[0m\n\u001b[0;32m      6\u001b[0m         \u001b[1;32mfor\u001b[0m \u001b[0mm\u001b[0m \u001b[1;32min\u001b[0m \u001b[0mrange\u001b[0m\u001b[1;33m(\u001b[0m\u001b[1;36m1\u001b[0m\u001b[1;33m,\u001b[0m \u001b[0mi\u001b[0m\u001b[1;33m+\u001b[0m\u001b[1;36m1\u001b[0m\u001b[1;33m)\u001b[0m\u001b[1;33m:\u001b[0m\u001b[1;33m\u001b[0m\u001b[1;33m\u001b[0m\u001b[0m\n\u001b[1;32m----> 7\u001b[1;33m             \u001b[1;32mif\u001b[0m \u001b[0mi\u001b[0m \u001b[1;33m%\u001b[0m \u001b[0mm\u001b[0m \u001b[1;33m==\u001b[0m \u001b[1;36m0\u001b[0m\u001b[1;33m:\u001b[0m\u001b[1;33m\u001b[0m\u001b[1;33m\u001b[0m\u001b[0m\n\u001b[0m\u001b[0;32m      8\u001b[0m                 \u001b[0mk\u001b[0m \u001b[1;33m+=\u001b[0m \u001b[1;36m1\u001b[0m\u001b[1;33m\u001b[0m\u001b[1;33m\u001b[0m\u001b[0m\n\u001b[0;32m      9\u001b[0m                 \u001b[1;32mif\u001b[0m \u001b[0mk\u001b[0m \u001b[1;33m>\u001b[0m \u001b[1;36m3\u001b[0m\u001b[1;33m:\u001b[0m\u001b[1;33m\u001b[0m\u001b[1;33m\u001b[0m\u001b[0m\n",
      "\u001b[1;31mKeyboardInterrupt\u001b[0m: "
     ]
    }
   ],
   "source": [
    "def primes():\n",
    "    i = 2\n",
    "    counter = 1\n",
    "    while True:\n",
    "        k = 0\n",
    "        for m in range(1, i+1):\n",
    "            if i % m == 0:\n",
    "                k += 1\n",
    "                if k > 3:\n",
    "                    break\n",
    "        if k == 2:\n",
    "          #  yield i\n",
    "            counter += 1\n",
    "        if i % 5000 == 0:\n",
    "            print(f'В диапазоне {i - 5000} - {i} {counter} простых чисел')\n",
    "            counter = 0\n",
    "        i += 1  \n",
    "        \n",
    "\n",
    "\n",
    "\n",
    "\n",
    "\n",
    "for i in primes():\n",
    "    print()"
   ]
  },
  {
   "cell_type": "code",
   "execution_count": null,
   "id": "3c34f679",
   "metadata": {},
   "outputs": [],
   "source": []
  }
 ],
 "metadata": {
  "kernelspec": {
   "display_name": "Python 3 (ipykernel)",
   "language": "python",
   "name": "python3"
  },
  "language_info": {
   "codemirror_mode": {
    "name": "ipython",
    "version": 3
   },
   "file_extension": ".py",
   "mimetype": "text/x-python",
   "name": "python",
   "nbconvert_exporter": "python",
   "pygments_lexer": "ipython3",
   "version": "3.9.7"
  }
 },
 "nbformat": 4,
 "nbformat_minor": 5
}
